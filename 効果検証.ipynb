{
  "cells": [
    {
      "cell_type": "markdown",
      "metadata": {
        "id": "view-in-github",
        "colab_type": "text"
      },
      "source": [
        "<a href=\"https://colab.research.google.com/github/koheikobayashi/machine-learning/blob/main/%E5%8A%B9%E6%9E%9C%E6%A4%9C%E8%A8%BC.ipynb\" target=\"_parent\"><img src=\"https://colab.research.google.com/assets/colab-badge.svg\" alt=\"Open In Colab\"/></a>"
      ]
    },
    {
      "cell_type": "markdown",
      "id": "4ca7e4a2",
      "metadata": {
        "id": "4ca7e4a2"
      },
      "source": [
        "# A/B テスト"
      ]
    },
    {
      "cell_type": "markdown",
      "id": "d1b774e6",
      "metadata": {
        "id": "d1b774e6"
      },
      "source": [
        "A/Bテストとは、2つのバージョン(AとB)を比較してどちらがより効果的であるかを判定するための実験手法です。主にマーケティングやウェブサイトのデザイン変更に伴う効果測定に使用されます。理論的には仮説検定の手法を用いて、2つのサンプルの平均値が統計的に有意な差を持つかを分析します。例えば、帰無仮説を\"バージョンAとBに効果の差はない\"と設定し、有意水準(通常は5%)で検定します。数式としては、平均値の差が標準誤差の範囲内かを確認するために$t$検定などが用いられます。数式はインラインでは$t = \\frac{\\bar{x}_1 - \\bar{x}_2}{s_p \\sqrt{\\frac{1}{n_1} + \\frac{1}{n_2}}}$となり、ブロック数式では$$t = \\frac{\\bar{x}_1 - \\bar{x}_2}{s_p \\sqrt{\\frac{1}{n_1} + \\frac{1}{n_2}}}$$です。ここで$s_p$はプールされた標準偏差、$\\bar{x}_1$と$\\bar{x}_2$はそれぞれのサンプルの平均、$n_1$と$n_2$はサンプルサイズです。"
      ]
    },
    {
      "cell_type": "code",
      "execution_count": 1,
      "id": "35b78ec5",
      "metadata": {
        "id": "35b78ec5",
        "colab": {
          "base_uri": "https://localhost:8080/"
        },
        "outputId": "baff3bb5-e1df-46cc-921c-ce4ba5ceace8"
      },
      "outputs": [
        {
          "output_type": "stream",
          "name": "stdout",
          "text": [
            "Mean of Group A: 0.5059808015534486\n",
            "Mean of Group B: 0.5582012970747837\n",
            "Pooled Standard Deviation: 0.10265078622761412\n",
            "t-statistic: -3.5971927597496047\n",
            "P-value: 0.00040627960203626394\n",
            "結果: 有意な差があります。\n"
          ]
        }
      ],
      "source": [
        "# 必要なライブラリをインポート\n",
        "import numpy as np\n",
        "from scipy import stats\n",
        "\n",
        "# サンプルデータを準備\n",
        "np.random.seed(0)\n",
        "# グループAのデータ（例: コンバージョン率）\n",
        "data_A = np.random.normal(loc=0.5, scale=0.1, size=100)\n",
        "# グループBのデータ（例: コンバージョン率）\n",
        "data_B = np.random.normal(loc=0.55, scale=0.1, size=100)\n",
        "\n",
        "# グループAの平均\n",
        "mean_A = np.mean(data_A)\n",
        "print('Mean of Group A:', mean_A)\n",
        "\n",
        "# グループBの平均\n",
        "mean_B = np.mean(data_B)\n",
        "print('Mean of Group B:', mean_B)\n",
        "\n",
        "# プールされた標準偏差の計算\n",
        "def pooled_std(data1, data2):\n",
        "    n1, n2 = len(data1), len(data2)\n",
        "    std1, std2 = np.std(data1, ddof=1), np.std(data2, ddof=1)\n",
        "    return np.sqrt(((n1 - 1) * std1**2 + (n2 - 1) * std2**2) / (n1 + n2 - 2))\n",
        "\n",
        "s_p = pooled_std(data_A, data_B)\n",
        "print('Pooled Standard Deviation:', s_p)\n",
        "\n",
        "# t-statisticの計算\n",
        "t_stat = (mean_A - mean_B) / (s_p * np.sqrt(1/len(data_A) + 1/len(data_B)))\n",
        "print('t-statistic:', t_stat)\n",
        "\n",
        "# P値の計算\n",
        "p_value = stats.t.cdf(t_stat, df=2*(len(data_A)-1)) * 2\n",
        "print('P-value:', p_value)\n",
        "\n",
        "# P値が0.05未満であれば帰無仮説を棄却\n",
        "if p_value < 0.05:\n",
        "    print('結果: 有意な差があります。')\n",
        "else:\n",
        "    print('結果: 有意な差はありません。')"
      ]
    },
    {
      "cell_type": "markdown",
      "id": "e5d55e64",
      "metadata": {
        "id": "e5d55e64"
      },
      "source": [
        "# 差分の差法（DID）"
      ]
    },
    {
      "cell_type": "markdown",
      "id": "fe9900a2",
      "metadata": {
        "id": "fe9900a2"
      },
      "source": [
        "差分の差法（Difference-in-Differences, DID）は、政策などの介入が与える効果を検証するための統計的手法です。この手法は、介入前後の処置群と対照群の結果の差を用いて、その差の差（つまり、二つの差分の差）を計算することで、介入効果を推定します。\n",
        "\n",
        "数式としては、次のように表現されます。インラインでは $DID = (Y_{T,after} - Y_{T,before}) - (Y_{C,after} - Y_{C,before})$ です。\n",
        "\n",
        "ブロック数式として:\n",
        "$$\n",
        "DID = (Y_{T,after} - Y_{T,before}) - (Y_{C,after} - Y_{C,before})\n",
        "$$\n",
        "ここで、$Y_{T,after}$ は介入後の処置群の平均、$Y_{T,before}$ は介入前の処置群の平均、$Y_{C,after}$ は介入後の対照群の平均、$Y_{C,before}$ は介入前の対照群の平均です。\n",
        "\n",
        "DIDの主な用途は、自然実験のような設定で、処置がランダムに割り当てられるのが難しい状況における処置効果の推定です。「Pythonで学ぶ効果検証入門」では、この方法を用いてデータの分析と介入効果の推定を行い、効果検証の実践的な手法を学ぶことができます。"
      ]
    },
    {
      "cell_type": "code",
      "execution_count": 2,
      "id": "84a5ca82",
      "metadata": {
        "id": "84a5ca82",
        "colab": {
          "base_uri": "https://localhost:8080/"
        },
        "outputId": "9e47a53a-c685-4909-9c3b-a65ffe63536f"
      },
      "outputs": [
        {
          "output_type": "stream",
          "name": "stdout",
          "text": [
            "処置群 介入前の平均: 5.059808015534485\n",
            "処置群 介入後の平均: 7.082012970747838\n",
            "対照群 介入前の平均: 4.940767739440337\n",
            "対照群 介入後の平均: 5.0032032934540895\n",
            "DIDによる介入効果の推定: 1.9597694011996003\n"
          ]
        }
      ],
      "source": [
        "# 差分の差法 (DID) を実装するためのPythonコードです。仮想データを使用して、介入の効果をシミュレートします。\n",
        "\n",
        "import numpy as np\n",
        "import pandas as pd\n",
        "\n",
        "# 仮想データを生成する\n",
        "np.random.seed(0)\n",
        "\n",
        "# サンプル数\n",
        "n_samples = 100\n",
        "\n",
        "# 処置群の介入前と介入後のデータを生成\n",
        "Y_T_before = np.random.normal(loc=5.0, scale=1.0, size=n_samples)\n",
        "Y_T_after = np.random.normal(loc=7.0, scale=1.0, size=n_samples)  # 介入による効果あり\n",
        "\n",
        "# 対照群の介入前と介入後のデータを生成\n",
        "Y_C_before = np.random.normal(loc=5.0, scale=1.0, size=n_samples)\n",
        "Y_C_after = np.random.normal(loc=5.2, scale=1.0, size=n_samples)  # 介入効果なし\n",
        "\n",
        "# 各グループの平均値を計算\n",
        "mean_Y_T_before = np.mean(Y_T_before)\n",
        "mean_Y_T_after = np.mean(Y_T_after)\n",
        "mean_Y_C_before = np.mean(Y_C_before)\n",
        "mean_Y_C_after = np.mean(Y_C_after)\n",
        "\n",
        "print('処置群 介入前の平均:', mean_Y_T_before)\n",
        "print('処置群 介入後の平均:', mean_Y_T_after)\n",
        "print('対照群 介入前の平均:', mean_Y_C_before)\n",
        "print('対照群 介入後の平均:', mean_Y_C_after)\n",
        "\n",
        "# DIDを計算\n",
        "DID = (mean_Y_T_after - mean_Y_T_before) - (mean_Y_C_after - mean_Y_C_before)\n",
        "\n",
        "print('DIDによる介入効果の推定:', DID)\n",
        "\n",
        "# このコードでは、処置群と対照群のそれぞれの介入前後のデータの平均を計算し、その差をとることでDIDを求めます。\n",
        "# 仮想的な介入の効果は、処置群の介入後の平均が介入前から増加していることから推測されます。\n"
      ]
    },
    {
      "cell_type": "markdown",
      "id": "3e8584b3",
      "metadata": {
        "id": "3e8584b3"
      },
      "source": [
        "# 回帰不連続デザイン（RDD）"
      ]
    },
    {
      "cell_type": "markdown",
      "id": "d7b302e6",
      "metadata": {
        "id": "d7b302e6"
      },
      "source": [
        "回帰不連続デザイン（Regression Discontinuity Design, RDD）は、観察データから因果関係を推測するための手法の一つです。特定のカットオフポイントを中心に対処群と対照群のアウトカムを比較することで、介入の効果を推定します。このカットオフポイントによって得られるもので典型的な例が試験の合否や政府補助の支給資格などがあります。\n",
        "\n",
        "例えば、テストのスコアが60点以上で合格となるとき、59点の人と61点の人のいわゆる「人為的な」違いは小さい（ほぼ無視できる）ですが、この条件によって処置有無が明確に分かれます。このような状況で、処置の因果効果を推定するのがRDDです。\n",
        "\n",
        "理論的には$x_i$を独立変数（変数）がカットオフ点$c$を基にした変数$x_i - c$の関数として説明し、$y_i$が従属変数（アウトカム）であり、断続性がない場合、$E[y_i|x_i]$は$x_i$の滑らかな関数と仮定します。\n",
        "\n",
        "**数式インライン**: $E[y_i|x_i] = \u0007lpha + \beta \\cdot (x_i - c) + \\epsilon_i$。\n",
        "\n",
        "**ブロック数式**:\n",
        "$$\n",
        "E[y_i|x_i] = \begin{cases} \u0007lpha + \beta \\cdot (x_i - c) + \\epsilon_i, & \\text{if } x_i \\geq c \\\\ \u0007lpha + \\gamma \\cdot (x_i - c) + \\epsilon_i, & \\text{if } x_i < c \\end{cases}\n",
        "$$\n",
        "\n",
        "RDDはPythonで学ぶ効果検証入門の中で、データサイエンス分野における因果推論の手法の一つとして紹介され、データ分析における実証的因果関係の推定に使用されることがあります。"
      ]
    },
    {
      "cell_type": "code",
      "execution_count": 3,
      "id": "2ae38f30",
      "metadata": {
        "id": "2ae38f30",
        "colab": {
          "base_uri": "https://localhost:8080/",
          "height": 958
        },
        "outputId": "ccba85e8-c7fb-4515-ccd7-9b8dcc13e015"
      },
      "outputs": [
        {
          "output_type": "display_data",
          "data": {
            "text/plain": [
              "<Figure size 640x480 with 1 Axes>"
            ],
            "image/png": "[encoded data removed]"
          },
          "metadata": {}
        },
        {
          "output_type": "stream",
          "name": "stdout",
          "text": [
            "                            OLS Regression Results                            \n",
            "==============================================================================\n",
            "Dep. Variable:                      y   R-squared:                       0.974\n",
            "Model:                            OLS   Adj. R-squared:                  0.974\n",
            "Method:                 Least Squares   F-statistic:                 1.237e+04\n",
            "Date:                Thu, 13 Feb 2025   Prob (F-statistic):               0.00\n",
            "Time:                        05:49:58   Log-Likelihood:                -3706.9\n",
            "No. Observations:                1000   AIC:                             7422.\n",
            "Df Residuals:                     996   BIC:                             7441.\n",
            "Df Model:                           3                                         \n",
            "Covariance Type:            nonrobust                                         \n",
            "===============================================================================\n",
            "                  coef    std err          t      P>|t|      [0.025      0.975]\n",
            "-------------------------------------------------------------------------------\n",
            "const         130.8876      0.923    141.840      0.000     129.077     132.698\n",
            "x               1.9895      0.031     64.224      0.000       1.929       2.050\n",
            "treatment       6.6786      1.261      5.295      0.000       4.203       9.154\n",
            "interaction    -0.0609      0.043     -1.412      0.158      -0.146       0.024\n",
            "==============================================================================\n",
            "Omnibus:                        0.240   Durbin-Watson:                   1.993\n",
            "Prob(Omnibus):                  0.887   Jarque-Bera (JB):                0.308\n",
            "Skew:                          -0.029   Prob(JB):                        0.857\n",
            "Kurtosis:                       2.937   Cond. No.                         155.\n",
            "==============================================================================\n",
            "\n",
            "Notes:\n",
            "[1] Standard Errors assume that the covariance matrix of the errors is correctly specified.\n",
            "Estimated treatment effect: 6.678606412047733\n"
          ]
        }
      ],
      "source": [
        "# 必要なライブラリのインポート\n",
        "import numpy as np\n",
        "import pandas as pd\n",
        "import statsmodels.api as sm\n",
        "import matplotlib.pyplot as plt\n",
        "\n",
        "# サンプルデータの作成\n",
        "data_size = 1000\n",
        "np.random.seed(42)\n",
        "\n",
        "# 独立変数x\n",
        "x = np.random.uniform(0, 100, data_size)\n",
        "\n",
        "# カットオフポイント\n",
        "cutoff = 50\n",
        "\n",
        "# 処置効果（cutoffより大きい場合に効果があると仮定）\n",
        "treatment_effect = 5\n",
        "\n",
        "# ノイズの生成\n",
        "epsilon = np.random.normal(0, 10, data_size)\n",
        "\n",
        "# 従属変数yの生成\n",
        "y = 30 + 2 * x + epsilon\n",
        "\n",
        "# カットオフを基にした処置効果の追加\n",
        "y[x >= cutoff] += treatment_effect\n",
        "\n",
        "# DataFrameの作成\n",
        "df = pd.DataFrame({'x': x, 'y': y})\n",
        "\n",
        "# 散布図の描画\n",
        "plt.scatter(df['x'], df['y'], alpha=0.5)\n",
        "plt.axvline(cutoff, color='red', linestyle='--')\n",
        "plt.title('Scatter plot with cutoff')\n",
        "plt.xlabel('Independent variable x')\n",
        "plt.ylabel('Dependent variable y')\n",
        "plt.show()\n",
        "\n",
        "# RDDのためのモデル設定\n",
        "# フィッティング用デザイン行列の作成\n",
        "X = sm.add_constant(df['x'] - cutoff)\n",
        "X['treatment'] = (df['x'] >= cutoff).astype(int)\n",
        "X = X.assign(interaction=X['treatment'] * (df['x'] - cutoff))\n",
        "\n",
        "# RDD回帰分析の実行\n",
        "model = sm.OLS(df['y'], X).fit()\n",
        "\n",
        "# 結果の出力\n",
        "print(model.summary())\n",
        "\n",
        "# 変数の内部の状態を確認\n",
        "effect_estimate = model.params['treatment']\n",
        "print(f'Estimated treatment effect: {effect_estimate}')"
      ]
    },
    {
      "cell_type": "markdown",
      "id": "9a250f6d",
      "metadata": {
        "id": "9a250f6d"
      },
      "source": [
        "# 反実仮想"
      ]
    },
    {
      "cell_type": "markdown",
      "id": "601e8733",
      "metadata": {
        "id": "601e8733"
      },
      "source": [
        "反実仮想（Counterfactuals）は、因果推論において重要な概念で、主に介入がなかった場合の状態や結果を示すために用いられます。因果推論では、特定の要因が結果にどれだけの影響を与えたのかを理解するために、真の介入（実際に行われた介入）と反実仮想（介入が行われなかった場合の仮想の結果）を比較します。例えば、ある薬を服用したことによる治療効果を評価する際に、その薬を服用しなかった場合の健康状態を推測し、それと比較することが求められます。\n",
        "\n",
        "数式で表現する場合、通常、反実仮想結果を示すために\\( Y_{0} \\)や\\( Y_{1} \\)を用います。ここで、\\( Y \\)は結果変数を示し、下付きの\\(_0\\)や\\(_1\\)は、それぞれ介入が行われなかった場合（反実仮想）と行われた場合（実際の結果）を示します。因果効果は次のように表現されます：\n",
        "\n",
        "$$\n",
        "        ext{Causal Effect} = Y_{1} - Y_{0}\n",
        "$$\n",
        "\n",
        "反実仮想は、経済学、社会科学、医療研究、マーケティング分析など多くの分野で、特に因果関係の特定や効果測定のために使用されます。"
      ]
    },
    {
      "cell_type": "code",
      "execution_count": 4,
      "id": "e1e7957e",
      "metadata": {
        "id": "e1e7957e",
        "colab": {
          "base_uri": "https://localhost:8080/"
        },
        "outputId": "24b34074-a580-4329-f7ec-02959b8ceb09"
      },
      "outputs": [
        {
          "output_type": "stream",
          "name": "stdout",
          "text": [
            "Actual Results: {'before': 20, 'after': 30}\n",
            "Counterfactual Results: {'without_intervention': 22}\n",
            "Causal Effect: 8\n"
          ]
        }
      ],
      "source": [
        "# Pythonで反実仮想の基礎を理解するための例\n",
        "\n",
        "# 仮想データを生成\n",
        "# ある介入前後の結果を表現するデータ\n",
        "actual_results = {'before': 20, 'after': 30}\n",
        "\n",
        "# 反実仮想の結果\n",
        "# 介入が行われなかったと仮定した場合の予想結果\n",
        "counterfactual_results = {'without_intervention': 22}\n",
        "\n",
        "# 実施した介入の効果を測定\n",
        "# 実際の介入後の結果 から 反実仮想の結果 を引く\n",
        "causal_effect = actual_results['after'] - counterfactual_results['without_intervention']\n",
        "\n",
        "# 各変数の出力\n",
        "print('Actual Results:', actual_results)\n",
        "print('Counterfactual Results:', counterfactual_results)\n",
        "print('Causal Effect:', causal_effect)\n",
        "\n",
        "# 出力が以下のようになれば、反実仮想と実際の結果の差から介入の因果効果を測定していることを示す\n",
        "# Actual Results: {'before': 20, 'after': 30}\n",
        "# Counterfactual Results: {'without_intervention': 22}\n",
        "# Causal Effect: 8"
      ]
    },
    {
      "cell_type": "markdown",
      "id": "bdc10fdc",
      "metadata": {
        "id": "bdc10fdc"
      },
      "source": [
        "# Feedback Loop"
      ]
    },
    {
      "cell_type": "markdown",
      "id": "1293b3e2",
      "metadata": {
        "id": "1293b3e2"
      },
      "source": [
        "Feedback Loopは、システムにおいて出力が直接入力に影響を与える循環的なプロセスを指します。この循環はシステムの挙動を調整し、最終的な結果に影響を及ぼす可能性があります。フィードバックループは、変化を追跡し、戦略やアルゴリズムを調整するための重要な理論です。特にデータサイエンスや機械学習の分野では、予測モデルのトレーニングや評価に関わる場面で利用されます。通常、フィードバックには正のフィードバックと負のフィードバックがあり、システムを助長するか安定化させる役割を果たします。\n",
        "\n",
        "Pythonで学ぶ効果検証入門では、フィードバックループは実験結果の評価や、学習アルゴリズムの改善のための重要な要素として考えられています。例えば、予測モデルを改善するためには、ユーザのフィードバックをリサーチし、そのフィードバックに基づいてモデルを再トレーニングすることで得られる利点を具体例で解説しています。\n",
        "\n",
        "数式でフィードバックを表現すると、一般的には次のようになります。例えば、システムの状態を$S(t)$とし、フィードバック関数を$F(S)$とすると、次の時間ステップの状態は$S(t+1) = S(t) + F(S(t))$で表されます。\n",
        "\n",
        "また、フィードバックループとしてシステムが収束する状況を考えるとき、状態は複数の時間ステップを経て安定化し、次のように一般化されることもあります：\n",
        "$$S(t+n) = S(t) + \\sum_{i=1}^{n} F(S(t+i-1))$$"
      ]
    },
    {
      "cell_type": "code",
      "execution_count": 5,
      "id": "8ee2d73d",
      "metadata": {
        "id": "8ee2d73d",
        "colab": {
          "base_uri": "https://localhost:8080/"
        },
        "outputId": "f26c10be-6084-4e66-9e35-57dc008d3ad2"
      },
      "outputs": [
        {
          "output_type": "stream",
          "name": "stdout",
          "text": [
            "フィードバックループ後の状態: [10, 11.0, 12.1, 13.309999999999999, 14.640999999999998, 16.105099999999997, 17.715609999999998, 19.487170999999996, 21.435888099999996, 23.579476909999997, 25.937424600999996]\n"
          ]
        }
      ],
      "source": [
        "# フィードバックループをシミュレーションするPythonコード\n",
        "# システムの初期状態\n",
        "S = [10]\n",
        "# フィードバック関数の定義（ここでは単純な例として、前の状態の10%を増加）\n",
        "F = lambda S_t: 0.1 * S_t\n",
        "\n",
        "# 10ステップのフィードバックプロセスをシミュレート\n",
        "for t in range(10):\n",
        "    # 新しい状態を計算してリストに追加\n",
        "    new_state = S[-1] + F(S[-1])\n",
        "    S.append(new_state)\n",
        "\n",
        "# 結果の表示\n",
        "print(\"フィードバックループ後の状態:\", S)\n",
        "\n",
        "# 結果\n",
        "# - 初期状態S(0) = 10から始まり、毎ステップ10%増加した新しい状態がSに追加されます。\n",
        "# フィードバックプロセスが進むにつれ、状態が次第に変化していく様子がリストに記録され、出力されます。"
      ]
    },
    {
      "cell_type": "markdown",
      "id": "1b600016",
      "metadata": {
        "id": "1b600016"
      },
      "source": [
        "# 平均処置効果"
      ]
    },
    {
      "cell_type": "markdown",
      "id": "b636b2cd",
      "metadata": {
        "id": "b636b2cd"
      },
      "source": [
        "### 平均処置効果 (ATE) の解説\n",
        "\n",
        "平均処置効果 (Average Treatment Effect, ATE)は、統計学、特に因果推論において、処置（介入・治療）が結果に与える平均的な影響を測定する指標です。ATEは、対象集団全体に対する処置の平均的な効果を表します。\n",
        "\n",
        "#### 理論\n",
        "因果効果を推定するためには、処置群と対照群を比較する必要があります。ATEは以下の数式で定義されます。\n",
        "\n",
        "インライン数式: $ATE = E[Y(1) - Y(0)]$\n",
        "\n",
        "ブロック数式:\n",
        "\n",
        "$$\n",
        "ATE = E[Y(1) - Y(0)]\n",
        "$$\n",
        "\n",
        "ここで、$Y(1)$は個人が処置を受けた場合の結果、$Y(0)$は受けていない場合の結果、$E[\\cdot]$は期待値を表します。\n",
        "\n",
        "#### 使用用途\n",
        "平均処置効果は政策評価、医療分野での治療効果の評価、マーケティングにおけるキャンペーン効果の分析などに使用されます。"
      ]
    },
    {
      "cell_type": "code",
      "execution_count": 6,
      "id": "6160dc70",
      "metadata": {
        "id": "6160dc70",
        "colab": {
          "base_uri": "https://localhost:8080/"
        },
        "outputId": "ce3f50b6-7b25-4bc9-c68b-af125e06463b"
      },
      "outputs": [
        {
          "output_type": "stream",
          "name": "stdout",
          "text": [
            "処置群の平均: 5.019332055822326\n",
            "対照群の平均: 3.070836237249156\n",
            "平均処置効果 (ATE): 1.9484958185731696\n"
          ]
        }
      ],
      "source": [
        "# ATEをシンプルに推定するPythonコード例\n",
        "# 一部のパラメータは仮定に基づいています\n",
        "import numpy as np\n",
        "\n",
        "# 処置群と対照群のデータを擬似的に生成\n",
        "np.random.seed(42)\n",
        "treatment_group = np.random.normal(loc=5.0, scale=1.0, size=1000)  # 処置を受けた群\n",
        "control_group = np.random.normal(loc=3.0, scale=1.0, size=1000)    # 処置を受けていない群\n",
        "\n",
        "# 平均処置効果を計算\n",
        "ATE = np.mean(treatment_group) - np.mean(control_group)\n",
        "\n",
        "# 結果の出力\n",
        "print('処置群の平均:', np.mean(treatment_group))\n",
        "print('対照群の平均:', np.mean(control_group))\n",
        "print('平均処置効果 (ATE):', ATE)\n",
        "\n",
        "# 上記のテストデータでは、処置によって結果が平均して2だけ増加するようなデータを生成しています。"
      ]
    },
    {
      "cell_type": "markdown",
      "id": "4bece226",
      "metadata": {
        "id": "4bece226"
      },
      "source": [
        "# 期待値"
      ]
    },
    {
      "cell_type": "markdown",
      "id": "56a9a3d8",
      "metadata": {
        "id": "56a9a3d8"
      },
      "source": [
        "期待値とは、確率論において、ある確率変数が取り得る値の平均を表す数値のことです。直感的には、確率変数が大量に発生したときの平均値と考えることができます。期待値は確率変数 \\( X \\) に対する期待される値の加重平均として計算され、理論的な予測や意思決定における重要な要素となります。数式では、離散型の確率変数に対して期待値は次のように定義されます：\n",
        "\n",
        "\\( E(X) = \\sum_{i} x_i P(x_i) \\)\n",
        "\n",
        "ここで、\\( x_i \\) は取り得る値で、\\( P(x_i) \\) はその確率です。連続型の確率変数の場合は、積分を用いて計算されます：\n",
        "\n",
        "$$\n",
        "E(X) = \\int_{-\\infty}^{\\infty} x f(x) \\, dx\n",
        "$$\n",
        "\n",
        "Pythonで学ぶ効果検証入門では、期待値はデータの効果を予測したり、様々な改善策の評価を行ったりするための基本的なツールとして使用されます。特に、ABテストやその他の実験デザインの結果を評価するために役立ちます。"
      ]
    },
    {
      "cell_type": "code",
      "execution_count": 7,
      "id": "593e71a2",
      "metadata": {
        "id": "593e71a2",
        "colab": {
          "base_uri": "https://localhost:8080/"
        },
        "outputId": "36291eb8-9a55-447b-dcff-36df33ad103c"
      },
      "outputs": [
        {
          "output_type": "stream",
          "name": "stdout",
          "text": [
            "期待値: 3.2\n"
          ]
        }
      ],
      "source": [
        "# 期待値を計算するPythonコード\n",
        "\n",
        "# サンプルデータ: 確率変数が取る値とその確率\n",
        "values = [1, 2, 3, 4, 5]\n",
        "probabilities = [0.1, 0.2, 0.3, 0.2, 0.2]\n",
        "\n",
        "# 期待値の計算\n",
        "expected_value = sum([v * p for v, p in zip(values, probabilities)])\n",
        "\n",
        "# 計算した期待値を出力\n",
        "print(\"期待値:\", expected_value)\n",
        "\n",
        "# 注: valuesは確率変数の取り得る値、probabilitiesは対応する確率を表すリスト\n",
        "# 期待値は、各値にその値が起こる確率を掛け、それらのすべての和を取ることで求められます\n",
        "# この例では、期待値は \\(E(X) = \\sum_{i} x_i P(x_i)\\) に基づいて計算されます"
      ]
    },
    {
      "cell_type": "markdown",
      "id": "01ba4e3b",
      "metadata": {
        "id": "01ba4e3b"
      },
      "source": [
        "# 条件付き期待値"
      ]
    },
    {
      "cell_type": "markdown",
      "id": "05c92421",
      "metadata": {
        "id": "05c92421"
      },
      "source": [
        "条件付き期待値とは、ある事象が既に起こったという条件の下での期待値（平均）のことです。数式では $E[Y|X]$ と表され、これはランダム変数 $Y$ の条件付き期待値で、条件 $X$ が与えられている場合を意味します。\n",
        "\n",
        "ブロック数式で書くと次のようになります:\n",
        "\n",
        "$$E[Y|X] = \\int y \\cdot f(y|x) \\; dy$$\n",
        "\n",
        "ここで、$f(y|x)$ は $X = x$ の場合の $Y$ の条件付き確率密度関数です。条件付き期待値は、統計学や機械学習、経済学などの分野で、特に因果効果の分析や予測に利用されます。\n",
        "\n",
        "Pythonで学ぶ効果検証入門において、条件付き期待値は、政策評価や実験データの解釈において非常に重要な概念です。例えば、異なる集団間での平均的な効果を理解する上で、条件付き期待値は役立ちます。"
      ]
    },
    {
      "cell_type": "code",
      "execution_count": 8,
      "id": "b1b95a12",
      "metadata": {
        "id": "b1b95a12",
        "colab": {
          "base_uri": "https://localhost:8080/"
        },
        "outputId": "dbad367b-d86e-4854-8fd3-012c30f04a74"
      },
      "outputs": [
        {
          "output_type": "stream",
          "name": "stdout",
          "text": [
            "条件付き期待値 (4 <= X < 6): 15.049815515706072\n",
            "サンプルデータの先頭:           X          Y\n",
            "0  8.528105  26.140277\n",
            "1  5.800314  18.293417\n",
            "2  6.957476  20.450113\n",
            "3  9.481786  28.550073\n",
            "4  8.735116  26.433401\n",
            "条件付きデータの個数: 407\n"
          ]
        }
      ],
      "source": [
        "# 必要なライブラリをインポートします\n",
        "import numpy as np\n",
        "import pandas as pd\n",
        "\n",
        "# サンプルデータを作成します\n",
        "np.random.seed(0)  # 再現性のために乱数シードを設定\n",
        "N = 1000  # サンプルサイズ\n",
        "X = np.random.normal(loc=5, scale=2, size=N)  # 平均5、標準偏差2の正規分布からXを生成\n",
        "Y = 3 * X + np.random.normal(loc=0, scale=1, size=N)  # YはXに依存する\n",
        "\n",
        "# データをPandas DataFrameに変換\n",
        "data = pd.DataFrame({'X': X, 'Y': Y})\n",
        "\n",
        "# Xの特定の区間でフィルタリング（例: 4 <= X < 6）\n",
        "condition_data = data[(data['X'] >= 4) & (data['X'] < 6)]\n",
        "\n",
        "# 条件付き期待値を計算（条件4 <= X < 6のもとでのYの平均）\n",
        "conditional_expectation = condition_data['Y'].mean()\n",
        "\n",
        "# 結果の出力\n",
        "print('条件付き期待値 (4 <= X < 6):', conditional_expectation)\n",
        "\n",
        "# 生成したデータと条件付き期待値を出力して確認\n",
        "print('サンプルデータの先頭:', data.head())\n",
        "print('条件付きデータの個数:', len(condition_data))"
      ]
    },
    {
      "cell_type": "markdown",
      "id": "cf395cb9",
      "metadata": {
        "id": "cf395cb9"
      },
      "source": [
        "# A/A テスト"
      ]
    },
    {
      "cell_type": "markdown",
      "id": "492e4cd3",
      "metadata": {
        "id": "492e4cd3"
      },
      "source": [
        "A/Aテストは、A/Bテストと同様の手法ですが、2つのグループに同じバージョンのプロダクトを提供する点が異なります。目的は、テスト手法自体の妥当性を確認することです。A/Aテストを実施することで、システムやデータ収集の問題の有無、ランダム化の有効性を確認できます。理論的には何も変更がないため、両グループ間の指標に有意な差がないはずです。もし有意差が出る場合、データ収集やサンプリングに問題がある可能性があります。数式では、例えばピ値の確率 $P(p)$ が0.05と設定されている時、帰無仮説が真である場合、2つのグループの平均に対するt検定のt値が $0 \\sim t_{crit}$ に収まることを期待します。\n",
        "\n",
        "具体的には以下のようなブロック数式で表されます。\n",
        "\n",
        "$$t = \\frac{\\bar{X}_1 - \\bar{X}_2}{s_{pooled} \\sqrt{\\frac{2}{n}}}$$\n",
        "\n",
        "ここで、$t$ はt統計量、$\\bar{X}_i$ はサンプル平均、$s_{pooled}$ は標準誤差のプールド値、$n$ はサンプル数になります。A/Aテストは、実際の製品改善を行う前にテスト環境を確認する重要なステップとなり、A/Bテストへと発展するための基本です。"
      ]
    },
    {
      "cell_type": "code",
      "execution_count": 9,
      "id": "6d176a2c",
      "metadata": {
        "id": "6d176a2c",
        "colab": {
          "base_uri": "https://localhost:8080/"
        },
        "outputId": "e708092e-2716-4305-dad4-9716be203413"
      },
      "outputs": [
        {
          "output_type": "stream",
          "name": "stdout",
          "text": [
            "Group 1 Mean: -0.051228563665672223\n",
            "Group 2 Mean: -0.0189425965970593\n",
            "T-statistic: -0.7322305889287355\n",
            "P-value: 0.46411371868896634\n"
          ]
        }
      ],
      "source": [
        "# 必要なライブラリをインポートします。\n",
        "import numpy as np\n",
        "import scipy.stats as stats\n",
        "\n",
        "# サンプルデータを生成します。同じ分布から生成しています。\n",
        "group1 = np.random.normal(loc=0, scale=1, size=1000)\n",
        "group2 = np.random.normal(loc=0, scale=1, size=1000)\n",
        "\n",
        "# グループの平均値を出力して確認します。\n",
        "print(f'Group 1 Mean: {np.mean(group1)}')\n",
        "print(f'Group 2 Mean: {np.mean(group2)}')\n",
        "\n",
        "# t検定を実施します。\n",
        "t_stat, p_value = stats.ttest_ind(group1, group2)\n",
        "\n",
        "# t統計量とp値を出力します。\n",
        "print(f'T-statistic: {t_stat}')\n",
        "print(f'P-value: {p_value}')\n",
        "\n",
        "# p値が0.05以上なら、帰無仮説を棄却しないことが期待されます。"
      ]
    },
    {
      "cell_type": "markdown",
      "id": "c400ec76",
      "metadata": {
        "id": "c400ec76"
      },
      "source": [
        "# 統計的仮説検証"
      ]
    },
    {
      "cell_type": "markdown",
      "id": "0debdee0",
      "metadata": {
        "id": "0debdee0"
      },
      "source": [
        "### 統計的仮説検証の基礎理論\n",
        "\n",
        "統計的仮説検証は、データに基づいて仮説が正しいかどうかを判断するための手法です。基本的な考え方は、2つの仮説を設定し、サンプルデータに基づきこれらの仮説の真偽を検証することです。\n",
        "\n",
        "- **帰無仮説 (Null Hypothesis, H0)**: データに見られる効果が偶然によるものであると仮定します。\n",
        "- **対立仮説 (Alternative Hypothesis, H1)**: データに見られる効果が実際に存在するものと仮定します。\n",
        "\n",
        "#### p値と有意水準\n",
        "\n",
        "仮説検証では、しばしばp値を使って仮説を評価します。p値は、帰無仮説が真であると仮定した場合、サンプルデータの観測結果と同じかそれ以上極端な結果が出る確率を表します。有意水準 \\(\\alpha\\) （例えば0.05）が事前に設定され、このp値が\\(\\alpha\\)より小さい場合、帰無仮説を棄却します。\n",
        "\n",
        "### 使用用途\n",
        "\n",
        "医療では新薬の効果検証に、社会科学ではアンケートデータの解析に、マーケティングでは広告効果の分析に使われます。「Pythonで学ぶ効果検証入門」ではこうした具体例に沿った仮説検証の実装例が紹介されています。"
      ]
    },
    {
      "cell_type": "code",
      "execution_count": 10,
      "id": "7a84e39a",
      "metadata": {
        "id": "7a84e39a",
        "colab": {
          "base_uri": "https://localhost:8080/"
        },
        "outputId": "725da124-3aa2-498f-ebc2-f908825e8f9c"
      },
      "outputs": [
        {
          "output_type": "stream",
          "name": "stdout",
          "text": [
            "グループAのデータ: [67.64052346 54.00157208 59.78737984 72.40893199 68.6755799  40.2272212\n",
            " 59.50088418 48.48642792 48.96781148 54.10598502 51.44043571 64.54273507\n",
            " 57.61037725 51.21675016 54.43863233 53.33674327 64.94079073 47.94841736\n",
            " 53.13067702 41.45904261 24.47010184 56.53618595 58.64436199 42.5783498\n",
            " 72.69754624 35.45634325 50.45758517 48.1281615  65.32779214 64.6935877 ]\n",
            "グループBのデータ: [53.54947426 55.7816252  43.12214252 32.19203532 48.52087851 53.56348969\n",
            " 64.30290681 64.02379849 48.12673183 48.97697249 41.51447035 37.79982063\n",
            " 34.93729809 71.50775395 46.90347818 47.61925698 39.4720464  59.77490356\n",
            " 35.86102152 49.8725972  43.04533439 55.86902498 46.89194862 40.19367816\n",
            " 51.71817772 56.28331871 52.66517222 55.02471898 45.65677906 48.37258834]\n",
            "t統計量: 2.038\n",
            "p値: 0.046\n",
            "p値が有意水準0.05より小さいため、帰無仮説を棄却します。\n"
          ]
        }
      ],
      "source": [
        "# Pythonで統計的仮説検証を実装する例\n",
        "\n",
        "import numpy as np\n",
        "from scipy import stats\n",
        "\n",
        "# サンプルデータ生成：グループAとグループBのデータ\n",
        "np.random.seed(0)  # 乱数のシードを固定します\n",
        "# グループAは平均50、標準偏差10の正規分布から抽出\n",
        "A = np.random.normal(loc=50, scale=10, size=30)\n",
        "# グループBも同じ条件でデータを生成\n",
        "B = np.random.normal(loc=52, scale=10, size=30)\n",
        "\n",
        "# print関数で各グループのデータを確認\n",
        "print('グループAのデータ:', A)\n",
        "print('グループBのデータ:', B)\n",
        "\n",
        "# t検定を実施\n",
        "# H0: Aの平均 = Bの平均\n",
        "# H1: Aの平均 ≠ Bの平均\n",
        "\n",
        "t_statistic, p_value = stats.ttest_ind(A, B)\n",
        "\n",
        "# t統計量とp値を表示\n",
        "print(f\"t統計量: {t_statistic:.3f}\")\n",
        "print(f\"p値: {p_value:.3f}\")\n",
        "\n",
        "# p値と有意水準を比較して帰無仮説の棄却を判断\n",
        "alpha = 0.05\n",
        "if p_value < alpha:\n",
        "    print(f\"p値が有意水準{alpha}より小さいため、帰無仮説を棄却します。\")\n",
        "else:\n",
        "    print(f\"p値が有意水準{alpha}以上であるため、帰無仮説は棄却されません。\")\n"
      ]
    },
    {
      "cell_type": "markdown",
      "id": "92b3a1c2",
      "metadata": {
        "id": "92b3a1c2"
      },
      "source": [
        "# 回帰分析"
      ]
    },
    {
      "cell_type": "markdown",
      "id": "6f3664f5",
      "metadata": {
        "id": "6f3664f5"
      },
      "source": [
        "回帰分析は、統計学や機械学習において、データの中の変数間の関係性をモデル化する手法です。基本的な目的は、独立変数（説明変数）が従属変数（目的変数）に与える影響を推定することにあります。たとえば、広告費（独立変数）が売上（従属変数）にどのように影響するのかを知りたい場合に使われます。\n",
        "\n",
        "回帰分析は以下の数式で表現されます:\n",
        "\n",
        "- インライン数式: $y = \\beta_0 + \\beta_1 x + \\epsilon$\n",
        "- ブロック数式:\n",
        "  $$y = \\beta_0 + \\beta_1 x + \\epsilon$$\n",
        "\n",
        "ここで、$y$は従属変数、$x$は独立変数、$\\beta_0$は切片（定数項）、$\\beta_1$は独立変数の係数、$\\epsilon$は誤差項を意味します。\n",
        "\n",
        "Pythonで学ぶ効果検証入門では、回帰分析を用いてデータから因果関係を明確にしたり、変数同士の関係を数理モデルを用いて理解することを目指します。"
      ]
    },
    {
      "cell_type": "code",
      "execution_count": 11,
      "id": "821f2e02",
      "metadata": {
        "id": "821f2e02",
        "colab": {
          "base_uri": "https://localhost:8080/"
        },
        "outputId": "0ffa257d-4bf8-45d9-aeee-4b915c383961"
      },
      "outputs": [
        {
          "output_type": "stream",
          "name": "stdout",
          "text": [
            "独立変数 X の先頭5件: [[5.48813504]\n",
            " [7.15189366]\n",
            " [6.02763376]\n",
            " [5.44883183]\n",
            " [4.23654799]]\n",
            "従属変数 y の先頭5件: [[11.39003792]\n",
            " [19.68138713]\n",
            " [16.00040928]\n",
            " [10.5495922 ]\n",
            " [13.56787437]]\n",
            "回帰係数: [[2.487387]]\n",
            "切片: [0.44430215]\n",
            "新しいデータに対する予測売上: [[12.88123718]]\n"
          ]
        }
      ],
      "source": [
        "# 必要なライブラリをインポートします\n",
        "import numpy as np\n",
        "import pandas as pd\n",
        "from sklearn.linear_model import LinearRegression\n",
        "\n",
        "# データセットを生成します\n",
        "# 例として広告費と売上のデータを作成\n",
        "np.random.seed(0)\n",
        "X = np.random.rand(100, 1) * 10  # 広告費（独立変数）\n",
        "y = 2.5 * X + np.random.randn(100, 1) * 2  # 売上（従属変数）\n",
        "\n",
        "# データの先頭5件を表示\n",
        "print(\"独立変数 X の先頭5件:\", X[:5])\n",
        "print(\"従属変数 y の先頭5件:\", y[:5])\n",
        "\n",
        "# 線形回帰モデルを作成し、データをフィッティング\n",
        "model = LinearRegression()\n",
        "model.fit(X, y)\n",
        "\n",
        "# 回帰係数（パラメータ）と切片を取得\n",
        "print(\"回帰係数:\", model.coef_)\n",
        "print(\"切片:\", model.intercept_)\n",
        "\n",
        "# 新しいデータで予測を行ってみます\n",
        "X_new = np.array([[5]])  # 新しい広告費\n",
        "y_pred = model.predict(X_new)\n",
        "print(\"新しいデータに対する予測売上:\", y_pred)\n",
        "\n",
        "# このコードは、広告費と売上の関係を単純な線形回帰モデルで学習し、\n",
        "# 新しい独立変数の値を使って売上を予測します。\n",
        "# sklearn ライブラリを利用することで、回帰分析の計算を簡単に行うことができます。"
      ]
    },
    {
      "cell_type": "markdown",
      "id": "63c8b764",
      "metadata": {
        "id": "63c8b764"
      },
      "source": [
        "# 誤差項"
      ]
    },
    {
      "cell_type": "markdown",
      "id": "9458632d",
      "metadata": {
        "id": "9458632d"
      },
      "source": [
        "誤差項（error term）は、統計学や回帰分析において、観察されたデータとモデルによって予測された値との差を表す。誤差項は、通常、確率変数として扱われ、データのランダムな変動を説明するために使用される。\n",
        "\n",
        "例えば、回帰モデルにおいて、予測値 \\( \\hat{Y} \\) と観測値 \\( Y \\) の間の差、つまり \\( \\epsilon = Y - \\hat{Y} \\) は誤差項を表す。\n",
        "\n",
        "$$ \\epsilon = Y - \\hat{Y} $$\n",
        "\n",
        "誤差項は、モデルの精度を評価したり、モデルの有効性を検証したりする際に重要な役割を果たす。\"Pythonで学ぶ効果検証入門\"では、誤差項を通じてモデルの誤差を理解し、データ分析の精度を向上させる具体的な方法が説明されている。"
      ]
    },
    {
      "cell_type": "code",
      "execution_count": 12,
      "id": "446ff2c5",
      "metadata": {
        "id": "446ff2c5",
        "colab": {
          "base_uri": "https://localhost:8080/"
        },
        "outputId": "d423253c-ab26-47d1-e25d-a2c55aeac7d4"
      },
      "outputs": [
        {
          "output_type": "stream",
          "name": "stdout",
          "text": [
            "特徴量 (X): [0.5488135  0.71518937 0.60276338 0.54488318 0.4236548  0.64589411\n",
            " 0.43758721 0.891773   0.96366276 0.38344152]\n",
            "ターゲット (Y): [0.98111202 1.52046138 1.252093   0.936142   0.99613482 1.48137714\n",
            " 0.99305238 1.76555352 1.82025026 0.87232821]\n",
            "予測値 (予測値の最初の10個): [1.11638102 1.4480835  1.22394053 1.10854517 0.86685293 1.30993\n",
            " 0.89462989 1.80013714 1.94346329 0.78667997]\n",
            "誤差項 (誤差項の最初の10個): [-0.135269    0.07237788  0.02815246 -0.17240317  0.12928189  0.17144714\n",
            "  0.09842249 -0.03458363 -0.12321303  0.08564824]\n"
          ]
        }
      ],
      "source": [
        "# 必要なライブラリをインポートします\n",
        "import numpy as np\n",
        "import statsmodels.api as sm\n",
        "\n",
        "# データを生成します\n",
        "np.random.seed(0)  # ランダムなデータを再現可能にするためのシード\n",
        "X = np.random.rand(100)  # 100個のランダムな特徴量を生成\n",
        "Y = 2 * X + np.random.normal(0, 0.1, 100)  # Y = 2X + 標準偏差0.1の正規分布に従う誤差\n",
        "\n",
        "# 結果の確認\n",
        "print(\"特徴量 (X):\", X[:10])  # 特徴量の最初の10個を出力\n",
        "print(\"ターゲット (Y):\", Y[:10])  # ターゲットの最初の10個を出力\n",
        "\n",
        "# Xに定数項を追加（切片のためのバイアス）\n",
        "X = sm.add_constant(X)\n",
        "\n",
        "# 線形回帰モデルを適合させる\n",
        "model = sm.OLS(Y, X)\n",
        "results = model.fit()\n",
        "\n",
        "# モデルの予測値と誤差項を取得し出力\n",
        "predictions = results.predict(X)\n",
        "errors = Y - predictions\n",
        "print(\"予測値 (予測値の最初の10個):\", predictions[:10])\n",
        "print(\"誤差項 (誤差項の最初の10個):\", errors[:10])"
      ]
    },
    {
      "cell_type": "markdown",
      "id": "4a95283a",
      "metadata": {
        "id": "4a95283a"
      },
      "source": [
        "# 標準誤差"
      ]
    },
    {
      "cell_type": "markdown",
      "id": "dee17ecb",
      "metadata": {
        "id": "dee17ecb"
      },
      "source": [
        "標準誤差（Standard Error, SE）は、特定のサンプル統計量の標準偏差を指します。通常、母集団のパラメータを推定する際に、その推定の精度を測るために用いられます。例えば、サンプル平均の標準誤差は、母集団平均をどれだけ正確に推定できているかの指標です。\n",
        "\n",
        "標準誤差の一般的な式は以下の通りです：\n",
        "\n",
        "インライン数式: $SE = \\frac{\\sigma}{\\sqrt{n}}$\n",
        "\n",
        "ブロック数式:\n",
        "\n",
        "$$\n",
        "SE = \\frac{\\sigma}{\\sqrt{n}}\n",
        "$$\n",
        "\n",
        "ここで、\\( \\sigma \\) は母集団の標準偏差で、\\( n \\) はサンプルサイズです。実際のサンプルデータから標準誤差を計算する場合、母集団標準偏差の代わりにサンプル標準偏差を使うケースが多いです。\n",
        "\n",
        "Pythonで学ぶ効果検証入門との関係性として、この書籍では、因果推論や統計的検定を行う際に、標準誤差がどのように推定に影響を与えるかが解説されています。標準誤差は統計解析において重要な役割を果たし、特に信頼区間や仮説検定で重要な要素となります。"
      ]
    },
    {
      "cell_type": "code",
      "execution_count": 13,
      "id": "21e411d2",
      "metadata": {
        "id": "21e411d2",
        "colab": {
          "base_uri": "https://localhost:8080/"
        },
        "outputId": "93ebae6e-c923-4037-a881-5770249d3862"
      },
      "outputs": [
        {
          "output_type": "stream",
          "name": "stdout",
          "text": [
            "標準誤差: 1.8257418583505538\n"
          ]
        }
      ],
      "source": [
        "# サンプルデータを生成\n",
        "import numpy as np\n",
        "\n",
        "# 母集団の標準偏差が10で、サンプルサイズが30の場合\n",
        "sigma = 10\n",
        "n = 30\n",
        "\n",
        "# 標準誤差を計算\n",
        "SE = sigma / np.sqrt(n)\n",
        "\n",
        "# 標準誤差を出力\n",
        "print('標準誤差:', SE)\n",
        "\n",
        "# コメント:\n",
        "# - 標準誤差はサンプルサイズが増加するに従って減少します。\n",
        "# - `sigma` は母集団の標準偏差で、`n` はサンプルサイズです。\n",
        "# - サンプルサイズが大きいほど、推定の精度（標準誤差）は高くなります。"
      ]
    },
    {
      "cell_type": "markdown",
      "id": "749c417d",
      "metadata": {
        "id": "749c417d"
      },
      "source": [
        "# 帰無仮説"
      ]
    },
    {
      "cell_type": "markdown",
      "id": "5d660721",
      "metadata": {
        "id": "5d660721"
      },
      "source": [
        "帰無仮説（Null Hypothesis）とは、統計学における仮説検定において検証の起点となる仮説のことです。多くの場合、それは観察された効果がランダムな変動の結果であることを主張します。具体的な数式では、帰無仮説は通常 $H_0: \\theta = \\theta_0$ という形で記述され、ここで $\\theta$ は母集団の特性パラメータ、$\\theta_0$ は特定の値です。効果検証の目的は、この帰無仮説と対立仮説（観察された効果に意味があることを示す仮説）とを比較し、統計的に優位かどうかを検証することです。\\n\\n帰無仮説の検証は、治療の効果、新商品の売り上げ増加、広告の影響など、様々な分野で利用されます。\\n\\n**Pythonで学ぶ効果検証入門との関係性**\\n\\n『Pythonで学ぶ効果検証入門』では、この帰無仮説とその推論についての詳細な解説がなされています。Pythonを使って実際のデータ分析を通じて、帰無仮説の検証を学ぶことができます。この書籍は、帰無仮説を立て、それに基づくデータ分析をPythonを使ってどのように進めるかを実践的に学べるリソースとなっています。\\n\\n実際に帰無仮説を検証するためには、標本データを用いて統計的検定を行い、仮説が正しいか否かを判断します。これにはp値を計算し、事前に定めた有意水準と比較する方法が一般的です。"
      ]
    },
    {
      "cell_type": "code",
      "execution_count": 14,
      "id": "0bcc401b",
      "metadata": {
        "id": "0bcc401b",
        "colab": {
          "base_uri": "https://localhost:8080/"
        },
        "outputId": "a2f1f0e9-d295-4ab4-905e-aefc7d733442"
      },
      "outputs": [
        {
          "output_type": "stream",
          "name": "stdout",
          "text": [
            "t-statistic: 0.8897019207505121\n",
            "p-value: 0.3773014533943495\n",
            "帰無仮説を棄却できません。差は有意ではありません。\n"
          ]
        }
      ],
      "source": [
        "# 必要なライブラリをインポートします。\n",
        "import numpy as np\n",
        "from scipy import stats\n",
        "\n",
        "# 仮のデータセットを生成します。\n",
        "# Group A は治療を受けたグループ、Group B は受けていないグループと仮定します。\n",
        "np.random.seed(0)  # 再現性のためにシードを設定\n",
        "Group_A = np.random.normal(loc=60, scale=10, size=30)  # 平均60, 標準偏差10\n",
        "Group_B = np.random.normal(loc=65, scale=10, size=30)  # 平均65, 標準偏差10\n",
        "\n",
        "# 帰無仮説: Group_Aの平均 = Group_Bの平均\n",
        "# 対立仮説: Group_Aの平均 ≠ Group_Bの平均\n",
        "\n",
        "# t検定を実施します。\n",
        "t_statistic, p_value = stats.ttest_ind(Group_A, Group_B)\n",
        "\n",
        "# 結果を表示します。\n",
        "print(\"t-statistic:\", t_statistic)\n",
        "print(\"p-value:\", p_value)\n",
        "\n",
        "# p値が通常の有意水準 (例えば0.05) より小さい場合、帰無仮説を棄却します。\n",
        "if p_value < 0.05:\n",
        "    conclusion = \"帰無仮説を棄却します。差は有意です。\"\n",
        "else:\n",
        "    conclusion = \"帰無仮説を棄却できません。差は有意ではありません。\"\n",
        "\n",
        "# 結論を表示します。\n",
        "print(conclusion)"
      ]
    },
    {
      "cell_type": "markdown",
      "id": "83b3a663",
      "metadata": {
        "id": "83b3a663"
      },
      "source": [
        "# 仮説検定"
      ]
    },
    {
      "cell_type": "markdown",
      "id": "c2e1779d",
      "metadata": {
        "id": "c2e1779d"
      },
      "source": [
        "### 仮説検定の解説\n",
        "\n",
        "仮説検定とは、統計的手法を用いて、ある仮説がデータによってどの程度支持されるかを検証するための手法です。主に次のプロセスで行われます:\n",
        "\n",
        "1. **帰無仮説 (null hypothesis)** と **対立仮説 (alternative hypothesis)** の設定。\n",
        "   - 帰無仮説は通常、現状を表し、検証したい効果や差が存在しないことを仮定します。\n",
        "   - 対立仮説は、帰無仮説に対する対立的な主張で、研究者が調査したい新しい効果や差を表します。\n",
        "\n",
        "2. **棄却域** の設定。\n",
        "   - 棄却域とは、帰無仮説が棄却されるべき値の範囲です。通常、5% (もしくは1%) の有意水準で設定します。\n",
        "\n",
        "3. **検定統計量** の計算。\n",
        "   - 検定統計量は、データに基づいて計算される特定の数値です。多くの場合、標本平均や標準偏差などを用います。\n",
        "\n",
        "4. **結果の解釈**。\n",
        "   - 検定統計量が棄却域に入る場合、帰無仮説を棄却し、対立仮説を支持します。\n",
        "\n",
        "仮説検定の数式として、例えばt検定の場合、以下のようになります。\n",
        "\n",
        "- インライン数式での例: 標準化した検定統計量は $t = \\frac{\\bar{x} - \\mu}{s / \\sqrt{n}}$ で計算されます。\n",
        "- ブロック数式での例:\n",
        "  $$\n",
        "  t = \\frac{\\bar{x} - \\mu}{s / \\sqrt{n}}\n",
        "  $$\n",
        "\n",
        "ここで、$\\bar{x}$ は標本平均、$\\mu$ は仮説の平均、$s$ は標本標準偏差、$n$ は標本の大きさです。\n",
        "\n",
        "使用用途としては、平均の差の検証、比例の差の検証、分散の検証などがあります。\n",
        "\n",
        "書籍『Pythonで学ぶ効果検証入門』では、このような統計的手法をPythonを用いて具体的にどのように実装するかを学ぶことができます。特に、データの可視化や検証結果の解釈に役立つコードが紹介されています。"
      ]
    },
    {
      "cell_type": "code",
      "execution_count": 15,
      "id": "e7962f34",
      "metadata": {
        "id": "e7962f34",
        "colab": {
          "base_uri": "https://localhost:8080/"
        },
        "outputId": "2fbdc15a-5ae7-4945-c0cb-dc1233cdde59"
      },
      "outputs": [
        {
          "output_type": "stream",
          "name": "stdout",
          "text": [
            "Sample Data: [58.82026173 52.00078604 54.89368992 61.204466   59.33778995 45.1136106\n",
            " 54.75044209 49.24321396 49.48390574 52.05299251 50.72021786 57.27136753\n",
            " 53.80518863 50.60837508 52.21931616 51.66837164 57.47039537 48.97420868\n",
            " 51.56533851 45.7295213  37.23505092 53.26809298 54.32218099 46.2891749\n",
            " 61.34877312 42.72817163 50.22879259 49.06408075 57.66389607 57.34679385]\n",
            "t-statistic: 2.2044551627605693, p-value: 0.035580270712695275\n",
            "帰無仮説を棄却する: 平均は50とは異なる。\n"
          ]
        }
      ],
      "source": [
        "# Pythonで仮説検定を行う例として、t検定を使用します\n",
        "\n",
        "import numpy as np\n",
        "from scipy import stats\n",
        "\n",
        "# サンプルデータを生成\n",
        "# 例として、試験の点数が50点とする\n",
        "np.random.seed(0)\n",
        "sample_data = np.random.normal(loc=50, scale=5, size=30)\n",
        "print(\"Sample Data:\", sample_data)\n",
        "\n",
        "# 仮説\n",
        "# 帰無仮説(H0): 平均が50点である\n",
        "# 対立仮説(H1): 平均が50点ではない\n",
        "\n",
        "# t検定を実行\n",
        "# 仮定した母平均として50を設定\n",
        "t_statistic, p_value = stats.ttest_1samp(sample_data, 50)\n",
        "\n",
        "# 結果を出力\n",
        "t_statistic, p_value\n",
        "print(f\"t-statistic: {t_statistic}, p-value: {p_value}\")\n",
        "\n",
        "# p値を用いて、帰無仮説を棄却するかどうかを判断\n",
        "# 通常、有意水準α=0.05が用いられる\n",
        "alpha = 0.05\n",
        "if p_value < alpha:\n",
        "    print(\"帰無仮説を棄却する: 平均は50とは異なる。\")\n",
        "else:\n",
        "    print(\"帰無仮説を棄却できない: 平均は50とは異ならない。\")"
      ]
    },
    {
      "cell_type": "markdown",
      "id": "88117b70",
      "metadata": {
        "id": "88117b70"
      },
      "source": [
        "# p値"
      ]
    },
    {
      "cell_type": "markdown",
      "id": "88d045da",
      "metadata": {
        "id": "88d045da"
      },
      "source": [
        "p値（p-value）は、仮説検定における統計的指標です。帰無仮説が正しいと仮定した場合に、観測データ以上に極端な結果が得られる確率を示します。通常、p値が小さいほど、帰無仮説が否定される根拠が強いと判断されます。一般に、p値が0.05未満であれば、その結果は統計的に有意であるとされます。\n",
        "\n",
        "インライン数式: $p = P(T \\geq t_{\text{obs}} \\mid H_0)$\n",
        "\n",
        "ブロック数式:\n",
        "$$\n",
        "p = P(T \\geq t_{\text{obs}} \\mid H_0)\n",
        "$$\n",
        "\n",
        "p値の検定は、学術研究やビジネスにおけるさまざまな分野で活用され、集団間の違いや、トレンドの有無、政策や介入の効果の有無を評価するために使用されます。「Pythonで学ぶ効果検証入門」では、p値を活用して実験手法の有意性などを検証する方法が示されていると思われます。"
      ]
    },
    {
      "cell_type": "code",
      "execution_count": 16,
      "id": "15f0796a",
      "metadata": {
        "id": "15f0796a",
        "colab": {
          "base_uri": "https://localhost:8080/"
        },
        "outputId": "8b84cca4-42df-448f-bae1-b82a7d10c9f8"
      },
      "outputs": [
        {
          "output_type": "stream",
          "name": "stdout",
          "text": [
            "Group A Data: [6.76405235 5.40015721 5.97873798 7.2408932  6.86755799 4.02272212\n",
            " 5.95008842 4.84864279 4.89678115 5.4105985  5.14404357 6.45427351\n",
            " 5.76103773 5.12167502 5.44386323 5.33367433 6.49407907 4.79484174\n",
            " 5.3130677  4.14590426]\n",
            "Group B Data: [2.94701018 6.1536186  6.3644362  4.75783498 7.76975462 4.04563433\n",
            " 5.54575852 5.31281615 7.03277921 6.96935877 5.65494743 5.87816252\n",
            " 4.61221425 3.51920353 5.15208785 5.65634897 6.73029068 6.70237985\n",
            " 5.11267318 5.19769725]\n",
            "t-statistic: 0.04053615263387552\n",
            "p-value: 0.9678779195775509\n"
          ]
        }
      ],
      "source": [
        "# 必要なライブラリをインポート\n",
        "import numpy as np\n",
        "from scipy import stats\n",
        "\n",
        "# 仮説検定のためのデータを生成\n",
        "# 例として、二つの独立したグループのデータ\n",
        "# グループAとグループBの平均の違いを検定\n",
        "np.random.seed(0)  # 乱数シードを設定\n",
        "\n",
        "# グループAとグループBのデータを生成\n",
        "# 平均が5、標準偏差が1の正規分布に従う20個のサンプルを生成\n",
        "# Aグループ\n",
        "group_a = np.random.normal(5, 1, 20)\n",
        "# Bグループ\n",
        "group_b = np.random.normal(5.5, 1, 20)\n",
        "\n",
        "# グループのデータを出力\n",
        "print(\"Group A Data:\", group_a)\n",
        "print(\"Group B Data:\", group_b)\n",
        "\n",
        "# t検定を実行\n",
        "# 独立した二つの標本に対するt検定\n",
        "# p値を取得\n",
        "t_statistic, p_value = stats.ttest_ind(group_a, group_b)\n",
        "\n",
        "# t統計量とp値を出力\n",
        "print(\"t-statistic:\", t_statistic)\n",
        "print(\"p-value:\", p_value)\n",
        "\n",
        "# 結果を解説\n",
        "# ここでのp値が0.05未満であれば、通常は統計的に有意であるとされ、帰無仮説（差がないという仮説）を棄却できます。"
      ]
    },
    {
      "cell_type": "markdown",
      "id": "aafd9632",
      "metadata": {
        "id": "aafd9632"
      },
      "source": [
        "# 統計的に非有意"
      ]
    },
    {
      "cell_type": "markdown",
      "id": "3f926850",
      "metadata": {
        "id": "3f926850"
      },
      "source": [
        "統計的に非有意とは、得られたデータから導き出された統計的な結果が、偶然による変動の影響を免れずに、実際に意味あるものであるという証拠が不十分なことです。例えば、p値があらかじめ定められた有意水準（通常は0.05）を超える場合、その結果は統計的に非有意とされます。たとえば、ある治療の効果を調べるA/Bテストを実行した場合、統計的に非有意であることは、治療の効果が統計的に証明されなかったことを示します。\n",
        "\n",
        "インライン数式で表現すると、$p > \u0007lpha$（ここで$p$はp値、$\u0007lpha$は有意水準）です。\n",
        "\n",
        "ブロック数式で表現すると、\n",
        "$$\n",
        " H_0 \\text{が棄却されない} \\iff p > \\alpha\n",
        "$$\n",
        "\n",
        "統計的に非有意な結果が得られた場合でも、効果が全くないわけではなく、データのサンプルサイズが小さい、効果のサイズが期待より小さい、または測定誤差が大きいなどの理由で、検出するのが難しいだけかもしれないことに注意が必要です。"
      ]
    },
    {
      "cell_type": "code",
      "execution_count": 17,
      "id": "33fe3abb",
      "metadata": {
        "id": "33fe3abb",
        "colab": {
          "base_uri": "https://localhost:8080/"
        },
        "outputId": "bb669107-86a6-41d0-c840-1adaa774f871"
      },
      "outputs": [
        {
          "output_type": "stream",
          "name": "stdout",
          "text": [
            "Treatment Group: [ 2.26405235  0.90015721  1.47873798  2.7408932   2.36755799 -0.47727788\n",
            "  1.45008842  0.34864279  0.39678115  0.9105985   0.64404357  1.95427351\n",
            "  1.26103773  0.62167502  0.94386323  0.83367433  1.99407907  0.29484174\n",
            "  0.8130677  -0.35409574 -2.05298982  1.1536186   1.3644362  -0.24216502\n",
            "  2.76975462 -0.95436567  0.54575852  0.31281615  2.03277921  1.96935877\n",
            "  0.65494743  0.87816252 -0.38778575 -1.48079647  0.15208785  0.65634897\n",
            "  1.73029068  1.70237985  0.11267318  0.19769725 -0.54855297 -0.92001794\n",
            " -1.20627019  2.4507754  -0.00965218  0.0619257  -0.75279536  1.27749036\n",
            " -1.11389785  0.28725972]\n",
            "Control Group: [-0.39546656  0.8869025  -0.01080514 -0.68063218  0.47181777  0.92833187\n",
            "  0.56651722  0.8024719  -0.13432209  0.13725883 -0.17246045  0.14044684\n",
            " -0.31314628 -1.2262826   0.67742614  0.09821906 -1.13019835  0.96278226\n",
            " -0.40729836  0.5519454   1.22909056  0.62898291  1.63940068 -0.73482582\n",
            "  0.90234164 -0.18481009 -0.37079715 -0.07884966  0.18844747  0.55616534\n",
            " -0.66514984  1.40082649  0.96566244 -1.03624369  1.98825219  2.39588918\n",
            "  1.67877957  0.32007516 -0.57075262  1.55445173  0.09682305  1.72244507\n",
            "  0.70827498  1.47663904  0.8563664   1.20657317  0.51050002  2.28587049\n",
            "  0.62691209  0.90198936]\n",
            "t-statistic: 0.795702883804752\n",
            "p-value: 0.4281278905942453\n",
            "統計的に非有意である: 帰無仮説を棄却できない）\n"
          ]
        }
      ],
      "source": [
        "# Pythonで統計的に非有意を確認する簡単なシミュレーション\n",
        "\n",
        "import numpy as np\n",
        "from scipy import stats\n",
        "\n",
        "# データを生成。例えば、治療とコントロールのグループにおける\n",
        "# 平均値の差を検証するためのサンプルデータを生成します。\n",
        "np.random.seed(0)  # 乱数シードを設定（結果を再現可能にするため）\n",
        "\n",
        "treatment_group = np.random.normal(loc=0.5, scale=1, size=50)  # 治療グループのデータ\n",
        "control_group = np.random.normal(loc=0.5, scale=1, size=50)  # コントロールグループのデータ\n",
        "\n",
        "# データを表示\n",
        "print('Treatment Group:', treatment_group)\n",
        "print('Control Group:', control_group)\n",
        "\n",
        "# t検定を実行\n",
        "# 帰無仮説: \"治療グループとコントロールグループの平均は等しい\"\n",
        "# 対立仮説: \"治療グループとコントロールグループの平均は等しくない\"\n",
        "t_statistic, p_value = stats.ttest_ind(treatment_group, control_group)\n",
        "\n",
        "# t統計量とp値を表示\n",
        "print('t-statistic:', t_statistic)\n",
        "print('p-value:', p_value)\n",
        "\n",
        "# 結果の解釈\n",
        "alpha = 0.05  # 有意水準\n",
        "if p_value > alpha:\n",
        "    print('統計的に非有意である: 帰無仮説を棄却できない）')\n",
        "else:\n",
        "    print('統計的に有意である: 帰無仮説を棄却する）')\n",
        "\n",
        "# このコードは、得られたp値が0.05より大きい場合は\"統計的に非有意\"と出力し、\n",
        "# そうでない場合は\"統計的に有意\"と出力します。"
      ]
    },
    {
      "cell_type": "markdown",
      "id": "fa6cf03c",
      "metadata": {
        "id": "fa6cf03c"
      },
      "source": [
        "# 有意水準"
      ]
    },
    {
      "cell_type": "markdown",
      "id": "8459b9cd",
      "metadata": {
        "id": "8459b9cd"
      },
      "source": [
        "有意水準とは、統計的仮説検定において、帰無仮説を棄却する基準となる確率のことである。有意水準は通常、\\(\\alpha\\)で表され、たとえば5%の有意水準は、\\(\\alpha = 0.05\\)と表現される。<br> 有意水準は、ある観察された結果が偶然ではなく統計的に有意であると結論づけるための基準となる。この基準により、検定の結果が偶然によるものではないと判断できる。<br> 例えば、A/Bテストなど効果検証の場面で使用され、観察された効果が実際に意味のあるものであるかを判断するために使用される。<br> 数式で表すと、棄却域が\\(\\{x \\mid p(x \\mid H_0) \\leq \\alpha\\}\\)のように定義される。ここで\\(H_0\\)は帰無仮説、\\(p(x \\mid H_0)\\)は帰無仮説が成り立つとしたときにデータが観測される確率である。<br> 書籍「Pythonで学ぶ効果検証入門」では、このような仮説検定の基礎をPythonを使用して実践的に学ぶことができる。"
      ]
    },
    {
      "cell_type": "code",
      "execution_count": 18,
      "id": "a3178fe6",
      "metadata": {
        "id": "a3178fe6",
        "colab": {
          "base_uri": "https://localhost:8080/"
        },
        "outputId": "fe7b443d-938a-496c-f04a-c28b98039cf4"
      },
      "outputs": [
        {
          "output_type": "stream",
          "name": "stdout",
          "text": [
            "有意水準: 0.05\n",
            "t検定のt値: 2.038305608359027\n",
            "p値: 0.04608766659289103\n",
            "帰無仮説を棄却します。グループ間に有意な差があります。\n"
          ]
        }
      ],
      "source": [
        "# Pythonで有意水準を用いたt検定を実施する例\n",
        "import numpy as np\n",
        "from scipy import stats\n",
        "\n",
        "# サンプルデータ生成\n",
        "# グループAとグループBのデータを作成\n",
        "np.random.seed(0)  # 乱数シードを固定\n",
        "group_A = np.random.normal(loc=100, scale=10, size=30)  # 平均100、標準偏差10の正規分布から30個のデータ\n",
        "group_B = np.random.normal(loc=102, scale=10, size=30)  # 平均102、標本偏差10の正規分布から30個のデータ\n",
        "\n",
        "# 有意水準を5%に設定\n",
        "alpha = 0.05\n",
        "print('有意水準:', alpha)\n",
        "\n",
        "# t検定の実施\n",
        "# 帰無仮説H0: グループAとグループBの平均に差はない\n",
        "t_statistic, p_value = stats.ttest_ind(group_A, group_B)\n",
        "print('t検定のt値:', t_statistic)\n",
        "print('p値:', p_value)\n",
        "\n",
        "# p値が有意水準以下であれば、帰無仮説を棄却\n",
        "if p_value < alpha:\n",
        "    print('帰無仮説を棄却します。グループ間に有意な差があります。')\n",
        "else:\n",
        "    print('帰無仮説は棄却されません。グループ間に有意な差はありません。')\n"
      ]
    },
    {
      "cell_type": "markdown",
      "id": "1d3da1f9",
      "metadata": {
        "id": "1d3da1f9"
      },
      "source": [
        "# 信頼区間"
      ]
    },
    {
      "cell_type": "markdown",
      "id": "36a52646",
      "metadata": {
        "id": "36a52646"
      },
      "source": [
        "信頼区間とは、母集団のパラメータ（例えば平均や割合）が特定の範囲内にあると推定される範囲のことです。データから得られた推定値がどれだけ信用できるかを定量的に示す方法であり、一般的に 95% や 99% などの信頼水準で表されます。これは統計的推定において重要な概念で、例えば平均値 μ に対して信頼区間が $\\bar{x} \\pm Z_{\\alpha/2} \\frac{\\sigma}{\\sqrt{n}}$ の形で表されます。\n",
        "\n",
        "信頼区間の一般式は次の通りです。\n",
        "\n",
        "$$\n",
        "\\text{信頼区間} = \\bar{x} \\pm Z_{\\alpha/2} \\frac{\\sigma}{\\sqrt{n}}\n",
        "$$\n",
        "\n",
        "- $\\bar{x}$: 標本平均\n",
        "- $Z_{\\alpha/2}$: 標準正規分布からの臨界値\n",
        "- $\\sigma$: 母標準偏差（母集団の標準偏差）\n",
        "- $n$: 標本サイズ\n",
        "\n",
        "使用用途としては、統計的推定の結果を解釈する際に、どの程度の精度で母集団の平均等が推定されているかの目安として用いられます。\n",
        "\n",
        "『Pythonで学ぶ効果検証入門』では、信頼区間を用いて得られた効果の信頼性や施策の効果検証における判断を行う際に利用されることが多いです。"
      ]
    },
    {
      "cell_type": "code",
      "execution_count": 19,
      "id": "fcd9e69c",
      "metadata": {
        "id": "fcd9e69c",
        "colab": {
          "base_uri": "https://localhost:8080/"
        },
        "outputId": "276c272e-2d90-4901-ff80-b0566390f664"
      },
      "outputs": [
        {
          "output_type": "stream",
          "name": "stdout",
          "text": [
            "サンプル平均: 10.11961603106897\n",
            "サンプル標準偏差: 2.0259195385370035\n",
            "信頼区間の幅: 0.3970729331108533\n",
            "信頼区間: (9.722543097958116, 10.516688964179824)\n"
          ]
        }
      ],
      "source": [
        "# 信頼区間の計算例\n",
        "import numpy as np\n",
        "import scipy.stats as stats\n",
        "\n",
        "# サンプルデータ生成\n",
        "np.random.seed(0) # 乱数のシードを設定\n",
        "sample_data = np.random.normal(loc=10, scale=2, size=100) # 平均10, 標準偏差2, サンプルサイズ100\n",
        "\n",
        "# サンプル平均の計算\n",
        "sample_mean = np.mean(sample_data)\n",
        "print(f'サンプル平均: {sample_mean}')\n",
        "\n",
        "# サンプルの標準偏差\n",
        "sample_std = np.std(sample_data, ddof=1) # 標本標準偏差。自由度n-1\n",
        "print(f'サンプル標準偏差: {sample_std}')\n",
        "\n",
        "# 信頼区間を計算する。95%信頼区間の場合。\n",
        "confidence_level = 0.95\n",
        "alpha = 1 - confidence_level\n",
        "z_score = stats.norm.ppf(1 - alpha/2) # 標準正規分布のパーセンタイル\n",
        "\n",
        "# 信頼区間の幅の計算\n",
        "margin_of_error = z_score * (sample_std/np.sqrt(len(sample_data)))\n",
        "print(f'信頼区間の幅: {margin_of_error}')\n",
        "\n",
        "# 信頼区間の計算\n",
        "confidence_interval = (sample_mean - margin_of_error, sample_mean + margin_of_error)\n",
        "print(f'信頼区間: {confidence_interval}')\n",
        "\n",
        "# 結果として得られた信頼区間は、平均がこの範囲内にあると95%信頼できることを示しています。"
      ]
    },
    {
      "cell_type": "markdown",
      "id": "187eab5c",
      "metadata": {
        "id": "187eab5c"
      },
      "source": [
        "# 共変量"
      ]
    },
    {
      "cell_type": "markdown",
      "id": "a5d74ae3",
      "metadata": {
        "id": "a5d74ae3"
      },
      "source": [
        "共変量は、統計学や機械学習の世界で、観察されたデータセット内で他の変数とともに変動する変数を指します。共変量は分析の際、因果推論のモデルに含まれることがあります。\n",
        "\n",
        "共変量を考慮することで、他の変数の影響を取り除き、対象の変数と結果の関係をより正確に理解することが容易になります。例えば、治療効果を評価する際に、年齢や性別といった共変量をコントロールすることで、治療自体の真の効果を捉えることが可能です。\n",
        "\n",
        "数式で表すと、目的変数\\(Y\\)に影響を与える共変量\\(X\\)を含む回帰モデルは通常次の形です：\n",
        "$$ Y = \\beta_0 + \\beta_1 X + \\epsilon $$\n",
        "ここで、\\(\\beta_0\\)は切片、\\(\\beta_1\\)は共変量\\(X\\)の係数、\\(\\epsilon\\)は誤差項です。\n",
        "\n",
        "Pythonで学ぶ効果検証入門でも、効果検証を行う際に共変量がどのように扱われるかが説明されています。共変量を使って分析を補正し、因果関係をより明確にするのが目的です。"
      ]
    },
    {
      "cell_type": "code",
      "execution_count": 20,
      "id": "d5cb4156",
      "metadata": {
        "id": "d5cb4156",
        "colab": {
          "base_uri": "https://localhost:8080/"
        },
        "outputId": "6a00109f-8400-4bfe-f4d1-6bfd02cf9e5a"
      },
      "outputs": [
        {
          "output_type": "stream",
          "name": "stdout",
          "text": [
            "          X         Y\n",
            "0  0.548814  2.932477\n",
            "1  0.715189  5.331205\n",
            "2  0.602763  4.671189\n",
            "3  0.544883  2.553523\n",
            "4  0.423655  5.335562\n",
            "                            OLS Regression Results                            \n",
            "==============================================================================\n",
            "Dep. Variable:                      y   R-squared:                       0.239\n",
            "Model:                            OLS   Adj. R-squared:                  0.231\n",
            "Method:                 Least Squares   F-statistic:                     30.79\n",
            "Date:                Thu, 13 Feb 2025   Prob (F-statistic):           2.45e-07\n",
            "Time:                        05:50:01   Log-Likelihood:                -141.51\n",
            "No. Observations:                 100   AIC:                             287.0\n",
            "Df Residuals:                      98   BIC:                             292.2\n",
            "Df Model:                           1                                         \n",
            "Covariance Type:            nonrobust                                         \n",
            "==============================================================================\n",
            "                 coef    std err          t      P>|t|      [0.025      0.975]\n",
            "------------------------------------------------------------------------------\n",
            "const          3.2222      0.193     16.670      0.000       2.839       3.606\n",
            "x1             1.9369      0.349      5.549      0.000       1.244       2.630\n",
            "==============================================================================\n",
            "Omnibus:                       11.746   Durbin-Watson:                   2.083\n",
            "Prob(Omnibus):                  0.003   Jarque-Bera (JB):                4.097\n",
            "Skew:                           0.138   Prob(JB):                        0.129\n",
            "Kurtosis:                       2.047   Cond. No.                         4.30\n",
            "==============================================================================\n",
            "\n",
            "Notes:\n",
            "[1] Standard Errors assume that the covariance matrix of the errors is correctly specified.\n"
          ]
        }
      ],
      "source": [
        "# 共変量を使用した回帰モデルの例\n",
        "import numpy as np\n",
        "import pandas as pd\n",
        "import statsmodels.api as sm\n",
        "\n",
        "# ダミーデータの生成\n",
        "np.random.seed(0)\n",
        "n = 100\n",
        "X = np.random.rand(n)  # 共変量\n",
        "Y = 3 + 2 * X + np.random.randn(n)  # 目的変数\n",
        "\n",
        "# データフレームにまとめる\n",
        "data = pd.DataFrame({'X': X, 'Y': Y})\n",
        "\n",
        "# printで中身を確認\n",
        "print(data.head())\n",
        "\n",
        "# 回帰モデルの構築\n",
        "X = sm.add_constant(X)  # 定数項を追加\n",
        "model = sm.OLS(Y, X)\n",
        "results = model.fit()\n",
        "\n",
        "# 結果の表示\n",
        "print(results.summary())  # 回帰分析の結果を表示\n",
        "\n",
        "# 結果に基づく解釈\n",
        "# print(results.params)  # 回帰係数を確認\n",
        "# 標準的な出力には、定数項(beta_0)と共変量の係数(beta_1)が含まれます。"
      ]
    },
    {
      "cell_type": "markdown",
      "id": "2bc1428c",
      "metadata": {
        "id": "2bc1428c"
      },
      "source": [
        "# バランステスト"
      ]
    },
    {
      "cell_type": "markdown",
      "id": "2b7bd2c4",
      "metadata": {
        "id": "2b7bd2c4"
      },
      "source": [
        "バランステストとは、実験や調査において、処理群と対照群がランダム化によって均一に分布しているかどうかを確認するための手法です。これにより、群間でのバイアスを最小限に抑え、効果の推定をより正確に行うことができます。特に統計学や因果推論の分野で、実験設計や観察研究における効果の信頼性を確保するために用いられます。\n",
        "\n",
        "理論的には、バランステストでは各群の標本平均や分散の統計的な差異を検定します。たとえば、\\( H_0: \\mu_1 = \\mu_2 \\)（帰無仮説）に対して、\\( H_1: \\mu_1 \\neq \\mu_2 \\)（対立仮説）を設定し、\\( t \\)-検定を実施することが一般的です。\n",
        "\n",
        "数式の例:\n",
        "\n",
        "インライン: \\( H_0: \\mu_1 = \\mu_2 \\)\n",
        "\n",
        "ブロック:\n",
        "$$\n",
        "H_0: \\mu_1 = \\mu_2 \\\\\n",
        "H_1: \\mu_1 \\neq \\mu_2\n",
        "$$\n",
        "\n",
        "バランステストは、観察データの偏りが小さくなるように、特に実験の前処理として使われます。各群の平均や分散が等しくなければ、最終的な効果の解析が意味のあるものとはならないため、重要なステップと言えるでしょう。"
      ]
    },
    {
      "cell_type": "code",
      "execution_count": 21,
      "id": "314a92fd",
      "metadata": {
        "id": "314a92fd",
        "colab": {
          "base_uri": "https://localhost:8080/"
        },
        "outputId": "5cc988d5-98ad-4f3c-905c-ed6d4f6f276f"
      },
      "outputs": [
        {
          "output_type": "stream",
          "name": "stdout",
          "text": [
            "処理群の平均: 5.059808015534485\n",
            "対照群の平均: 5.082012970747837\n",
            "処理群の分散: 1.0158266192149312\n",
            "対照群の分散: 1.0705357955882406\n",
            "t検定の統計量: -0.15295815048595499\n",
            "p値: 0.8785870431170584\n",
            "帰無仮説は棄却されません。群間の平均に有意な差はありません。\n"
          ]
        }
      ],
      "source": [
        "# ライブラリのインポート\n",
        "import numpy as np\n",
        "from scipy import stats\n",
        "\n",
        "# サンプルデータの生成\n",
        "# 処理群と対照群のデータをランダムに生成\n",
        "np.random.seed(0)\n",
        "treatment_group = np.random.normal(loc=5.0, scale=1.0, size=100)\n",
        "control_group = np.random.normal(loc=5.0, scale=1.0, size=100)\n",
        "\n",
        "# 処理群と対照群の平均と分散を出力\n",
        "treatment_mean = np.mean(treatment_group)\n",
        "control_mean = np.mean(control_group)\n",
        "treatment_var = np.var(treatment_group)\n",
        "control_var = np.var(control_group)\n",
        "\n",
        "print('処理群の平均:', treatment_mean)\n",
        "print('対照群の平均:', control_mean)\n",
        "print('処理群の分散:', treatment_var)\n",
        "print('対照群の分散:', control_var)\n",
        "\n",
        "# 平均の差に対するt検定を行う\n",
        "stat, p_value = stats.ttest_ind(treatment_group, control_group)\n",
        "\n",
        "# t検定の結果を出力\n",
        "print('t検定の統計量:', stat)\n",
        "print('p値:', p_value)\n",
        "\n",
        "# p値に基づいて帰無仮説を棄却するかどうかを決定\n",
        "alpha = 0.05  # 有意水準\n",
        "if p_value < alpha:\n",
        "    print('帰無仮説は棄却されます。群間の平均に有意な差があります。')\n",
        "else:\n",
        "    print('帰無仮説は棄却されません。群間の平均に有意な差はありません。')"
      ]
    },
    {
      "cell_type": "markdown",
      "id": "80e94c2f",
      "metadata": {
        "id": "80e94c2f"
      },
      "source": [
        "# t値"
      ]
    },
    {
      "cell_type": "markdown",
      "id": "217648b8",
      "metadata": {
        "id": "217648b8"
      },
      "source": [
        "t値（t-statistic）は、主に統計的仮説検定で使用される指標の一つです。例えば、「Pythonで学ぶ効果検証入門」という書籍では、実験や観察データがどの程度有意であるかを評価するために用いることができます。\n",
        "\n",
        "### 理論\n",
        "\n",
        "t値は、標本平均が母平均とどの程度離れているかを測定します。計算式は以下の通りです。\n",
        "\n",
        "- インライン数式：$t = \\frac{\\bar{x} - \\mu}{s/\\sqrt{n}}$\n",
        "\n",
        "- ブロック数式：\n",
        "  $$\n",
        "  t = \\frac{\\bar{x} - \\mu}{s/\\sqrt{n}}\n",
        "  $$\n",
        "\n",
        "ここで、\n",
        "- $\\bar{x}$ は標本平均\n",
        "- $\\mu$ は母平均（通常は検定したい期待値）\n",
        "- $s$ は標本標準偏差\n",
        "- $n$ は標本の大きさです。\n",
        "\n",
        "### 使用用途\n",
        "\n",
        "t検定は、2つの集団の平均値を比較したり、ある数値が特定の値からどれだけ離れているかを評価するために使用されます。通常、帰無仮説（差がない）はこれらの検定で使われ、p値を得ることでその差の有意性を評価します。\n",
        "\n",
        "### Pythonでの活用\n",
        "\n",
        "Pythonでは、SciPyパッケージの`t`モジュールなどを使ってt検定を行うことができます。この書籍では、Pythonを用いて効果検証を行う際に出てくる基本的な統計手法としてt値が紹介されるでしょう。"
      ]
    },
    {
      "cell_type": "code",
      "execution_count": 22,
      "id": "4c765f62",
      "metadata": {
        "id": "4c765f62",
        "colab": {
          "base_uri": "https://localhost:8080/"
        },
        "outputId": "3f0f8114-ca02-4c49-8d30-d46d91d51cd3"
      },
      "outputs": [
        {
          "output_type": "stream",
          "name": "stdout",
          "text": [
            "標本平均: 99.71760720236298\n",
            "標本標準偏差: 7.854573855201168\n",
            "標本サイズ: 30\n",
            "t値: -0.19692081097482236\n",
            "scipyによるt値: -0.19692081097482236\n",
            "p値: 0.8452631355633766\n"
          ]
        }
      ],
      "source": [
        "# t値の計算をPythonで行う\n",
        "import numpy as np\n",
        "from scipy import stats\n",
        "\n",
        "# 標本データの作成（例としてランダムデータを使用）\n",
        "data = np.random.normal(100, 10, 30)  # 平均100、標準偏差10の正規分布から30個のデータを生成\n",
        "\n",
        "# 帰無仮説の仮定として母平均を100に設定\n",
        "mu = 100\n",
        "\n",
        "# 標本平均を計算\n",
        "data_mean = np.mean(data)\n",
        "print('標本平均:', data_mean)  # 標本平均を表示\n",
        "\n",
        "# 標本標準偏差を計算\n",
        "data_std = np.std(data, ddof=1)  # 分母がn-1となる不偏標準偏差を計算\n",
        "print('標本標準偏差:', data_std)  # 標本標準偏差を表示\n",
        "\n",
        "# 標本サイズ\n",
        "n = len(data)\n",
        "print('標本サイズ:', n)  # 標本サイズを表示\n",
        "\n",
        "# t値の計算\n",
        "t_value = (data_mean - mu) / (data_std / np.sqrt(n))\n",
        "print('t値:', t_value)  # t値を表示\n",
        "\n",
        "# scipyを使ってt検定を行う\n",
        "# この例では母平均が100である帰無仮説をテスト\n",
        "t_stat, p_value = stats.ttest_1samp(data, mu)\n",
        "print('scipyによるt値:', t_stat)\n",
        "print('p値:', p_value)"
      ]
    },
    {
      "cell_type": "markdown",
      "id": "b59f0dba",
      "metadata": {
        "id": "b59f0dba"
      },
      "source": [
        "# p-hacking"
      ]
    },
    {
      "cell_type": "markdown",
      "id": "8edd3165",
      "metadata": {
        "id": "8edd3165"
      },
      "source": [
        "p-hackingとは、研究者が統計的有意性を示すために、データ収集や分析方法を意図的に操作する行為を指します。これは科学的に不正確な結果をもたらす可能性があり、多くの場合、結果が偶然に見つかった関係を誤って支持することになります。例えば、有意水準を満たす結果を見つけるために、多数の異なる分析を試したり、サンプルサイズを増減させたりすることがあります。\n",
        "\n",
        "理論的には、p-hackingはネガティブデータとの非対称性を利用しています。すなわち、対照群と処置群の間に有意な差があると示されるまで、データをどのように扱うかを調整することにより、誤検出率（タイプIエラー）を増加させます。その結果、繰り返し分析を加えることで、偶然のキュレーションによって偶然生じた数字が『有意』に見えてしまうのです。\n",
        "\n",
        "数式的には、帰無仮説が真である場合のp値の分布が一様分布に従うという性質を利用しています。つまり、もし実験を正しくデザインして帰無仮説が真であれば、p値は0から1の間の値を等しく取り得ることになります。しかし、p-hackingによって繰り返しテストを行えば、彼狙った有意水準（例えば0.05未満）を探し当てる可能性を増加させることができます。\n",
        "\n",
        "使用用途としては研究の信頼性を向上させるために、例えば事前登録やオープンサイエンスの手法を用いて、分析計画をあらかじめ設定することで、p-hackingを防ぐステップを導入することができます。"
      ]
    },
    {
      "cell_type": "code",
      "execution_count": 24,
      "id": "ce6982a2",
      "metadata": {
        "id": "ce6982a2",
        "colab": {
          "base_uri": "https://localhost:8080/",
          "height": 527
        },
        "outputId": "4bb21ead-2162-4c91-8002-082470401a05"
      },
      "outputs": [
        {
          "output_type": "stream",
          "name": "stdout",
          "text": [
            "p-values: [0.34684460624588775, 0.9698737576348472, 0.5753895944967276, 0.20064511515309902, 0.847991022309962, 0.06645531733403402, 0.02854152864982467, 0.5668250612721968, 0.615826380479044, 0.14661581055915038, 0.29210048457353127, 0.2796235892835641, 0.17442174245222988, 0.9532259924727816, 0.32213652158672407, 0.8729066891973802, 0.40587834732867534, 0.5601717218269557, 0.4533160876007093, 0.2992957892292913]\n",
            "Number of 'significant' results: 1\n"
          ]
        },
        {
          "output_type": "display_data",
          "data": {
            "text/plain": [
              "<Figure size 640x480 with 1 Axes>"
            ],
            "image/png": "[encoded data removed]"
          },
          "metadata": {}
        }
      ],
      "source": [
        "# ライブラリのインポート\n",
        "import numpy as np\n",
        "import scipy.stats as stats\n",
        "\n",
        "# サンプルデータの作成\n",
        "np.random.seed(0)  # 安定な結果を得るためにシードを設定\n",
        "# 帰無仮説が真の場合のデータ（平均が同じ）\n",
        "data_control = np.random.normal(0, 1, 100)\n",
        "data_treatment = np.random.normal(0, 1, 100)\n",
        "\n",
        "# p値の初期化\n",
        "p_values = []\n",
        "\n",
        "# p-hackingのシミュレーション：繰り返しtテストを実行\n",
        "for _ in range(20):\n",
        "    # データの一部をランダムに選択\n",
        "    sample_control = np.random.choice(data_control, size=50, replace=True)\n",
        "    sample_treatment = np.random.choice(data_treatment, size=50, replace=True)\n",
        "    # t検定の実施\n",
        "    t_stat, p_value = stats.ttest_ind(sample_control, sample_treatment)\n",
        "    p_values.append(p_value)\n",
        "\n",
        "# 計算したp値を出力\n",
        "print(f\"p-values: {p_values}\")\n",
        "\n",
        "# 有意水準を満たすかチェック\n",
        "significant_results = [p for p in p_values if p < 0.05]\n",
        "# 有意な結果の数を出力\n",
        "print(f\"Number of 'significant' results: {len(significant_results)}\")\n",
        "\n",
        "# t検定とp-hackingの影響を視覚化するためにヒストグラムを作成\n",
        "import matplotlib.pyplot as plt\n",
        "\n",
        "plt.hist(p_values, bins=10, range=(0, 0.1), edgecolor='black')\n",
        "plt.title('Histogram of p-values (with p-hacking)')\n",
        "plt.xlabel('p-value')\n",
        "plt.ylabel('Frequency')\n",
        "plt.show()\n"
      ]
    },
    {
      "cell_type": "markdown",
      "id": "c547586a",
      "metadata": {
        "id": "c547586a"
      },
      "source": [
        "# クラスターA/Bテスト"
      ]
    },
    {
      "cell_type": "markdown",
      "id": "5d7af2b5",
      "metadata": {
        "id": "5d7af2b5"
      },
      "source": [
        "クラスターA/Bテストは、通常のA/Bテストとは異なり、個々のユーザーではなく、ユーザーのグループ（クラスター）単位でテストを実施します。これにより、個々のユーザー間の相互依存性やデータのオーバーラップを最小限に抑えます。例えば、広告キャンペーンの効果を測定する際に、個々のユーザーではなく、都市やエリアといった地理的クラスターを対象に実験を行うといった方法です。使用用途としては、ユーザー間の相互作用が強く、個別のランダムアサインが難しい環境で用いられます。\n",
        "\n",
        "数学的には、クラスターランダム化実験は $$ Y_i = \\beta_0 + \\beta_1 X_i + u_i + \\epsilon_i $$ のようにモデル化され、ここで $Y_i$ はアウトカム変数、$X_i$ は処理変数、$u_i$ はクラスター効果、$\\epsilon_i$ は誤差項です。\n",
        "\n",
        "『Pythonで学ぶ効果検証入門』では、このようなクラスターを考慮したA/BテストをPythonで実装する方法について説明されています。"
      ]
    },
    {
      "cell_type": "code",
      "execution_count": 25,
      "id": "f2ef70af",
      "metadata": {
        "id": "f2ef70af",
        "colab": {
          "base_uri": "https://localhost:8080/"
        },
        "outputId": "58a42c9d-64b8-4d46-95a3-bf9abf749c1f"
      },
      "outputs": [
        {
          "output_type": "stream",
          "name": "stdout",
          "text": [
            "クラスターごとの平均アウトカム: cluster\n",
            "0    0.174137\n",
            "1    0.030205\n",
            "2   -0.100998\n",
            "3    0.262597\n",
            "4   -0.028026\n",
            "5    0.441700\n",
            "6   -0.367611\n",
            "7    0.209480\n",
            "8   -0.041601\n",
            "9   -0.229485\n",
            "Name: outcome, dtype: float64\n",
            "回帰モデルの要約:\n",
            "                            OLS Regression Results                            \n",
            "==============================================================================\n",
            "Dep. Variable:                outcome   R-squared:                       0.000\n",
            "Model:                            OLS   Adj. R-squared:                 -0.010\n",
            "Method:                 Least Squares   F-statistic:                  0.001853\n",
            "Date:                Thu, 13 Feb 2025   Prob (F-statistic):              0.966\n",
            "Time:                        05:51:57   Log-Likelihood:                -139.93\n",
            "No. Observations:                 100   AIC:                             283.9\n",
            "Df Residuals:                      98   BIC:                             289.1\n",
            "Df Model:                           1                                         \n",
            "Covariance Type:            nonrobust                                         \n",
            "==============================================================================\n",
            "                 coef    std err          t      P>|t|      [0.025      0.975]\n",
            "------------------------------------------------------------------------------\n",
            "Intercept      0.0394      0.142      0.278      0.781      -0.241       0.320\n",
            "treatment     -0.0085      0.198     -0.043      0.966      -0.402       0.385\n",
            "==============================================================================\n",
            "Omnibus:                        0.077   Durbin-Watson:                   1.881\n",
            "Prob(Omnibus):                  0.962   Jarque-Bera (JB):                0.019\n",
            "Skew:                          -0.029   Prob(JB):                        0.991\n",
            "Kurtosis:                       2.966   Cond. No.                         2.64\n",
            "==============================================================================\n",
            "\n",
            "Notes:\n",
            "[1] Standard Errors assume that the covariance matrix of the errors is correctly specified.\n",
            "クラスターごとの集計データ:\n",
            "         treatment   outcome\n",
            "cluster                     \n",
            "0              0.5  0.174137\n",
            "1              0.4  0.030205\n",
            "2              0.6 -0.100998\n",
            "3              0.3  0.262597\n",
            "4              0.5 -0.028026\n",
            "5              0.6  0.441700\n",
            "6              0.7 -0.367611\n",
            "7              0.6  0.209480\n",
            "8              0.4 -0.041601\n",
            "9              0.5 -0.229485\n",
            "Intercept    0.039389\n",
            "treatment   -0.008528\n",
            "dtype: float64\n"
          ]
        }
      ],
      "source": [
        "# クラスターA/Bテストの理論をPythonで表現する\n",
        "\n",
        "import numpy as np\n",
        "import pandas as pd\n",
        "\n",
        "# サンプルデータ作成\n",
        "np.random.seed(123)\n",
        "data = pd.DataFrame({\n",
        "    'cluster': np.repeat(range(10), 10),  # 10クラスター各クラスターに10個の観測\n",
        "    'treatment': np.random.binomial(1, 0.5, 100),  # 処理群と制御群にランダムに割り当て\n",
        "    'outcome': np.random.normal(0, 1, 100)  # 正規分布に従うアウトカム\n",
        "})\n",
        "\n",
        "# クラスターごとの平均アウトカムを表示\n",
        "cluster_means = data.groupby('cluster')['outcome'].mean()\n",
        "print('クラスターごとの平均アウトカム:', cluster_means)\n",
        "\n",
        "# クラスターを考慮した線形回帰モデル\n",
        "import statsmodels.formula.api as smf\n",
        "\n",
        "model = smf.ols('outcome ~ treatment', data=data).fit()\n",
        "print('回帰モデルの要約:')\n",
        "print(model.summary())\n",
        "\n",
        "# クラスターごとに集計したデータフレームの確認\n",
        "cluster_data = data.groupby('cluster').mean()\n",
        "print('クラスターごとの集計データ:')\n",
        "print(cluster_data)\n",
        "\n",
        "# 理論を反映したモデル式\n",
        "# Y_i = \\beta_0 + \\beta_1 X_i + u_i + \\epsilon_i の形に類似\n",
        "# モデルの係数を出力し、結果を確認\\print('モデルの係数:')\n",
        "print(model.params)"
      ]
    },
    {
      "cell_type": "markdown",
      "id": "e8264736",
      "metadata": {
        "id": "e8264736"
      },
      "source": [
        "# チェリーピッキング"
      ]
    },
    {
      "cell_type": "markdown",
      "id": "b7065e9a",
      "metadata": {
        "id": "b7065e9a"
      },
      "source": [
        "チェリーピッキング（cherry-picking）とは、データ分析や統計調査において、自分の主張や仮説に合致するデータや結果のみを選んで用い、不都合なデータや結果を無視する手法を指します。この手法は、分析結果の偏りを生み、誤った結論を導くリスクがあります。例えば、特定の薬の効果を示すデータのみを強調し、副作用のデータを無視する場合などです。\n",
        "\n",
        "**理論的背景**:\n",
        "チェリーピッキングの問題点は、データの全体像を無視することで結果の信頼性が損なわれることです。統計的な分析では、全てのデータポイントを考慮に入れることで、結果の正確性が担保されます。\n",
        "\n",
        "**数式**:\n",
        "インライン数式として、データセットの全データを $D = \\{d_1, d_2, \\ldots, d_n\\}$ としたとき、チェリーピッキングはその部分集合 $D' \\subset D$ のみを用いることを意味します。\n",
        "\n",
        "ブロック形式では以下のように示されます。\n",
        "$$\n",
        "D' = \\{d_i \\in D \\mid \\text{condition}(d_i)\\}\n",
        "$$\n",
        "\n",
        "**使用用途**:\n",
        "人は自分の信念を裏付けるデータのみを無意識に選びがちです。このため、チェリーピッキングは注意深いデータ分析と結果の解釈において、避けるべき選択肢として認識されています。"
      ]
    },
    {
      "cell_type": "code",
      "execution_count": 26,
      "id": "7dd10364",
      "metadata": {
        "id": "7dd10364",
        "colab": {
          "base_uri": "https://localhost:8080/"
        },
        "outputId": "8bad1dcf-1a44-4f3a-a5cc-3ffe2738c9e2"
      },
      "outputs": [
        {
          "output_type": "stream",
          "name": "stdout",
          "text": [
            "Full data: [{'id': 1, 'value': 10}, {'id': 2, 'value': 15}, {'id': 3, 'value': -2}, {'id': 4, 'value': 20}, {'id': 5, 'value': -5}]\n",
            "Cherry-picked positive data: [{'id': 1, 'value': 10}, {'id': 2, 'value': 15}, {'id': 4, 'value': 20}]\n",
            "Average of full data: 7.6\n",
            "Average of cherry-picked data: 15.0\n"
          ]
        }
      ],
      "source": [
        "# チェリーピッキングを例示するコード\n",
        "\n",
        "# あるデータセットがあるとする\n",
        "full_data = [ {'id': 1, 'value': 10}, {'id': 2, 'value': 15}, {'id': 3, 'value': -2}, {'id': 4, 'value': 20}, {'id': 5, 'value': -5} ]\n",
        "\n",
        "print('Full data:', full_data)\n",
        "\n",
        "# ポジティブな値のみを選別（チェリーピッキング）\n",
        "positive_only = [d for d in full_data if d['value'] > 0]\n",
        "\n",
        "print('Cherry-picked positive data:', positive_only)\n",
        "\n",
        "# ここでは、データ全体を考慮に入れずに、ポジティブな値だけに注目してしまうことで、\n",
        "# 全体の偏りをもたらす例を示しています。\n",
        "\n",
        "# 仮説を確かめるためのデータセット全体に基づく分析も考慮\n",
        "average_full = sum(item['value'] for item in full_data) / len(full_data)\n",
        "\n",
        "print('Average of full data:', average_full)\n",
        "\n",
        "# チェリーピッキング後の平均（なんらかの仮説検証に不適切な場合がある）\n",
        "average_cherry_picked = sum(item['value'] for item in positive_only) / len(positive_only)\n",
        "\n",
        "print('Average of cherry-picked data:', average_cherry_picked)"
      ]
    },
    {
      "cell_type": "markdown",
      "id": "45156c4b",
      "metadata": {
        "id": "45156c4b"
      },
      "source": [
        "# コルモゴロフ-スミルノフ検定"
      ]
    },
    {
      "cell_type": "markdown",
      "id": "432f59e8",
      "metadata": {
        "id": "432f59e8"
      },
      "source": [
        "コルモゴロフ-スミルノフ検定（K-S検定）は、2つの一元分布が同じであるかどうかを検定するために使用される非パラメトリックな方法です。\\n\\n### 理論\\nコルモゴロフ-スミルノフ検定の主な目的は、同じ累積分布関数（CDF）を持つかどうかを確認することです。K-S検定では、観測データの累積分布関数（ECDF）と理論的な分布のCDFの最大差を測定します。\\n\\n一般的に、K-S検定は次のような方法で定義されます：\\n\\n$D = \\sup_x |F_n(x) - F(x)|$\\n\\nここで、\\(D\\) はK-S統計量、\\(F_n(x)\\) は観測サンプルの累積分布関数、\\(F(x)\\) は理論的分布です。\\n\\n$$D = \\sup_x |F_n(x) - F(x)|$$\\n\\n### 使用用途\\n1. モデルフィッティング：データが特定の理論的分布に従うかどうかの確認。\\n2. グッドネス・オブ・フィット：モデルの適合度を評価。\\n\\nK-S検定はPythonで学ぶ効果検証入門書において、特にデータの前処理や外れ値の処理、または異常検知に関連する章で利用されるかもしれません。"
      ]
    },
    {
      "cell_type": "code",
      "execution_count": 27,
      "id": "e868e13b",
      "metadata": {
        "id": "e868e13b"
      },
      "outputs": [],
      "source": [
        "# 必要なライブラリのインポート\\nfrom scipy import stats\\nimport numpy as np\\n\\n# データサンプルを生成（正規分布に従うデータ）\\ndata1 = np.random.normal(loc=0, scale=1, size=100)\\ndata2 = np.random.normal(loc=0, scale=1, size=100)\\n\\n# printでデータを確認\\nprint('Data1:', data1[:5], '...')\\nprint('Data2:', data2[:5], '...')\\n\\n# コルモゴロフ-スミルノフ検定の実行\\nks_statistic, p_value = stats.ks_2samp(data1, data2)\\n\\n# 結果の表示\\nprint('K-S statistic:', ks_statistic)\\nprint('p-value:', p_value)\\n\\n# 結果の解釈\\nif p_value < 0.05:  # よく使用される5%有意水準\\n    print('2つのサンプルは異なる分布を持つと結論付けます。')\\nelse:\\n    print('2つのサンプルは同じ分布に従う可能性があります。')"
      ]
    },
    {
      "cell_type": "markdown",
      "id": "0c8c179b",
      "metadata": {
        "id": "0c8c179b"
      },
      "source": [
        "# 層化 A/B テスト"
      ]
    },
    {
      "cell_type": "markdown",
      "id": "e25cd722",
      "metadata": {
        "id": "e25cd722"
      },
      "source": [
        "層化 A/B テストは、実験群と対照群を作る際に、様々な異なる層（例えば、年齢、性別、地域など）によって分割する手法です。これにより、各層でのキャンペーン効果をより正確に評価することができます。層化 A/B テストは、特に大きなグループの中に重要なサブグループが存在するときや、全体的なサンプルの偏りを少なくするために有効です。\\n\\n数式で表現すると、各層の平均効果は以下のようになります。\\(Y_i = \\frac{1}{n_i}\\sum_{j=1}^{n_i} Y_{ij}\\)、ここで\\(Y_i\\)はi番目の層の平均効果、\\(n_i\\)はi番目の層のサンプル数、\\(Y_{ij}\\)はi番目の層のj番目のサンプルの効果です。\\n\\nまた、全体の平均効果は層ごとの重み付き平均として表されます。\\n$$ Y = \\sum_{i=1}^{k} \\frac{n_i}{N} Y_i $$\\nここで、\\(N\\)は全体のサンプル数、\\(k\\)は層の数です。\\n\\nこの手法は、『Pythonで学ぶ効果検証入門』でも詳細に解説されており、実践的なデータ分析において非常に役立ちます。"
      ]
    },
    {
      "cell_type": "code",
      "execution_count": 28,
      "id": "9d7d1fe4",
      "metadata": {
        "id": "9d7d1fe4",
        "colab": {
          "base_uri": "https://localhost:8080/"
        },
        "outputId": "7f5d7b6c-18d4-4b6b-cfb0-26be279f57e1"
      },
      "outputs": [
        {
          "output_type": "stream",
          "name": "stdout",
          "text": [
            "   年齢  性別 グループ         結果\n",
            "0  18  女性    B  48.954894\n",
            "1  21  男性    A  33.898512\n",
            "2  21  男性    B  17.949026\n",
            "3  57  女性    B  17.098660\n",
            "4  27  男性    B  46.345098\n",
            "年齢  性別\n",
            "18  女性    50.463007\n",
            "    男性    36.534071\n",
            "19  女性    88.029760\n",
            "    男性    63.771128\n",
            "21  男性    24.111371\n",
            "Name: 結果, dtype: float64\n",
            "全体の平均効果: 62.8677426355358\n"
          ]
        }
      ],
      "source": [
        "# 必要なライブラリをインポート\n",
        "import numpy as np\n",
        "import pandas as pd\n",
        "\n",
        "# サンプルデータの作成\n",
        "# 年齢, 性別, グループ, 結果\n",
        "np.random.seed(0)  # 乱数を固定して結果を再現性のあるものにします。\n",
        "data = pd.DataFrame({\n",
        "    '年齢': np.random.randint(18, 60, 100),\n",
        "    '性別': np.random.choice(['男性', '女性'], 100),\n",
        "    'グループ': np.random.choice(['A', 'B'], 100),\n",
        "    '結果': np.random.rand(100) * 100  # サンプルの結果データ\n",
        "})\n",
        "\n",
        "# データの確認\n",
        "print(data.head())\n",
        "\n",
        "# 層化A/Bテスト: 年齢と性別を層として平均効果を計算します\n",
        "# 各層を一意のカテゴリとして作成\n",
        "strata = data.groupby(['年齢', '性別'])\n",
        "\n",
        "# 結果の計算\n",
        "mean_results = strata['結果'].mean()\n",
        "print(mean_results.head())  # 各層の平均効果を確認\n",
        "\n",
        "# 全体の重み付き平均を計算\n",
        "n_total = len(data)\n",
        "overall_effect = sum((len(group) / n_total) * mean for (group, mean) in zip(strata, mean_results))\n",
        "print(f'全体の平均効果: {overall_effect}')"
      ]
    },
    {
      "cell_type": "markdown",
      "id": "c140d3c5",
      "metadata": {
        "id": "c140d3c5"
      },
      "source": [
        "# クラスター頑健標準誤差"
      ]
    },
    {
      "cell_type": "markdown",
      "id": "1a86d67e",
      "metadata": {
        "id": "1a86d67e"
      },
      "source": [
        "### クラスター頑健標準誤差\n",
        "\n",
        "クラスター頑健標準誤差（Cluster-Robust Standard Errors）は、データの観測単位がクラスターとして分かれている場合における誤差の相関を考慮して、標準誤差を修正したものです。通常の回帰分析では、標準誤差の算出において観測間の独立性が仮定されていますが、クラスターが存在するデータの場合、この仮定が破れ、標準誤差が過小に見積もられることがあります。\n",
        "\n",
        "インライン数式で表すと、通常の標準誤差は$o(\\sqrt{n})$で減少しますが、クラスターが存在する場合、クラスター毎に独立性を仮定し、ブロック数式で表せば、以下のように調整されます。\n",
        "\n",
        "$$ SE_{cluster} = \\sqrt{\\sum_{g=1}^{G} \\frac{1}{n_g} \\sum_{i \\in g} (e_i^2)} $$\n",
        "\n",
        "ここで、$G$はクラスターの数、$n_g$はクラスター$g$の中の観測の数、$e_i$は誤差項です。これにより、同一クラスター内の観測間の相関を考慮した上で、より正確な標準誤差を算出することができます。\n",
        "\n",
        "これに関する理論は、\"Pythonで学ぶ効果検証入門\"の中で、因果推論や回帰分析の信頼性を高める方法として解説されています。書籍では、単なる統計的手法の解説にとどまらず、そのPython実装も含めて、効果的な検証手法としての活用法を解説しています。\n",
        "\n",
        "クラスター頑健標準誤差は具体的には例えばパネルデータや、地理的な単位でクラスター化されているデータなど、エコノメトリクスの様々な分野で利用されます。"
      ]
    },
    {
      "cell_type": "code",
      "execution_count": null,
      "id": "80c320b6",
      "metadata": {
        "id": "80c320b6"
      },
      "outputs": [],
      "source": [
        "# pandas, numpy, and statsmodelsライブラリをインポートします。\n",
        "import pandas as pd\n",
        "import numpy as np\n",
        "import statsmodels.api as sm\n",
        "from statsmodels.formula.api import ols\n",
        "from statsmodels.stats.sandwich_covariance import cov_cluster\n",
        "\n",
        "# サンプルデータを生成します\n",
        "np.random.seed(0)\n",
        "n = 100  # 観測数\n",
        "G = 10   # クラスターの数\n",
        "data = pd.DataFrame({'X': np.random.rand(n),\n",
        "                      'Z': np.random.rand(n),\n",
        "                      'Cluster': np.random.choice(range(G), size=n)})\n",
        "data['Y'] = 1.5 * data['X'] + np.random.randn(n)\n",
        "\n",
        "# 最初に生成したデータを出力します\n",
        "print(data.head())\n",
        "\n",
        "# 線形回帰モデルをフィットします\n",
        "model = ols('Y ~ X + Z', data).fit()\n",
        "\n",
        "# モデルの要約を印刷します\n",
        "print(model.summary())\n",
        "\n",
        "# クラスター頑健標準誤差を計算します\n",
        "cov_clustered = cov_cluster(model, groups=data['Cluster'])\n",
        "\n",
        "# クラスター頑健標準誤差を出力します\n",
        "print('Cluster Robust Standard Errors: ', np.sqrt(np.diag(cov_clustered)))\n",
        "\n",
        "# Resultオブジェクトを生成して結果を確認できます\n",
        "result = model.get_robustcov_results(cov_type='cluster', groups=data['Cluster'])\n",
        "print(result.summary())\n",
        "\n",
        "# このコードは、サンプルデータを生成し、そのデータに対して回帰モデルを適合させます。\n",
        "# その後、クラスター頑健標準誤差を計算し、出力します。\n",
        "# statsmodelsライブラリのcov_cluster関数を使ってクラスター頑健標準誤差を計算しています。"
      ]
    },
    {
      "cell_type": "markdown",
      "id": "c548d949",
      "metadata": {
        "id": "c548d949"
      },
      "source": [
        "# 局所平均処置効果（LATE）"
      ]
    },
    {
      "cell_type": "markdown",
      "id": "d42ae288",
      "metadata": {
        "id": "d42ae288"
      },
      "source": [
        "局所平均処置効果（LATE: Local Average Treatment Effect）は、処置を受けるか受けないかという選択がランダムではなく、別の変数（導出変数）によって部分的に制御されている場合に用いられる効果測定の指標です。特に、施策の影響を理解するための因果推論の枠組みで重要な役割を果たします。LATEは特に、コンプライアーと呼ばれる集団に対する処置の平均的な影響を測定するものです。数式で表現すると、$$ LATE = \\frac{E[Y|Z=1] - E[Y|Z=0]}{E[D|Z=1] - E[D|Z=0]} $$ です。ここで、$Z$は導出変数（インストルメンタル変数）、$Y$はアウトカム、$D$は処置変数を表します。インライン数式としては $LATE = \\frac{E[Y|Z=1] - E[Y|Z=0]}{E[D|Z=1] - E[D|Z=0]}$ となります。この指標は主に、無作為化実験が不可能な場面で、因果推論を行うための手段として使用されます。"
      ]
    },
    {
      "cell_type": "code",
      "execution_count": 30,
      "id": "132ef173",
      "metadata": {
        "id": "132ef173",
        "colab": {
          "base_uri": "https://localhost:8080/"
        },
        "outputId": "a1557450-907b-4ff4-bd6e-c54b0890c2c0"
      },
      "outputs": [
        {
          "output_type": "stream",
          "name": "stdout",
          "text": [
            "E[Y|Z=1]: 10.162752530833421\n",
            "E[Y|Z=0]: 10.23241277946874\n",
            "E[D|Z=1]: 0.6841046277665996\n",
            "E[D|Z=0]: 0.7276341948310139\n",
            "LATE: 1.6002972998154872\n"
          ]
        }
      ],
      "source": [
        "# 必要なライブラリをインポート\n",
        "import numpy as np\n",
        "import pandas as pd\n",
        "\n",
        "# サンプルデータを作成\n",
        "np.random.seed(42)  # 乱数シードを設定して結果の再現性を確保\n",
        "data = pd.DataFrame({\n",
        "    'Z': np.random.binomial(1, 0.5, 1000),  # Zは導出変数で0と1をランダムに割り振る\n",
        "    'Y': np.random.normal(loc=10, scale=2, size=1000),  # Yはアウトカム変数として正規分布に従う\n",
        "    'D': np.random.binomial(1, 0.7, 1000)  # Dは処置変数で0と1をランダムに割り振る\n",
        "})\n",
        "\n",
        "# 導出変数Zによる期待値を計算\n",
        "E_Y_given_Z1 = data[data['Z'] == 1]['Y'].mean()\n",
        "E_Y_given_Z0 = data[data['Z'] == 0]['Y'].mean()\n",
        "E_D_given_Z1 = data[data['Z'] == 1]['D'].mean()\n",
        "E_D_given_Z0 = data[data['Z'] == 0]['D'].mean()\n",
        "\n",
        "# LATEを計算\n",
        "LATE = (E_Y_given_Z1 - E_Y_given_Z0) / (E_D_given_Z1 - E_D_given_Z0)\n",
        "\n",
        "# 結果を出力\n",
        "print(f'E[Y|Z=1]: {E_Y_given_Z1}')\n",
        "print(f'E[Y|Z=0]: {E_Y_given_Z0}')\n",
        "print(f'E[D|Z=1]: {E_D_given_Z1}')\n",
        "print(f'E[D|Z=0]: {E_D_given_Z0}')\n",
        "print(f'LATE: {LATE}')\n",
        "\n",
        "# このコードでは、サンプルデータを生成し、LATEを計算しています。\n",
        "# E[Y|Z=1] と E[Y|Z=0] は Z が 1のときと 0のときの Y の平均を意味し、\n",
        "# E[D|Z=1] と E[D|Z=0] は同様に D の平均を意味します。\n",
        "# LATE は (E[Y|Z=1] - E[Y|Z=0]) / (E[D|Z=1] - E[D|Z=0]) で計算されることを示しています。"
      ]
    },
    {
      "cell_type": "markdown",
      "id": "f9938afb",
      "metadata": {
        "id": "f9938afb"
      },
      "source": [
        "# 交差項"
      ]
    },
    {
      "cell_type": "markdown",
      "id": "1441eabd",
      "metadata": {
        "id": "1441eabd"
      },
      "source": [
        "交差項（Interaction term）は、回帰分析やその他の統計モデルにおいて、二つ以上の独立変数の相互作用を表現するために使われる項です。効果検証においては、どのように変数間の関係がアウトカム変数に影響を与えるかを理解する際に用いられます。交差項を含めることで、二つの変数が同時に変化する際の影響を捉えることができ、これにより単独の影響だけでなく相互作用の影響も評価できます。数学的には、独立変数 \\( X_1 \\) と \\( X_2 \\) の交差項は通常、それらを掛け合わせた形で表現されます。\n",
        "\n",
        "- インライン数式による表現: $X_1 \\times X_2$\n",
        "- ブロック数式としては、\n",
        "  $$\n",
        "  X_1 \\times X_2\n",
        "  $$\n",
        "\n",
        "交差項は、特に応答変数がある水準を超えたときに効果が変わる場合や、異なるグループ間で効果が異なる場合をモデル化する時に非常に有用です。\n",
        "\n",
        "Pythonで『Pythonで学ぶ効果検証入門』などの書籍を通して学ぶ場合、交差項は多重回帰分析の実例を通してその意義と使い方が説明されています。このような操作は、`pandas`や`statsmodels`を用いて実装されることが一般的です。"
      ]
    },
    {
      "cell_type": "code",
      "execution_count": 31,
      "id": "84eb21d8",
      "metadata": {
        "id": "84eb21d8",
        "colab": {
          "base_uri": "https://localhost:8080/"
        },
        "outputId": "59851f68-4d51-4858-8c3c-ab98a3a8d21f"
      },
      "outputs": [
        {
          "output_type": "stream",
          "name": "stdout",
          "text": [
            "Original DataFrame:\n",
            "   X1  X2    Y\n",
            "0   1   5  1.5\n",
            "1   2   4  2.5\n",
            "2   3   3  3.5\n",
            "3   4   2  4.5\n",
            "4   5   1  5.5\n",
            "\n",
            "Regression Summary:\n",
            "                            OLS Regression Results                            \n",
            "==============================================================================\n",
            "Dep. Variable:                      Y   R-squared:                       1.000\n",
            "Model:                            OLS   Adj. R-squared:                  1.000\n",
            "Method:                 Least Squares   F-statistic:                 8.679e+28\n",
            "Date:                Thu, 13 Feb 2025   Prob (F-statistic):           1.15e-29\n",
            "Time:                        05:52:19   Log-Likelihood:                 157.76\n",
            "No. Observations:                   5   AIC:                            -309.5\n",
            "Df Residuals:                       2   BIC:                            -310.7\n",
            "Df Model:                           2                                         \n",
            "Covariance Type:            nonrobust                                         \n",
            "==============================================================================\n",
            "                 coef    std err          t      P>|t|      [0.025      0.975]\n",
            "------------------------------------------------------------------------------\n",
            "Intercept      0.1842   7.68e-16    2.4e+14      0.000       0.184       0.184\n",
            "X1             1.0526    2.6e-15   4.05e+14      0.000       1.053       1.053\n",
            "X2             0.0526    2.6e-15   2.03e+13      0.000       0.053       0.053\n",
            "I(X1 * X2)  1.305e-15   2.03e-15      0.643      0.586   -7.42e-15       1e-14\n",
            "==============================================================================\n",
            "Omnibus:                          nan   Durbin-Watson:                   0.339\n",
            "Prob(Omnibus):                    nan   Jarque-Bera (JB):                0.765\n",
            "Skew:                           0.348   Prob(JB):                        0.682\n",
            "Kurtosis:                       1.214   Cond. No.                     8.35e+16\n",
            "==============================================================================\n",
            "\n",
            "Notes:\n",
            "[1] Standard Errors assume that the covariance matrix of the errors is correctly specified.\n",
            "[2] The smallest eigenvalue is 5.02e-32. This might indicate that there are\n",
            "strong multicollinearity problems or that the design matrix is singular.\n",
            "\n",
            "DataFrame with Interaction Term (X1*X2):\n",
            "   X1  X2    Y  X1*X2\n",
            "0   1   5  1.5      5\n",
            "1   2   4  2.5      8\n",
            "2   3   3  3.5      9\n",
            "3   4   2  4.5      8\n",
            "4   5   1  5.5      5\n"
          ]
        },
        {
          "output_type": "stream",
          "name": "stderr",
          "text": [
            "/usr/local/lib/python3.11/dist-packages/statsmodels/stats/stattools.py:74: ValueWarning: omni_normtest is not valid with less than 8 observations; 5 samples were given.\n",
            "  warn(\"omni_normtest is not valid with less than 8 observations; %i \"\n"
          ]
        }
      ],
      "source": [
        "# 必要なライブラリのインポート\n",
        "import pandas as pd\n",
        "import statsmodels.formula.api as smf\n",
        "\n",
        "# サンプルデータフレームの作成\n",
        "# ここでは、X1, X2が独立変数で、Yが従属変数という仮定\n",
        "# X1とX2の交差項も含めて計算します\n",
        "\n",
        "data = {\n",
        "    'X1': [1, 2, 3, 4, 5],\n",
        "    'X2': [5, 4, 3, 2, 1],\n",
        "    'Y': [1.5, 2.5, 3.5, 4.5, 5.5]\n",
        "}\n",
        "df = pd.DataFrame(data)\n",
        "\n",
        "# データフレームの内容を表示\n",
        "print('Original DataFrame:')\n",
        "print(df)\n",
        "\n",
        "# statsmodelsを使用して回帰分析を実行\n",
        "# 交差項はC()を用いることで、X1とX2の相互作用を指定します\n",
        "model = smf.ols(formula='Y ~ X1 + X2 + I(X1*X2)', data=df).fit()\n",
        "\n",
        "# 回帰分析の結果を表示\n",
        "print('\\nRegression Summary:')\n",
        "print(model.summary())\n",
        "\n",
        "# 交差項がどのようにデータセットに追加されるかの例\n",
        "# 新しい列 'X1*X2' を作成して確認\n",
        "print('\\nDataFrame with Interaction Term (X1*X2):')\n",
        "df['X1*X2'] = df['X1'] * df['X2']\n",
        "print(df)"
      ]
    },
    {
      "cell_type": "markdown",
      "id": "fad31be0",
      "metadata": {
        "id": "fad31be0"
      },
      "source": [
        "# 二元配置固定効果（two way fixed effect)"
      ]
    },
    {
      "cell_type": "markdown",
      "id": "91488b18",
      "metadata": {
        "id": "91488b18"
      },
      "source": [
        "二元配置固定効果モデル（Two-Way Fixed Effects Model）は、観測対象間の固定的な特性（個体効果）だけでなく、同一の時期内で影響を及ぼす可能性のある特性（時点効果）を取り入れることができます。これにより未観測の変数が分析結果に及ぼす影響を制御することが可能です。このモデルは、観測されたデータ内の誤差項を均等に扱わないことで、より正確な効果を抽出することができます。\n",
        "\n",
        "理論的には、二元配置固定効果は次のような形で数学的に表されます。\n",
        "インライン数式で表すと、$y_{it} = \\alpha + \\beta X_{it} + \\gamma_i + \\delta_t + \\epsilon_{it}$ となります。\n",
        "\n",
        "ブロック数式で表すと、\n",
        "$$\n",
        "y_{it} = \\alpha + \\beta X_{it} + \\gamma_i + \\delta_t + \\epsilon_{it}\n",
        "$$\n",
        "ここで、$\\gamma_i$ は個体固有の効果、$\\delta_t$ は時点に関連する効果、$\\epsilon_{it}$ は誤差項を指します。\n",
        "\n",
        "このモデルは主に、特定の産業や地域に固有の特性がある場合の経済学研究や、パネルデータを用いた政策評価などの分野で使用されます。\n",
        "\n",
        "Pythonで学ぶ効果検証入門では、こうした固定効果モデルをPythonライブラリを用いて実装する方法が紹介されています。この知識は、統計モデリングや因果推論のアプローチを実践するための基礎となります。"
      ]
    },
    {
      "cell_type": "code",
      "execution_count": null,
      "id": "6faa9498",
      "metadata": {
        "id": "6faa9498"
      },
      "outputs": [],
      "source": [
        "# 必要なライブラリをインポートします\n",
        "import pandas as pd\n",
        "import statsmodels.api as sm\n",
        "\n",
        "# サンプルデータの作成\n",
        "# ここでは、時点（year）、個体（entity）、説明変数（X）、目的変数（y）を含むデータフレームを作成します\n",
        "data = pd.DataFrame({\n",
        "    'entity': [1, 1, 1, 2, 2, 2],\n",
        "    'year': [1, 2, 3, 1, 2, 3],\n",
        "    'X': [10, 15, 20, 10, 15, 20],\n",
        "    'y': [100, 150, 200, 110, 160, 210]\n",
        "})\n",
        "\n",
        "# データ内容を出力\n",
        "print('サンプルデータ:')\n",
        "print(data)\n",
        "\n",
        "# エンティティと時点のダミー変数を作成\n",
        "entity_dummies = pd.get_dummies(data['entity'], prefix='entity', drop_first=True)\n",
        "year_dummies = pd.get_dummies(data['year'], prefix='year', drop_first=True)\n",
        "\n",
        "# 説明変数の準備\n",
        "X = pd.concat([data['X'], entity_dummies, year_dummies], axis=1)\n",
        "X = sm.add_constant(X)  # 定数項を追加\n",
        "\n",
        "# 目的変数\n",
        "y = data['y']\n",
        "\n",
        "# デザインマトリックスと目的変数を出力\n",
        "print('\\nデザインマトリックス:')\n",
        "print(X)\n",
        "print('\\n目的変数:')\n",
        "print(y)\n",
        "\n",
        "# フィッティングモデル\n",
        "model = sm.OLS(y, X).fit()\n",
        "\n",
        "# 結果を出力\n",
        "print('\\nモデルの要約:')\n",
        "print(model.summary())\n",
        "\n",
        "# このコードはデザインマトリックスを構築し、二元配置固定効果モデルをフィットする方法を示します。\n",
        "# サンプルデータは単純な形で作成されていますが、実際にはより大きなパネルデータセットでの実行を想定しています。\n",
        "\n"
      ]
    },
    {
      "cell_type": "markdown",
      "id": "7e13d11f",
      "metadata": {
        "id": "7e13d11f"
      },
      "source": [
        "# rdrobustライブラリ"
      ]
    },
    {
      "cell_type": "markdown",
      "id": "c6a328ae",
      "metadata": {
        "id": "c6a328ae"
      },
      "source": [
        "rdrobustライブラリは、回帰不連続デザイン (Regression Discontinuity Design, RDD) に基づく分析を行うためのライブラリです。回帰不連続デザインは統計学や計量経済学における手法の一つで、介入の効果を推定するのに用いられます。この手法は、変数が特定の閾値で変化する点（ディスコンティニュイティ）を利用して因果関係を推定します。\n",
        "\n",
        "## 理論\n",
        "RDDの理論は、介入の割り当てが変数の連続的な部分ではなく不連続な部分で行われる場合、介入の効果をより正確に推定できるというものです。例えば、テストのスコアが40点以上なら奨学金が受けられるといった状況を考えることができます。この場合、40点が閾値となり、その前後のスコアを持つ人々のグループ間での差異を分析することで、奨学金の効果を測定できます。\n",
        "\n",
        "数式で表すと、介入後の結果を $Y_i$、介入前の結果を $X_i$ とし、閾値を $c$ とします。RDDの基礎モデルは以下のように示されます。\n",
        "\n",
        "$$Y_i = \\alpha + \\tau D_i + \\beta (X_i - c) + \\varepsilon_i$$\n",
        "\n",
        "ここで、$D_i$ は $X_i \\geq c$ である場合に1、それ以外の場合は0の指示変数です。$\\tau$ は関心のある介入効果を表します。\n",
        "\n",
        "## 使用用途\n",
        "rdrobustは、RDDを用いた推定に必要な様々な機能を提供します。具体的には、バンド幅の選択、推定量の算出、標準誤差の計算、そして視覚化といった分析の各ステージをサポートします。『Pythonで学ぶ効果検証入門』では、このライブラリを使ってRDDの理論と実際のデータへの応用方法を紹介しています。"
      ]
    },
    {
      "cell_type": "code",
      "execution_count": 33,
      "id": "ece121f6",
      "metadata": {
        "id": "ece121f6",
        "colab": {
          "base_uri": "https://localhost:8080/",
          "height": 541
        },
        "outputId": "949f89c5-3ea2-413f-f3e1-da7c6b977d7e"
      },
      "outputs": [
        {
          "output_type": "display_data",
          "data": {
            "text/plain": [
              "<Figure size 640x480 with 1 Axes>"
            ],
            "image/png": "[encoded data removed]"
          },
          "metadata": {}
        },
        {
          "output_type": "stream",
          "name": "stdout",
          "text": [
            "Xの最初の10個: [54.88135039 71.51893664 60.27633761 54.4883183  42.36547993 64.58941131\n",
            " 43.75872113 89.17730008 96.36627605 38.34415188]\n",
            "Yの最初の10個: [  6.93218882  15.85586524  19.38612504   6.17332587  -1.31234322\n",
            "  12.40146177  -2.71620666  25.55241928  26.35786194 -12.7845618 ]\n"
          ]
        }
      ],
      "source": [
        "# 必要なライブラリをインポート\n",
        "import numpy as np\n",
        "import matplotlib.pyplot as plt\n",
        "\n",
        "# サンプルデータを生成\n",
        "# X: 独立変数, Y: 従属変数\n",
        "np.random.seed(0)\n",
        "X = np.random.uniform(0, 100, 1000)  # 0から100の間の一様分布\n",
        "Y = 2 + 3 * (X >= 40) + 0.5 * (X - 50) + np.random.normal(0, 5, 1000)\n",
        "\n",
        "# 散布図をプロットし、RDDの視覚化\n",
        "plt.scatter(X, Y, alpha=0.5, c=\"gray\")\n",
        "plt.axvline(x=40, color=\"red\", linestyle=\"--\")  # 閾値をプロット\n",
        "plt.title(\"Regression Discontinuity Design\")\n",
        "plt.xlabel(\"X\")\n",
        "plt.ylabel(\"Y\")\n",
        "plt.show()\n",
        "\n",
        "# 変数の確認\n",
        "print(f\"Xの最初の10個: {X[:10]}\")\n",
        "print(f\"Yの最初の10個: {Y[:10]}\")\n",
        "\n",
        "# rdrobustライブラリを使用したRDD分析はここでは行っていないが、\n",
        "# 上記で生成したデータは分析に適した形となっている。\n",
        "# このデータを元に、rdrobustを用いて回帰の実施が可能。"
      ]
    },
    {
      "cell_type": "markdown",
      "id": "2bed4217",
      "metadata": {
        "id": "2bed4217"
      },
      "source": [
        "# アウトカム"
      ]
    },
    {
      "cell_type": "markdown",
      "id": "3995276a",
      "metadata": {
        "id": "3995276a"
      },
      "source": [
        "アウトカムとは、特定の処置や介入によって得られる結果や影響を指します。この概念は因果推論や効果検証において重要な役割を果たします。例えば、医療における治療の効果を検証する際の患者の健康状態や学力向上の介入による試験スコアなどが挙げられます。一般的に、アウトカムは数学的には変数として扱われることが多く、特定の処置による期待される変化を統計的に追跡します。\n",
        "\n",
        "インライン数式としては、例えば$Y$がアウトカム変数を表すとします。\n",
        "\n",
        "ブロック数式は次の通りです：\n",
        "$$Y = f(X) + \\epsilon$$\n",
        "ここで、$Y$はアウトカム、$X$は説明変数、$f(X)$は$X$に基づくモデル、$\\epsilon$は誤差項を示します。"
      ]
    },
    {
      "cell_type": "code",
      "execution_count": 34,
      "id": "4b35fc08",
      "metadata": {
        "id": "4b35fc08",
        "colab": {
          "base_uri": "https://localhost:8080/"
        },
        "outputId": "89444e8a-35e6-4c76-837a-e1b5f490bdbc"
      },
      "outputs": [
        {
          "output_type": "stream",
          "name": "stdout",
          "text": [
            "   Pre-Intervention  Post-Intervention\n",
            "0         87.640523          98.289976\n",
            "1         74.001572          74.958295\n",
            "2         79.787380          80.975925\n",
            "3         92.408932         100.317122\n",
            "4         88.675580          90.156210\n",
            "Mean change in scores: 5.24603891224352\n"
          ]
        }
      ],
      "source": [
        "# Pythonで基本的なアウトカムの概念を理解するためのコード例\n",
        "\n",
        "# 例えば、教育介入による試験スコアをアウトカムとする\n",
        "import numpy as np\n",
        "import pandas as pd\n",
        "\n",
        "# 介入前後の試験スコアデータを生成する\n",
        "np.random.seed(0)  # 再現性のために乱数の種を設定\n",
        "pre_intervention_scores = np.random.normal(70, 10, 100)  # 介入前のスコア\n",
        "post_intervention_scores = pre_intervention_scores + np.random.normal(5, 3, 100)  # 介入後のスコア\n",
        "\n",
        "# データをDataFrameにまとめる\n",
        "scores_df = pd.DataFrame({\n",
        "    'Pre-Intervention': pre_intervention_scores,\n",
        "    'Post-Intervention': post_intervention_scores\n",
        "})\n",
        "\n",
        "# データの確認\n",
        "print(scores_df.head())  # 上位5件のデータを表示\n",
        "\n",
        "# 平均の変化を見ることで効果を確認\n",
        "mean_change = scores_df['Post-Intervention'].mean() - scores_df['Pre-Intervention'].mean()\n",
        "\n",
        "# 平均変化を出力\n",
        "print(f'Mean change in scores: {mean_change}')\n"
      ]
    },
    {
      "cell_type": "markdown",
      "id": "9848f2cc",
      "metadata": {
        "id": "9848f2cc"
      },
      "source": [
        "# パラレルトレンド仮定"
      ]
    },
    {
      "cell_type": "markdown",
      "id": "52111d07",
      "metadata": {
        "id": "52111d07"
      },
      "source": [
        "パラレルトレンド仮定は、主に計量経済学で差分に差分法（DiD）を用いる際に必要となる仮定です。差分に差分法は、ある処置や介入が行われた後の影響を測定するために用いられ、処置群と対照群の結果の変化を比較する手法です。ここで重要なのは、処置が行われなかった場合、処置群と対照群は同じトレンドをたどったであろうという仮定を置くことです。これがパラレルトレンド仮定です。この仮定が成り立つことにより、処置の効果を正確に推定することができます。数式で表すと、処置群の平均変化 $\\Delta Y_t^{treatment}$ と対照群の平均変化 $\\Delta Y_t^{control}$ の間に処置が無かった場合の平行トレンドが仮定されます。\n",
        "\n",
        "インライン数式: $\\Delta Y_t^{treatment} = \\Delta Y_t^{control} + \\text{{treatment effect}}$\n",
        "\n",
        "ブロック数式:\n",
        "$$\n",
        "\\Delta Y_t^{treatment} = \\Delta Y_t^{control} + \\text{treatment effect}\n",
        "$$\n",
        "\n",
        "**使用用途**: パラレルトレンド仮定は、政策評価やマーケティング分析、医療研究など、さまざまな分野での介入効果の測定に利用されます。特に質が高い非ランダム化試験の代替手段として有効です。"
      ]
    },
    {
      "cell_type": "code",
      "execution_count": 35,
      "id": "37a71327",
      "metadata": {
        "id": "37a71327",
        "colab": {
          "base_uri": "https://localhost:8080/"
        },
        "outputId": "7e51c2d9-f88d-4a44-cad7-84fcef450de1"
      },
      "outputs": [
        {
          "output_type": "stream",
          "name": "stdout",
          "text": [
            "Initial Data:\n",
            "        date      group   outcome\n",
            "0 2021-01-01    control  6.764052\n",
            "1 2021-01-02    control  5.400157\n",
            "2 2021-01-03    control  5.978738\n",
            "3 2021-01-04    control  7.240893\n",
            "4 2021-01-05  treatment  8.867558\n",
            "5 2021-01-06  treatment  6.022722\n",
            "6 2021-01-07  treatment  7.950088\n",
            "7 2021-01-08  treatment  6.848643\n",
            "\n",
            "Control group mean before treatment: 6.345960184410521\n",
            "Treatment group mean before treatment: 7.422252829875362\n",
            "\n",
            "Data after treatment changes:\n",
            "        date      group    outcome\n",
            "0 2021-01-01    control   7.264052\n",
            "1 2021-01-02    control   6.400157\n",
            "2 2021-01-03    control   6.478738\n",
            "3 2021-01-04    control   7.540893\n",
            "4 2021-01-05  treatment  11.367558\n",
            "5 2021-01-06  treatment   9.022722\n",
            "6 2021-01-07  treatment  10.450088\n",
            "7 2021-01-08  treatment   9.148643\n",
            "\n",
            "Control group mean after treatment: 6.9209601844105215\n",
            "Treatment group mean after treatment: 9.997252829875361\n",
            "\n",
            "Estimated treatment effect using DiD: 1.9999999999999991\n"
          ]
        }
      ],
      "source": [
        "# Import necessary libraries\n",
        "import numpy as np\n",
        "import pandas as pd\n",
        "\n",
        "# Example data creation\n",
        "np.random.seed(0)\n",
        "dates = pd.date_range('20210101', periods=8)\n",
        "data = pd.DataFrame({\n",
        "    'date': dates,\n",
        "    'group': ['control']*4 + ['treatment']*4,\n",
        "    'outcome': np.random.randn(8) + 5\n",
        "})\n",
        "\n",
        "# Adding a treatment effect to the treatment group\n",
        "data.loc[data['group'] == 'treatment', 'outcome'] += 2\n",
        "\n",
        "# Print the initial dataset\n",
        "data_before = data.copy()\n",
        "print('Initial Data:')\n",
        "print(data_before)\n",
        "\n",
        "# Calculate means\n",
        "control_mean_before = data_before[data_before['group'] == 'control']['outcome'].mean()\n",
        "treatment_mean_before = data_before[data_before['group'] == 'treatment']['outcome'].mean()\n",
        "\n",
        "print('\\nControl group mean before treatment:', control_mean_before)\n",
        "print('Treatment group mean before treatment:', treatment_mean_before)\n",
        "\n",
        "# After treatment - apply some hypothetical changes\n",
        "change = np.array([0.5, 1.0, 0.5, 0.3, 2.5, 3.0, 2.5, 2.3])\n",
        "data['outcome'] += change\n",
        "\n",
        "# Print the updated dataset\n",
        "data_after = data.copy()\n",
        "print('\\nData after treatment changes:')\n",
        "print(data_after)\n",
        "\n",
        "# Calculate means after intervention\n",
        "control_mean_after = data_after[data_after['group'] == 'control']['outcome'].mean()\n",
        "treatment_mean_after = data_after[data_after['group'] == 'treatment']['outcome'].mean()\n",
        "\n",
        "print('\\nControl group mean after treatment:', control_mean_after)\n",
        "print('Treatment group mean after treatment:', treatment_mean_after)\n",
        "\n",
        "# Calculate the differences\n",
        "control_diff = control_mean_after - control_mean_before\n",
        "treatment_diff = treatment_mean_after - treatment_mean_before\n",
        "\n",
        "treatment_effect = treatment_diff - control_diff\n",
        "print('\\nEstimated treatment effect using DiD:', treatment_effect)\n",
        "\n",
        "# The code demonstrates the Difference in Differences (DiD) method analysis, calculating treatment effect"
      ]
    },
    {
      "cell_type": "markdown",
      "id": "d6dc05d5",
      "metadata": {
        "id": "d6dc05d5"
      },
      "source": [
        "# McCrary の検定"
      ]
    },
    {
      "cell_type": "markdown",
      "id": "d9dfeee6",
      "metadata": {
        "id": "d9dfeee6"
      },
      "source": [
        "### McCraryの検定について\n",
        "\n",
        "McCraryの検定は、回帰不連続デザイン（RDD）において、処置を受けた群と受けていない群の間で変数の値がジャンプしていないか確認するための方法です。\n",
        "特に、処置を行う際の閾値の周辺でデータの分布が滑らかであるかどうかを検証します。\n",
        "\n",
        "インライン数式で表現すると、密度関数のジャンプを検証します： $\\lim_{x \\to c^-} f(x) \\neq \\lim_{x \\to c^+} f(x)$。\n",
        "\n",
        "ブロック数式で表現すると、\n",
        "$$\n",
        "\\text{null hypothesis: } \\lim_{x \\to c^-} f(x) = \\lim_{x \\to c^+} f(x)\n",
        "$$\n",
        "この検定を使うことで、閾値における無自覚なデータ操作が無いかを確認することができます。\n",
        "\n",
        "### 使用用途\n",
        "この検定は、選挙や試験の合格ライン周辺で行われる政策評価、教育政策の効果検証において使われます。データの滑らかさが保証された場合、RDDの結果の信頼性が向上します。"
      ]
    },
    {
      "cell_type": "code",
      "execution_count": 36,
      "id": "9846e465",
      "metadata": {
        "id": "9846e465",
        "colab": {
          "base_uri": "https://localhost:8080/",
          "height": 651
        },
        "outputId": "6fb30c23-159f-4c8d-d7d0-191281ced8cd"
      },
      "outputs": [
        {
          "output_type": "stream",
          "name": "stdout",
          "text": [
            "サンプルデータの一部: [-0.10321885  0.4105985   0.14404357  1.45427351  0.76103773  0.12167502\n",
            "  0.44386323  0.33367433  1.49407907 -0.20515826]\n",
            "group1: 524 group2: 476\n",
            "Density at cutoff for group1: [0.3831758]\n",
            "Density at cutoff for group2: [0.41870139]\n"
          ]
        },
        {
          "output_type": "display_data",
          "data": {
            "text/plain": [
              "<Figure size 1000x600 with 1 Axes>"
            ],
            "image/png": "[encoded data removed]"
          },
          "metadata": {}
        }
      ],
      "source": [
        "# McCrary の検定を実施するための Python コード例\n",
        "import numpy as np\n",
        "import matplotlib.pyplot as plt\n",
        "from statsmodels.nonparametric.kde import KDEUnivariate\n",
        "\n",
        "# サンプルデータを生成（ランダムデータ）\n",
        "data = np.random.normal(loc=0.0, scale=1.0, size=1000)\n",
        "cutoff = 0.0\n",
        "\n",
        "# サンプルデータの確認\n",
        "print('サンプルデータの一部:', data[:10])\n",
        "\n",
        "# データを閾値に基づいて二つのグループに分ける\n",
        "group1 = data[data < cutoff]\n",
        "group2 = data[data >= cutoff]\n",
        "\n",
        "# 各グループのデータ数\n",
        "print('group1:', len(group1), 'group2:', len(group2))\n",
        "\n",
        "# KDE（カーネル密度推定）を使用して密度推定を行う\n",
        "kde1 = KDEUnivariate(group1)\n",
        "kde2 = KDEUnivariate(group2)\n",
        "kde1.fit()  # group1 に対する KDE\n",
        "kde2.fit()  # group2 に対する KDE\n",
        "\n",
        "# 閾値における密度の推定を確認\n",
        "print('Density at cutoff for group1:', kde1.evaluate(cutoff))\n",
        "print('Density at cutoff for group2:', kde2.evaluate(cutoff))\n",
        "\n",
        "# 結果をプロット\n",
        "plt.figure(figsize=(10, 6))\n",
        "plt.hist(data, bins=30, density=True, alpha=0.5, color='b', label='Data')\n",
        "plt.plot(kde1.support, kde1.density, label='Group 1 KDE', color='r')\n",
        "plt.plot(kde2.support, kde2.density, label='Group 2 KDE', color='g')\n",
        "plt.axvline(x=cutoff, color='k', linestyle='--', label='Cutoff')\n",
        "plt.title('McCrary Density Test')\n",
        "plt.xlabel('Value')\n",
        "plt.ylabel('Density')\n",
        "plt.legend()\n",
        "plt.show()\n",
        "\n",
        "# ここでは KDE を用いた密度推定プロットを用いて、\n",
        "# 閾値における密度がグループ間で大きく異なるか確認する。"
      ]
    },
    {
      "cell_type": "markdown",
      "id": "c458bcbf",
      "metadata": {
        "id": "c458bcbf"
      },
      "source": [
        "# バランステスト"
      ]
    },
    {
      "cell_type": "markdown",
      "id": "55a1cd60",
      "metadata": {
        "id": "55a1cd60"
      },
      "source": [
        "バランステストは、実験や観察研究における集団の特徴が、異なるグループ間で均等に分布しているかを確認するために行われる統計的手法です。例えば、ランダム化試験では、処置群と対照群の間で年齢や性別といった共変量がバランスしているかを確認することが必要です。バランステストを行うことで、各群間の比較が公平となることを確認し、偏りを排除できます。具体的には、各グループの平均値や分散、または中央値などの統計量が一致しているかを確認します。\n",
        "\n",
        "バランステストにおいて、統計的には以下のように数式で表すことが可能です。\n",
        "インライン数式として、例えば$t\\mathrm{-test}$：$t = \\frac{\\bar{X}_1 - \\bar{X}_2}{s_p\\sqrt{\\frac{1}{n_1} + \\frac{1}{n_2}}}$。\n",
        "\n",
        "ブロック数式としては\n",
        "$$\n",
        "t = \\frac{\\bar{X}_1 - \\bar{X}_2}{s_p\\sqrt{\\frac{1}{n_1} + \\frac{1}{n_2}}}\n",
        "$$\n",
        "があります。ここで、$\\bar{X}_1$と$\\bar{X}_2$はそれぞれのグループの平均値、$s_p$は標準誤差、$n_1$と$n_2$は各グループのサンプルサイズです。\n",
        "\n",
        "この手法は、「Pythonで学ぶ効果検証入門」と関連し、ランダム化比較試験や観察研究でのデータ分析の前処理や結果の精度向上に役立ちます。"
      ]
    },
    {
      "cell_type": "code",
      "execution_count": 37,
      "id": "3f895a29",
      "metadata": {
        "id": "3f895a29",
        "colab": {
          "base_uri": "https://localhost:8080/"
        },
        "outputId": "cc8b6523-fb0d-4b7f-9143-6378d54346a3"
      },
      "outputs": [
        {
          "output_type": "stream",
          "name": "stdout",
          "text": [
            "Group 1: [67.64052346 54.00157208 59.78737984 72.40893199 68.6755799  40.2272212\n",
            " 59.50088418 48.48642792 48.96781148 54.10598502 51.44043571 64.54273507\n",
            " 57.61037725 51.21675016 54.43863233 53.33674327 64.94079073 47.94841736\n",
            " 53.13067702 41.45904261 24.47010184 56.53618595 58.64436199 42.5783498\n",
            " 72.69754624 35.45634325 50.45758517 48.1281615  65.32779214 64.6935877\n",
            " 51.54947426 53.7816252  41.12214252 30.19203532 46.52087851 51.56348969\n",
            " 62.30290681 62.02379849 46.12673183 46.97697249 39.51447035 35.79982063\n",
            " 32.93729809 69.50775395 44.90347818 45.61925698 37.4720464  57.77490356\n",
            " 33.86102152 47.8725972 ]\n",
            "Group 2: [66.24345364 43.88243586 44.71828248 39.27031378 58.65407629 26.98461303\n",
            " 67.44811764 42.38793099 53.19039096 47.50629625 64.62107937 29.39859291\n",
            " 46.77582796 46.15945645 61.33769442 39.00108733 48.27571792 41.22141582\n",
            " 50.42213747 55.82815214 38.99380823 61.4472371  59.01590721 55.02494339\n",
            " 59.00855949 43.16272141 48.77109774 40.64230566 47.3211192  55.30355467\n",
            " 43.08339248 46.03246473 43.128273   41.54794359 43.28753869 49.87335401\n",
            " 38.82689651 52.34415698 66.59802177 57.42044161 48.08164448 41.12371036\n",
            " 42.52841706 66.92454601 50.50807755 43.63004353 51.90915485 71.00255136\n",
            " 51.20158952 56.1720311 ]\n",
            "T-statistic: 0.7825429073602121\n",
            "P-value: 0.43578240577769056\n",
            "群間に統計的に有意な差はありません。\n"
          ]
        }
      ],
      "source": [
        "# 必要なライブラリをインポート\n",
        "import numpy as np\n",
        "from scipy import stats\n",
        "\n",
        "# データの用意 (例としてランダムに生成)\n",
        "# グループ1: 50人のデータ\n",
        "np.random.seed(0)\n",
        "group1 = np.random.normal(50, 10, 50)\n",
        "print(\"Group 1:\", group1)\n",
        "\n",
        "# グループ2: 50人のデータ\n",
        "# 平均値が同じならば、バランスしているとみなせる\n",
        "np.random.seed(1)\n",
        "group2 = np.random.normal(50, 10, 50)\n",
        "print(\"Group 2:\", group2)\n",
        "\n",
        "# バランステストの実行 (t-testを例に)\n",
        "t_statistic, p_value = stats.ttest_ind(group1, group2)\n",
        "print(\"T-statistic:\", t_statistic)\n",
        "print(\"P-value:\", p_value)\n",
        "\n",
        "# 結果の解釈\n",
        "if p_value < 0.05:\n",
        "    print(\"群間に統計的に有意な差があります。\")\n",
        "else:\n",
        "    print(\"群間に統計的に有意な差はありません。\")\n",
        "\n",
        "# データが正規分布に従う場合、平均が一致しているかを見る\n",
        "# p-valueが0.05以上であれば、バランスが取れていると言える"
      ]
    },
    {
      "cell_type": "markdown",
      "id": "fb36bd8b",
      "metadata": {
        "id": "fb36bd8b"
      },
      "source": [
        "# Sharp RDD"
      ]
    },
    {
      "cell_type": "markdown",
      "id": "0077134b",
      "metadata": {
        "id": "0077134b"
      },
      "source": [
        "### Sharp RDDの解説\n",
        "\n",
        "**概要**\n",
        "\n",
        "Sharp Regression Discontinuity Design (Sharp RDD)は因果推論の方法の一つで、特にしきい値を境にして処遇群と対照群が分けられている場合に用いられます。この手法は介入の効果を推定したいときに、介入がしきい値によって明確に決定されるという特徴を持っています。\n",
        "\n",
        "**理論と数式**\n",
        "\n",
        "Sharp RDDでは次のようなモデルを考えます。\n",
        "\n",
        "- 因果効果を評価するための従属変数を $Y$ とし、しきい値を境にどちらの群に属するかを決定する独立変数を $X$ とします。\n",
        "- あるしきい値 $c$ を境に $X_i \\geq c$ ならば処遇群、$X_i < c$ ならば対照群となります。\n",
        "\n",
        "式で表すと次のようになります。\n",
        "\n",
        "$$\n",
        "Y_i = \\begin{cases}\n",
        "Y_{0i} & \\text{if } X_i < c \\\\\n",
        "Y_{1i} & \\text{if } X_i \\geq c\n",
        "\\end{cases}\n",
        "$$\n",
        "\n",
        "$Y_{0i}$は対照群の場合の結果、$Y_{1i}$は処遇群の場合の結果を表します。\n",
        "\n",
        "**使用用途**\n",
        "\n",
        "- 教育分野でのプログラムの効果を検証する際に、特定のスコアを基準にして参加が決定されるとき。\n",
        "- 経済政策の評価で、収入や資産のしきい値を基に助成金の対象を決定する場合。\n",
        "\n",
        "**Pythonで学ぶ効果検証入門との関係性**\n",
        "\n",
        "書籍『Pythonで学ぶ効果検証入門』では、このような因果効果を推定するための様々な手法が紹介されており、Sharp RDDの実装についても学ぶことができます。この手法を用いることで因果関係を定量的に分析する力を養うことができます。"
      ]
    },
    {
      "cell_type": "code",
      "execution_count": null,
      "id": "301027c8",
      "metadata": {
        "id": "301027c8"
      },
      "outputs": [],
      "source": [
        "# Sharp RDDを理解するためのPythonコード\n",
        "\n",
        "import numpy as np\n",
        "import matplotlib.pyplot as plt\n",
        "import statsmodels.api as sm\n",
        "\n",
        "# サンプルデータの生成\n",
        "np.random.seed(0)\n",
        "N = 100  # サンプルサイズ\n",
        "X = np.random.uniform(0, 100, N)  # 独立変数Xを[0,100]の一様分布から生成\n",
        "\n",
        "# しきい値c\n",
        "c = 50\n",
        "\n",
        "# Yの生成\n",
        "Y = (X >= c) * (2 * X + np.random.normal(0, 10, N)) + (X < c) * (X + np.random.normal(0, 10, N))\n",
        "\n",
        "# データの可視化\n",
        "plt.scatter(X, Y, alpha=0.5)\n",
        "plt.axvline(c, color='red', linestyle='--')  # しきい値を表示\n",
        "plt.xlabel('X')\n",
        "plt.ylabel('Y')\n",
        "plt.title('Sharp RDD Example')\n",
        "plt.show()\n",
        "\n",
        "# Xと一定項の行列を作成\n",
        "X = sm.add_constant(X)\n",
        "\n",
        "# 回帰モデルの推定\n",
        "model = sm.OLS(Y, X)\n",
        "results = model.fit()\n",
        "\n",
        "print(\"回帰係数：\", results.params)\n",
        "print(\"イテレーションの総数：\", results.mle_retvals['iterations'])\n",
        "print(\"回帰分析の結果概要\")\n",
        "print(results.summary())\n",
        "\n",
        "# 結果を表示します\n",
        "print(\"回帰モデルからの予測値を計算し、結果を確認\\n\")\n",
        "Y_pred = results.predict(X)\n",
        "print(Y_pred)\n",
        "\n",
        "# 実データと予測値の比較\n",
        "plt.scatter(X[:, 1], Y, alpha=0.5, label='Actual')\n",
        "plt.plot(X[:, 1], Y_pred, color='red', label='Predicted')\n",
        "plt.xlabel('X')\n",
        "plt.ylabel('Y')\n",
        "plt.title('Prediction vs Actual')\n",
        "plt.legend()\n",
        "plt.show()"
      ]
    },
    {
      "cell_type": "markdown",
      "id": "bf84f43d",
      "metadata": {
        "id": "bf84f43d"
      },
      "source": [
        "# Fuzzy RDD"
      ]
    },
    {
      "cell_type": "markdown",
      "id": "048f7d25",
      "metadata": {
        "id": "048f7d25"
      },
      "source": [
        "### Fuzzy RDDの解説\n",
        "\n",
        "Fuzzy RDD（Fuzzy Regression Discontinuity Design）は、回帰不連続デザイン（RDD）の拡張の一つです。RDDは、特定の閾値を境に処置や介入（treatment）の受け手と非受け手が分かれる場合に、その処置の因果効果を測定するための手法です。通常のRDDはSharp RDDとも呼ばれ、これは閾値を境に処置の受け手と非受け手が明確に分かれる場合を扱います。\n",
        "\n",
        "一方で、Fuzzy RDDは、閾値を越えても100%確実に処置が実施されるわけではなく、確率的に処置が行われる場合に適用されます。この状況では、処置の受け手と非受け手が僅かに混ざるため、この名前（Fuzzy）がついています。\n",
        "\n",
        "#### 理論と数式\n",
        "\n",
        "Fuzzy RDDは実質的には、完全に分かれていない（Fuzzyな）処置割り当ての影響を調整するためにインスツルメンタル変数法（IV: Instrumental Variables）を使用します。\n",
        "\n",
        "まず、処置を受ける確率を決定するための関数 \\( D \\) を定義し、\n",
        "$$ D = \\begin{cases} 1 & \\text{if } Z \\geq 0 \\\\ 0 & \\text{otherwise} \\end{cases} $$\n",
        "ここで、\\( Z \\) はポイント（例えば試験の得点など）で、閾値は0です。実際の処置受領は、確率に基づいて決定されるため、以下のようにモデル化されます。\n",
        "\n",
        "$$ T = D \\cdot p + (1 - D) \\cdot (1 - p) $$\n",
        "\n",
        "ここで、\\(p\\)は処置を受ける確率です。\n",
        "\n",
        "\n",
        "そして、効果の推定には、観測された結果 \\( Y \\) が用いられます。\n",
        "\n",
        "$$ Y = \\alpha + \\beta T + \\epsilon $$\n",
        "ここで、\\( \\beta \\) は推定される介入効果であり、\\( \\alpha \\) と \\( \\epsilon \\) は定数項と誤差項です。\n",
        "\n",
        "#### 使用用途\n",
        "\n",
        "Fuzzy RDDは、教育、医療、公共政策などの分野で頻繁に使用されます。例えば、教育での成績によって奨学金が与えられる場合で、成績が基準を僅かに超えた場合にのみ奨学金が与えられるかどうかを検証するのに役立ちます。観察データで自然に発生する閾値を利用するため、実験が不可能な場合や非倫理的な場合での因果推定に有用です。\n",
        "\n",
        "'Pythonで学ぶ効果検証入門'の中では、この概念がどのように実装され、応用されるかが実例とともに説明されています。これはデータ解析や機械学習、経済学の領域における因果関係の検証に特化したテクニックの理解を深める一助となるでしょう。"
      ]
    },
    {
      "cell_type": "code",
      "execution_count": 39,
      "id": "35eef89f",
      "metadata": {
        "id": "35eef89f",
        "colab": {
          "base_uri": "https://localhost:8080/",
          "height": 106
        },
        "outputId": "53a6298c-2dab-4258-d21c-f80260bf2c4a"
      },
      "outputs": [
        {
          "output_type": "error",
          "ename": "SyntaxError",
          "evalue": "unterminated string literal (detected at line 57) (<ipython-input-39-8919441e5e48>, line 57)",
          "traceback": [
            "\u001b[0;36m  File \u001b[0;32m\"<ipython-input-39-8919441e5e48>\"\u001b[0;36m, line \u001b[0;32m57\u001b[0m\n\u001b[0;31m    print('推定された係数（alpha, beta）:\u001b[0m\n\u001b[0m          ^\u001b[0m\n\u001b[0;31mSyntaxError\u001b[0m\u001b[0;31m:\u001b[0m unterminated string literal (detected at line 57)\n"
          ]
        }
      ],
      "source": [
        "# Fuzzy RDDの概念をPythonでシミュレーションする。\n",
        "import numpy as np\n",
        "import statsmodels.api as sm\n",
        "import matplotlib.pyplot as plt\n",
        "\n",
        "# データのサイズ\n",
        "np.random.seed(42)\n",
        "N = 1000\n",
        "\n",
        "# ポイント（Z）を生成\n",
        "Z = np.random.uniform(-1, 1, N)\n",
        "\n",
        "# 閾値\n",
        "threshold = 0.0\n",
        "\n",
        "# 処置の受け手（D）を定義\n",
        "D = (Z >= threshold).astype(int)\n",
        "\n",
        "# 真の処置受ける確率 p を設定\n",
        "p = 0.8\n",
        "\n",
        "# 実際の処置（T）は確率的にDに依存\n",
        "T = (np.random.rand(N) < (D * p + (1 - D) * (1 - p))).astype(int)\n",
        "\n",
        "# 結果のベースライン\n",
        "alpha = 2.0\n",
        "\n",
        "# 処置効果\n",
        "beta = 3.5\n",
        "\n",
        "# 結果（Y）を計算\n",
        "Y = alpha + beta * T + np.random.normal(size=N)\n",
        "\n",
        "# Y, Z, Tを出力\n",
        "print(\"Z (ポイント): \", Z[:10])\n",
        "print(\"D (予測される処置受け手): \", D[:10])\n",
        "print(\"T (実際の処置): \", T[:10])\n",
        "print(\"Y (観測結果): \", Y[:10])\n",
        "\n",
        "# プロット\n",
        "plt.figure(figsize=(10, 6))\n",
        "plt.scatter(Z[T == 1], Y[T == 1], color='red', alpha=0.5, label='T=1 (Treated)')\n",
        "plt.scatter(Z[T == 0], Y[T == 0], color='blue', alpha=0.5, label='T=0 (Untreated)')\n",
        "plt.axvline(threshold, color='green', linestyle='--', label='Threshold')\n",
        "plt.title('Fuzzy RDD Simulation')\n",
        "plt.xlabel('Z (Running Variable)')\n",
        "plt.ylabel('Y (Outcome)')\n",
        "plt.legend()\n",
        "plt.show()\n",
        "\n",
        "# 効果を推定する（ここでは簡易にOLSで行う）\n",
        "X = sm.add_constant(T)\n",
        "model = sm.OLS(Y, X).fit()\n",
        "\n",
        "# 推定されたパラメータを出力\n",
        "effect_estimation = model.params\n",
        "print('推定された係数（alpha, beta）:\n",
        "', effect_estimation)"
      ]
    },
    {
      "cell_type": "markdown",
      "id": "450543bb",
      "metadata": {
        "id": "450543bb"
      },
      "source": [
        "# as-if 条件"
      ]
    },
    {
      "cell_type": "markdown",
      "id": "535b8660",
      "metadata": {
        "id": "535b8660"
      },
      "source": [
        "### As-if 条件の解説\n",
        "\n",
        "As-if 条件とは、因果推論の文脈において、処置群と対照群がランダムに割り当てられたかのように扱うことができる状況を指します。つまり、外部の要因によって偏りが生じていないと仮定できる場合のことです。この仮定が成り立つとき、それは因果効果の推定をより厳密に行うことができます。\n",
        "\n",
        "#### 理論\n",
        "\n",
        "As-if 条件は通常、自然実験、準実験、あるいは観察研究の文脈で適用されます。この条件が成り立つと仮定できれば、ランダム化実験と同様に、因果推論が行いやすくなります。この条件下では、不均一な因子の影響をコントロールすることができ、因果効果のより正確な推定が可能となります。\n",
        "\n",
        "数式的には、もし \\( X \\) が処置割り当て、\\( Y \\) が結果であるとすると、as-if 条件とは以下のように表現できます：\n",
        "- インライン数式: $E[Y(0)|X=1] = E[Y(0)|X=0]$\n",
        "- ブロック数式:\n",
        "$$\n",
        "E[Y(0)|X=1] = E[Y(0)|X=0]\n",
        "$$\n",
        "これはつまり、処置群と対照群の潜在結果の期待値が等しいことを意味します。\n",
        "\n",
        "#### Pythonで学ぶ効果検証入門との関係性\n",
        "\n",
        "書籍『Pythonで学ぶ効果検証入門』においては、このas-if 条件を用いた因果効果の検証方法が記載されています。具体的には、Pythonを用いた分析により、どのようにこの条件下での因果関係を識別するかが解説されています。\n",
        "\n",
        "#### 使用用途\n",
        "\n",
        "As-if 条件は、完全なランダム化が難しい実験の代替として使われます。この方法は、観察データしか得られない状況での因果推論において特に有効です。社会科学、経済学、公衆衛生などの分野で広く利用されています。"
      ]
    },
    {
      "cell_type": "code",
      "execution_count": 40,
      "id": "531f09e2",
      "metadata": {
        "id": "531f09e2",
        "colab": {
          "base_uri": "https://localhost:8080/"
        },
        "outputId": "7b1cc255-1b1a-44c0-b807-075b7a0aceea"
      },
      "outputs": [
        {
          "output_type": "stream",
          "name": "stdout",
          "text": [
            "処置群の平均結果値: 2.138006505528484\n",
            "対照群の平均結果値: 0.2445316791532691\n",
            "処置群と対照群の平均値が似ているか: False\n",
            "   Treatment   Outcome\n",
            "0          1  0.834850\n",
            "1          1  2.900826\n",
            "2          1  2.465662\n",
            "3          1  0.463756\n",
            "4          0  1.488252\n"
          ]
        }
      ],
      "source": [
        "# Pythonコードにおけるas-if条件の理解\n",
        "\n",
        "# 必要なライブラリをインポート\n",
        "import numpy as np\n",
        "import pandas as pd\n",
        "\n",
        "# ダミーデータの作成\n",
        "# ここでは、治療変数Xと結果変数Yを持つ例を考えます。\n",
        "np.random.seed(0)  # 再現性のためのシード値設定\n",
        "N = 100  # サンプルサイズ\n",
        "\n",
        "# 処置群と対照群にランダムに割り当て\n",
        "X = np.random.binomial(1, 0.5, N)\n",
        "\n",
        "# 結果変数Yはランダムな正規分布に基づいて生成\n",
        "Y = 2 * X + np.random.normal(0, 1, N)\n",
        "\n",
        "# DataFrameの作成\n",
        "data = pd.DataFrame({'Treatment': X, 'Outcome': Y})\n",
        "\n",
        "# 処置群と対照群の期待値を表示\n",
        "mean_Treatment1 = data[data['Treatment'] == 1]['Outcome'].mean()\n",
        "mean_Treatment0 = data[data['Treatment'] == 0]['Outcome'].mean()\n",
        "\n",
        "print(f\"処置群の平均結果値: {mean_Treatment1}\")\n",
        "print(f\"対照群の平均結果値: {mean_Treatment0}\")\n",
        "\n",
        "# 平均値が似ているかどうか確認\n",
        "# 実際のデータではas-if条件の成立を示す必要があります\n",
        "similar_mean = np.isclose(mean_Treatment1, mean_Treatment0, atol=0.5)\n",
        "\n",
        "print(f\"処置群と対照群の平均値が似ているか: {similar_mean}\")\n",
        "\n",
        "# データフレームの先頭部分を表示\n",
        "print(data.head())\n",
        "\n",
        "# ここではatol=0.5での閾値を設定しており、これは単なる例示です。\n",
        "# 実際の分析ではas-if条件が成立するかどうかの厳密な検証が重要です。"
      ]
    },
    {
      "cell_type": "markdown",
      "id": "8eedbecb",
      "metadata": {
        "id": "8eedbecb"
      },
      "source": [
        "# 密度関数"
      ]
    },
    {
      "cell_type": "markdown",
      "id": "adc9407c",
      "metadata": {
        "id": "adc9407c"
      },
      "source": [
        "密度関数とは、確率密度関数（Probability Density Function, PDF）とも呼ばれ、確率論や統計学において、連続型の確率変数がある範囲に値をとる確率を記述するための関数です。\n",
        "\n",
        "インライン数式として、確率密度関数 $f(x)$ は以下の条件を満たします。$\\int_{-\\infty}^{\\infty} f(x) \\, dx = 1$。\n",
        "\n",
        "ブロック数式で表すと、\n",
        "$$ \\int_{-\\infty}^{\\infty} f(x) \\, dx = 1 $$\n",
        "となります。\n",
        "\n",
        "確率密度関数は特定の値を取る確率を示すのではなく、ある範囲内に確率変数が存在する可能性を示します。例えば、正規分布では確率密度関数はベル型の曲線を描きます。\n",
        "\n",
        "Pythonで学ぶ効果検証入門では、密度関数を利用して集計データの分布を視覚化することや、仮説検定を実施するための基礎知識として活用します。これは統計的検証やデータの理解を深めるために有用です。\n",
        "\n",
        "密度関数は、データサイエンスや機械学習など広範な分野で使用され、データの分布を把握するためによく用いられます。具体的な応用例としては、異常検知やパターン認識などがあります。"
      ]
    },
    {
      "cell_type": "code",
      "execution_count": 41,
      "id": "64099480",
      "metadata": {
        "id": "64099480",
        "colab": {
          "base_uri": "https://localhost:8080/",
          "height": 1000
        },
        "outputId": "28a589e9-3dd7-4069-9843-d10744f4298b"
      },
      "outputs": [
        {
          "output_type": "stream",
          "name": "stderr",
          "text": [
            "/usr/local/lib/python3.11/dist-packages/IPython/core/pylabtools.py:151: UserWarning: Glyph 30906 (\\N{CJK UNIFIED IDEOGRAPH-78BA}) missing from font(s) DejaVu Sans.\n",
            "  fig.canvas.print_figure(bytes_io, **kw)\n",
            "/usr/local/lib/python3.11/dist-packages/IPython/core/pylabtools.py:151: UserWarning: Glyph 29575 (\\N{CJK UNIFIED IDEOGRAPH-7387}) missing from font(s) DejaVu Sans.\n",
            "  fig.canvas.print_figure(bytes_io, **kw)\n",
            "/usr/local/lib/python3.11/dist-packages/IPython/core/pylabtools.py:151: UserWarning: Glyph 23494 (\\N{CJK UNIFIED IDEOGRAPH-5BC6}) missing from font(s) DejaVu Sans.\n",
            "  fig.canvas.print_figure(bytes_io, **kw)\n",
            "/usr/local/lib/python3.11/dist-packages/IPython/core/pylabtools.py:151: UserWarning: Glyph 24230 (\\N{CJK UNIFIED IDEOGRAPH-5EA6}) missing from font(s) DejaVu Sans.\n",
            "  fig.canvas.print_figure(bytes_io, **kw)\n",
            "/usr/local/lib/python3.11/dist-packages/IPython/core/pylabtools.py:151: UserWarning: Glyph 27161 (\\N{CJK UNIFIED IDEOGRAPH-6A19}) missing from font(s) DejaVu Sans.\n",
            "  fig.canvas.print_figure(bytes_io, **kw)\n",
            "/usr/local/lib/python3.11/dist-packages/IPython/core/pylabtools.py:151: UserWarning: Glyph 28310 (\\N{CJK UNIFIED IDEOGRAPH-6E96}) missing from font(s) DejaVu Sans.\n",
            "  fig.canvas.print_figure(bytes_io, **kw)\n",
            "/usr/local/lib/python3.11/dist-packages/IPython/core/pylabtools.py:151: UserWarning: Glyph 27491 (\\N{CJK UNIFIED IDEOGRAPH-6B63}) missing from font(s) DejaVu Sans.\n",
            "  fig.canvas.print_figure(bytes_io, **kw)\n",
            "/usr/local/lib/python3.11/dist-packages/IPython/core/pylabtools.py:151: UserWarning: Glyph 35215 (\\N{CJK UNIFIED IDEOGRAPH-898F}) missing from font(s) DejaVu Sans.\n",
            "  fig.canvas.print_figure(bytes_io, **kw)\n",
            "/usr/local/lib/python3.11/dist-packages/IPython/core/pylabtools.py:151: UserWarning: Glyph 20998 (\\N{CJK UNIFIED IDEOGRAPH-5206}) missing from font(s) DejaVu Sans.\n",
            "  fig.canvas.print_figure(bytes_io, **kw)\n",
            "/usr/local/lib/python3.11/dist-packages/IPython/core/pylabtools.py:151: UserWarning: Glyph 24067 (\\N{CJK UNIFIED IDEOGRAPH-5E03}) missing from font(s) DejaVu Sans.\n",
            "  fig.canvas.print_figure(bytes_io, **kw)\n",
            "/usr/local/lib/python3.11/dist-packages/IPython/core/pylabtools.py:151: UserWarning: Glyph 12398 (\\N{HIRAGANA LETTER NO}) missing from font(s) DejaVu Sans.\n",
            "  fig.canvas.print_figure(bytes_io, **kw)\n",
            "/usr/local/lib/python3.11/dist-packages/IPython/core/pylabtools.py:151: UserWarning: Glyph 38306 (\\N{CJK UNIFIED IDEOGRAPH-95A2}) missing from font(s) DejaVu Sans.\n",
            "  fig.canvas.print_figure(bytes_io, **kw)\n",
            "/usr/local/lib/python3.11/dist-packages/IPython/core/pylabtools.py:151: UserWarning: Glyph 25968 (\\N{CJK UNIFIED IDEOGRAPH-6570}) missing from font(s) DejaVu Sans.\n",
            "  fig.canvas.print_figure(bytes_io, **kw)\n"
          ]
        },
        {
          "output_type": "display_data",
          "data": {
            "text/plain": [
              "<Figure size 640x480 with 1 Axes>"
            ],
            "image/png": "[encoded data removed]"
          },
          "metadata": {}
        },
        {
          "output_type": "stream",
          "name": "stdout",
          "text": [
            "mu: 0\n",
            "sigma: 1\n",
            "x: [-5.         -4.98998999 -4.97997998 -4.96996997 -4.95995996 -4.94994995\n",
            " -4.93993994 -4.92992993 -4.91991992 -4.90990991] ... [4.90990991 4.91991992 4.92992993 4.93993994 4.94994995 4.95995996\n",
            " 4.96996997 4.97997998 4.98998999 5.        ]\n",
            "pdf: [1.48671951e-06 1.56294518e-06 1.64291438e-06 1.72680223e-06\n",
            " 1.81479157e-06 1.90707332e-06 2.00384677e-06 2.10531999e-06\n",
            " 2.21171010e-06 2.32324372e-06] ... [2.32324372e-06 2.21171010e-06 2.10531999e-06 2.00384677e-06\n",
            " 1.90707332e-06 1.81479157e-06 1.72680223e-06 1.64291438e-06\n",
            " 1.56294518e-06 1.48671951e-06]\n"
          ]
        }
      ],
      "source": [
        "# ライブラリのインポート\n",
        "import numpy as np\n",
        "import matplotlib.pyplot as plt\n",
        "from scipy.stats import norm\n",
        "\n",
        "# 標準正規分布の確率密度関数を生成\n",
        "mu, sigma = 0, 1  # 平均(mu)と標準偏差(sigma)\n",
        "x = np.linspace(-5, 5, 1000)\n",
        "pdf = norm.pdf(x, mu, sigma)\n",
        "\n",
        "# PDFをプロット\n",
        "plt.plot(x, pdf, label='標準正規分布のPDF')\n",
        "plt.xlabel('x')\n",
        "plt.ylabel('確率密度')\n",
        "plt.title('標準正規分布の確率密度関数')\n",
        "plt.legend()\n",
        "plt.grid(True)\n",
        "plt.show()\n",
        "\n",
        "# 各変数の値を出力して確認\n",
        "print(\"mu:\", mu)\n",
        "print(\"sigma:\", sigma)\n",
        "print(\"x:\", x[:10], \"...\", x[-10:])  # xの一部を表示\n",
        "print(\"pdf:\", pdf[:10], \"...\", pdf[-10:])  # pdfの一部を表示\n",
        "\n",
        "# コードは、標準正規分布の確率密度関数を計算し、プロットしています。\n",
        "# muは平均、sigmaは標準偏差であり、それぞれの変数がプロットや計算でどのように影響するか確認できます。"
      ]
    },
    {
      "cell_type": "markdown",
      "id": "464188e8",
      "metadata": {
        "id": "464188e8"
      },
      "source": [
        "# diagnostic tests"
      ]
    },
    {
      "cell_type": "markdown",
      "id": "2d9e787c",
      "metadata": {
        "id": "2d9e787c"
      },
      "source": [
        "診断テスト (diagnostic tests) は、特定のモデルや分析手法が適切にデータを説明しているか、仮定が満たされているかを確認するための手法です。効果検証の文脈では、主に無作為化試験や因果推論の設定でその有効性を確認するのに用いられます。診断テストでは、モデルのフィットの良さ、残差の解析、過剰適合の回避などが含まれます。数式的には、例えば線形回帰モデルにおける残差の分布が正規分布に従っているかどうかを確認するためのシャピロ・ウィルク検定などが挙げられます。使用用途としては、モデルの仮定が満たされていない場合にはそれを修正したり、異なるモデルを選択するための根拠となります。\n",
        "\n",
        "例えば、モデルの残差が正規分布に従うかどうかを検証するテストとしてシャピロ・ウィルク検定があります。この方法を数式として示すと以下のようになります：\n",
        "\n",
        "インライン数式：この検定では、帰無仮説として残差が正規分布に従うことを仮定し、この仮説が否定される(P値が十分に小さい)場合、残差が正規分布からずれていると推定されます。\n",
        "\n",
        "ブロック数式：$$W = \\frac{(\\sum w_i x_{(i)})^2}{\\sum (x_i - \\bar{x})^2}$$\n",
        "ここで、\\(w_i\\) は特定の順位統計量に基づく重みで、\\(x_{(i)}\\) はデータの順位付けされた観測値を指します。この値を基にシャピロ・ウィルク検定を行い、P値を算出します。"
      ]
    },
    {
      "cell_type": "code",
      "execution_count": 42,
      "id": "a5f83f7c",
      "metadata": {
        "id": "a5f83f7c",
        "colab": {
          "base_uri": "https://localhost:8080/"
        },
        "outputId": "210cd54d-c553-4bf4-edc6-51d68a5960cb"
      },
      "outputs": [
        {
          "output_type": "stream",
          "name": "stdout",
          "text": [
            "Sample Data: [ 1.76405235  0.40015721  0.97873798  2.2408932   1.86755799 -0.97727788\n",
            "  0.95008842 -0.15135721 -0.10321885  0.4105985   0.14404357  1.45427351\n",
            "  0.76103773  0.12167502  0.44386323  0.33367433  1.49407907 -0.20515826\n",
            "  0.3130677  -0.85409574 -2.55298982  0.6536186   0.8644362  -0.74216502\n",
            "  2.26975462 -1.45436567  0.04575852 -0.18718385  1.53277921  1.46935877\n",
            "  0.15494743  0.37816252 -0.88778575 -1.98079647 -0.34791215  0.15634897\n",
            "  1.23029068  1.20237985 -0.38732682 -0.30230275 -1.04855297 -1.42001794\n",
            " -1.70627019  1.9507754  -0.50965218 -0.4380743  -1.25279536  0.77749036\n",
            " -1.61389785 -0.21274028 -0.89546656  0.3869025  -0.51080514 -1.18063218\n",
            " -0.02818223  0.42833187  0.06651722  0.3024719  -0.63432209 -0.36274117\n",
            " -0.67246045 -0.35955316 -0.81314628 -1.7262826   0.17742614 -0.40178094\n",
            " -1.63019835  0.46278226 -0.90729836  0.0519454   0.72909056  0.12898291\n",
            "  1.13940068 -1.23482582  0.40234164 -0.68481009 -0.87079715 -0.57884966\n",
            " -0.31155253  0.05616534 -1.16514984  0.90082649  0.46566244 -1.53624369\n",
            "  1.48825219  1.89588918  1.17877957 -0.17992484 -1.07075262  1.05445173\n",
            " -0.40317695  1.22244507  0.20827498  0.97663904  0.3563664   0.70657317\n",
            "  0.01050002  1.78587049  0.12691209  0.40198936]\n",
            "Shapiro-Wilk Test Statistic: 0.992694081874749\n",
            "Shapiro-Wilk Test p-value: 0.868936668277495\n",
            "帰無仮説を棄却できません: データは正規分布です。\n"
          ]
        }
      ],
      "source": [
        "# 必要なライブラリをインポートします\n",
        "import numpy as np\n",
        "import scipy.stats as stats\n",
        "\n",
        "# ここでは、仮のデータを用いてシャピロ・ウィルク検定を行います\n",
        "# まずは正規分布に従うデータセットを生成\n",
        "np.random.seed(0)  # 再現性のためにシードを固定\n",
        "sample_data = np.random.normal(0, 1, 100)\n",
        "\n",
        "# データを出力して目視で確認\n",
        "print(\"Sample Data:\", sample_data)\n",
        "\n",
        "# シャピロ・ウィルク検定を実行します\n",
        "shapiro_test = stats.shapiro(sample_data)\n",
        "\n",
        "# 検定統計量とP値を出力\n",
        "print(\"Shapiro-Wilk Test Statistic:\", shapiro_test.statistic)\n",
        "print(\"Shapiro-Wilk Test p-value:\", shapiro_test.pvalue)\n",
        "\n",
        "# P値に基づき、帰無仮説を検証\n",
        "if shapiro_test.pvalue > 0.05:\n",
        "    print(\"帰無仮説を棄却できません: データは正規分布です。\")\n",
        "else:\n",
        "    print(\"帰無仮説を棄却します: データは正規分布ではありません。\")\n",
        "\n",
        "#このコードは、データが正規分布に従うかどうかを確認するためにシャピロ・ウィルク検定を実行します。\n",
        "#P値が0.05より大きければデータは正規分布に従うと判断します。"
      ]
    },
    {
      "cell_type": "markdown",
      "id": "b93fbd1b",
      "metadata": {
        "id": "b93fbd1b"
      },
      "source": [
        "# 処置確率"
      ]
    },
    {
      "cell_type": "markdown",
      "id": "738c4017",
      "metadata": {
        "id": "738c4017"
      },
      "source": [
        "処置確率（Treatment Probability）とは、単位が処置（例えば、新しい薬やマーケティングキャンペーン）を受ける確率のことを指します。処置確率は、効果検証のセクションで、特に因果推論の文脈で重要です。理論的には、処置確率は次のように表されます：\n",
        "\n",
        "- インライン形式: $p(T=1|X)$\n",
        "- ブロック形式: $$p(T=1|X)$$\n",
        "\n",
        "ここで、$T=1$は処置群であることを示し、$X$は共変量を表します。\n",
        "\n",
        "Pythonで学ぶ効果検証入門では、処置確率を用いて処置を受けた場合と受けなかった場合の効果の推定を行います。その用途としては、\n",
        "\n",
        "1. バイアスの調整 - 処置群と対照群の間で非ランダムな差が存在する場合、処置確率を用いてバイアスを調整できます。\n",
        "2. マッチングやウェイト付け - 処置確率を計算して、類似の個体同士をマッチングまたは重み付けを実行することができます。"
      ]
    },
    {
      "cell_type": "code",
      "execution_count": 43,
      "id": "88813252",
      "metadata": {
        "id": "88813252",
        "colab": {
          "base_uri": "https://localhost:8080/"
        },
        "outputId": "762925eb-e0a1-4cbd-8a4e-7dfb3847d123"
      },
      "outputs": [
        {
          "output_type": "stream",
          "name": "stdout",
          "text": [
            "\n",
            "データ例\n",
            "    age  income  treatment\n",
            "0   64   62565          0\n",
            "1   67   34505          1\n",
            "2   20   25795          1\n",
            "3   23   70624          1\n",
            "4   23   43647          1\n",
            "\n",
            "処置確率の例\n",
            "    age  income  treatment_probability\n",
            "0   64   62565               0.470319\n",
            "1   67   34505               0.431808\n",
            "2   20   25795               0.498257\n",
            "3   23   70624               0.547430\n",
            "4   23   43647               0.514918\n"
          ]
        }
      ],
      "source": [
        "# ライブラリのインポート\n",
        "import numpy as np\n",
        "import pandas as pd\n",
        "from sklearn.linear_model import LogisticRegression\n",
        "\n",
        "# データフレーム作成例\n",
        "np.random.seed(0)\n",
        "data = pd.DataFrame({\n",
        "    'age': np.random.randint(20, 70, size=100),\n",
        "    'income': np.random.randint(20000, 80000, size=100),\n",
        "    'treatment': np.random.binomial(1, 0.5, size=100)\n",
        "})\n",
        "\n",
        "print(\"\\nデータ例\\n\", data.head())\n",
        "\n",
        "# 処置確率の計算（ロジスティック回帰を利用）\n",
        "X = data[['age', 'income']]\n",
        "y = data['treatment']\n",
        "\n",
        "log_reg = LogisticRegression()\n",
        "log_reg.fit(X, y)\n",
        "\n",
        "data['treatment_probability'] = log_reg.predict_proba(X)[:, 1]\n",
        "\n",
        "print(\"\\n処置確率の例\\n\", data[['age', 'income', 'treatment_probability']].head())\n",
        "\n",
        "# 処置確率を用いた重み付けによる因果推論 - ここでは一例として処理確率を出力しています。\n",
        "# この確率を使用して、更に処理効果を解析することが可能です。"
      ]
    },
    {
      "cell_type": "markdown",
      "id": "4f10f288",
      "metadata": {
        "id": "4f10f288"
      },
      "source": [
        "# 右側極限"
      ]
    },
    {
      "cell_type": "markdown",
      "id": "5308fa8e",
      "metadata": {
        "id": "5308fa8e"
      },
      "source": [
        "右側極限とは、数学においてある点における関数の挙動を考慮するためのコンセプトです。特に、ある点 \\( a \\) に限りなく近づくときの関数 \\( f(x) \\) の挙動を右側から調べることを指します。数式で表すと、右側極限は \\(\\lim_{{x \\to a^+}} f(x)\\) となります。このように定義されることで、その点よりも大きい値からのみ近づく挙動を知ることができます。これは、例えばディスコンティニュティや変曲点の検証に重要です。        \n",
        "\n",
        "Pythonで学ぶ効果検証入門では、統計的な分析を行う際に、例えば介入効果が特定のポイント以降から変化するかどうかを確認する際に利用されます。        \n",
        "\n",
        "## 使用用途        右側極限は以下のようなケースで使用されます：        - **不連続点の検証**: 関数が不連続な点でどのように振る舞うか理解するため。        - **関数の変曲点の解析**: 関数がどのように曲がるかを確認する目的。        - **介入分析**: 効果検証、特に介入前後の変化を解析する際に利用される。"
      ]
    },
    {
      "cell_type": "code",
      "execution_count": 45,
      "id": "072da05c",
      "metadata": {
        "id": "072da05c",
        "colab": {
          "base_uri": "https://localhost:8080/"
        },
        "outputId": "2e8426e4-72e8-45c8-feaa-4791f144750e"
      },
      "outputs": [
        {
          "output_type": "stream",
          "name": "stdout",
          "text": [
            "xの範囲: [-1.00000000e+00 -9.00000000e-01 -8.00000000e-01 -7.00000000e-01\n",
            " -6.00000000e-01 -5.00000000e-01 -4.00000000e-01 -3.00000000e-01\n",
            " -2.00000000e-01 -1.00000000e-01 -2.22044605e-16  1.00000000e-01\n",
            "  2.00000000e-01  3.00000000e-01  4.00000000e-01  5.00000000e-01\n",
            "  6.00000000e-01  7.00000000e-01  8.00000000e-01  9.00000000e-01]\n",
            "f(x)の値: [1.00000000e+00 8.10000000e-01 6.40000000e-01 4.90000000e-01\n",
            " 3.60000000e-01 2.50000000e-01 1.60000000e-01 9.00000000e-02\n",
            " 4.00000000e-02 1.00000000e-02 4.93038066e-32 1.20000000e+00\n",
            " 1.40000000e+00 1.60000000e+00 1.80000000e+00 2.00000000e+00\n",
            " 2.20000000e+00 2.40000000e+00 2.60000000e+00 2.80000000e+00]\n",
            "右側極限の値: [1.2 1.4 1.6 1.8 2.  2.2 2.4 2.6 2.8]\n"
          ]
        }
      ],
      "source": [
        "import numpy as np\n",
        "\n",
        "# ある関数f(x)を定義する\n",
        "def f(x):            return np.where(x < 0, x ** 2, 2 * x + 1)\n",
        "\n",
        "# 極限に接近する点を0.1刻みで作成\n",
        "x_values = np.arange(-1, 1, 0.1)\n",
        "\n",
        "# 各点におけるf(x)の値を計算\n",
        "f_values = f(x_values)\n",
        "\n",
        "# 右側極限に接近する部分の値をリスト化\n",
        "right_limit_values = f(x_values[x_values >= 0])\n",
        "\n",
        "# 各変数を出力して確認\n",
        "print('xの範囲:', x_values)\n",
        "print('f(x)の値:', f_values)\n",
        "print('右側極限の値:', right_limit_values)\n",
        "\n",
        "# 一番近くまで接近した点の極限(推定)を出力\n",
        "# print('右側から0に漸近する極限の推定値:', f_values[np.where(x_values == 0)[0][0]])"
      ]
    },
    {
      "cell_type": "markdown",
      "id": "c37f9e05",
      "metadata": {
        "id": "c37f9e05"
      },
      "source": [
        "# 左側極限"
      ]
    },
    {
      "cell_type": "markdown",
      "id": "30038e01",
      "metadata": {
        "id": "30038e01"
      },
      "source": [
        "左側極限（left-hand limit）は、数学の極限の概念の一つであり、ある関数 \\( f(x) \\) がある点 \\( c \\) に対して、その点の左側から近づくときの極限の値を指します。つまり、\\( \\lim_{{x \to c^-}} f(x) \\) と表記します。極限値が存在するためには左側極限と右側極限がともに存在し、かつ等しい必要があります。これを理解することで、関数の連続性や異なるグラフの振る舞いを詳細に分析できます。この概念は特に、特定のポイントにおける関数の挙動を評価する際に重要です。『Pythonで学ぶ効果検証入門』においては、左側極限を利用してデータ分析の結果を解釈したり、時系列データなどにおける変化点を評価する際に利用されます。例えば、あるキャンペーンの開始直前の売上データの推移を分析する際に、売上の左側極限を確認することでキャンペーンの影響を評価することができます。インライン数式で表現すると、左側極限は \\( \\lim_{{x \to c^-}} f(x) \\) となります。ブロック数式での表現は以下の通りです：\n",
        "$$\n",
        "\\lim_{{x \\to c^-}} f(x)\n",
        "$$"
      ]
    },
    {
      "cell_type": "code",
      "execution_count": 46,
      "id": "39353592",
      "metadata": {
        "id": "39353592",
        "colab": {
          "base_uri": "https://localhost:8080/"
        },
        "outputId": "bf2cb3a4-05e7-4a2d-e24d-99cc09e2c52d"
      },
      "outputs": [
        {
          "output_type": "stream",
          "name": "stdout",
          "text": [
            "x の値 (左側から c に近づく): [0.9  0.91 0.92 0.93 0.94 0.95 0.96 0.97 0.98 0.99]\n",
            "対応する f(x) の値: [2.8  2.82 2.84 2.86 2.88 2.9  2.92 2.94 2.96 2.98]\n",
            "c における左側極限の近似値: 2.98\n"
          ]
        }
      ],
      "source": [
        "# 必要なライブラリのインポート\n",
        "import numpy as np\n",
        "\n",
        "# f(x) を定義する関数; ここでは例として単純な一次関数を定義します\n",
        "def f(x):\n",
        "    return 2 * x + 1\n",
        "\n",
        "# 極限を計算したい点を定義します (例として c = 1 とします)\n",
        "c = 1\n",
        "\n",
        "# c に左側から近づく x の値を設定します\n",
        "x_values = np.linspace(c - 0.1, c, num=10, endpoint=False)\n",
        "\n",
        "# 各 x の値について f(x) を計算します\n",
        "f_values = f(x_values)\n",
        "\n",
        "# x_values と対応する f(x) を表示して確認します\n",
        "print('x の値 (左側から c に近づく):', x_values)\n",
        "print('対応する f(x) の値:', f_values)\n",
        "\n",
        "# 極限の近似値は、f_values の最後の要素として近似されます。\n",
        "left_hand_limit = f_values[-1]\n",
        "\n",
        "# 左側極限の近似値を表示します\n",
        "print('c における左側極限の近似値:', left_hand_limit)"
      ]
    },
    {
      "cell_type": "markdown",
      "id": "30baa7a6",
      "metadata": {
        "id": "30baa7a6"
      },
      "source": [
        "# 局所多項式回帰"
      ]
    },
    {
      "cell_type": "markdown",
      "id": "98c04e21",
      "metadata": {
        "id": "98c04e21"
      },
      "source": [
        "局所多項式回帰（Local Polynomial Regression）は、非線形および非パラメトリックな手法で、主にデータ全体よりもデータの局所的な構造を重視することによってデータの曲線を滑らかにする手法です。局所多項式回帰は、各予測点における最適な多項式回帰によって行われ、通常は低次数の多項式（例えば、1次または2次）が使用されます。これにより、全体的なモデルの柔軟性と局所の多様性を高めます。\n",
        "\n",
        "局所多項式回帰の数式は、重み付きの最小二乗法を使って局所的にフィットする関数を計算します。データ点 $(x_i, y_i)$ において回帰モデルを $y = f(x)$ とすると、局所多項式回帰の目的は次のような多項式を見つけることです： $$ y = \\beta_0 + \\beta_1(x - x_0) + \\beta_2(x - x_0)^2 + \\cdots + \\beta_d(x - x_0)^d $$ 各データ点に対して、そのデータ点の近傍でのみこれを行うため、重み関数 $K(x_i, x_0)$ を使用して、近い点ほど重みが大きくなるよう最小二乗によって係数を調整します。\n",
        "\n",
        "Pythonで学ぶ効果検証入門は、因果推論やモデル評価のためのテクニックを学ぶのに適した入門書です。本書の中で局所多項式回帰は、データのノイズ除去やスムージングといった、モデルの軽微な調整に使用される可能性があります。\n",
        "\n",
        "局所多項式回帰の代表的な用途としては、ノイズ除去、スムージング、パターンの視覚化、信号処理などが挙げられます。特に、データの局所性を重視してスムージングを行いたい場合に有用です。"
      ]
    },
    {
      "cell_type": "code",
      "execution_count": 47,
      "id": "498a4834",
      "metadata": {
        "id": "498a4834",
        "colab": {
          "base_uri": "https://localhost:8080/",
          "height": 1000
        },
        "outputId": "6f1f2ac1-885c-451b-d9c8-d83abc50bff7"
      },
      "outputs": [
        {
          "output_type": "stream",
          "name": "stdout",
          "text": [
            "サンプルデータ X: [0.00469548 0.0187898  0.02010755 0.0202184  0.03918779 0.06022547\n",
            " 0.0641475  0.07103606 0.0871293  0.09394051 0.09609841 0.09710128\n",
            " 0.10204481 0.11037514 0.11827443 0.11872772 0.12019656 0.1289263\n",
            " 0.13179786 0.13818295 0.14335329 0.15896958 0.16130952 0.18319136\n",
            " 0.19658236 0.20887676 0.21038256 0.24442559 0.2532916  0.26455561\n",
            " 0.26538949 0.28280696 0.28940609 0.2961402  0.31542835 0.31798318\n",
            " 0.31856895 0.3595079  0.36371077 0.36872517 0.38344152 0.41426299\n",
            " 0.41466194 0.4236548  0.43703195 0.43758721 0.43860151 0.45615033\n",
            " 0.46147936 0.46631077 0.4686512  0.52184832 0.52324805 0.52889492\n",
            " 0.54488318 0.5488135  0.56660145 0.56804456 0.56843395 0.57019677\n",
            " 0.5759465  0.58651293 0.60276338 0.60484552 0.61209572 0.616934\n",
            " 0.6176355  0.63992102 0.64589411 0.65310833 0.65632959 0.66676672\n",
            " 0.66741038 0.67063787 0.6818203  0.69247212 0.6976312  0.71518937\n",
            " 0.7163272  0.73926358 0.77423369 0.77815675 0.78052918 0.79172504\n",
            " 0.79915856 0.82099323 0.82894003 0.83261985 0.83794491 0.87001215\n",
            " 0.891773   0.92559664 0.9292962  0.94374808 0.94466892 0.96366276\n",
            " 0.97645947 0.97676109 0.97861834 0.98837384]\n",
            "ターゲットデータ T: [-0.08701672  0.20786838  0.17256985 -0.02692984  0.39256897  0.5590303\n",
            "  0.51010428  0.41366794  0.41343594  0.66201029  0.52746035  0.69519828\n",
            "  0.61895814  0.73690228  0.71224011  0.74935525  0.68649688  0.90292098\n",
            "  0.74934601  0.80338475  0.9720864   0.70606525  0.72165955  1.01012194\n",
            "  0.8268897   1.16116603  0.92781624  0.9246412   1.19208034  1.14387233\n",
            "  1.18208457  1.06943434  0.88338186  1.14927684  0.88988208  0.9903954\n",
            "  1.00334403  0.75697943  0.81685127  0.82664907  0.70626785  0.40308174\n",
            "  0.54069238  0.5941437   0.31594195  0.36721367  0.33276478  0.45696949\n",
            "  0.30690567  0.25084463  0.11870752 -0.08292138 -0.21298619 -0.17737336\n",
            " -0.3418708  -0.23427504 -0.34870321 -0.43546026 -0.37725484 -0.5362038\n",
            " -0.60840702 -0.47326138 -0.5850754  -0.54863667 -0.40919993 -0.57592996\n",
            " -0.76492418 -0.65849521 -0.9251765  -0.86649999 -0.8385715  -0.69500527\n",
            " -0.94282787 -0.96087429 -0.91948277 -1.00172992 -0.83368846 -1.08416877\n",
            " -1.09244879 -1.04150751 -1.03823335 -0.79143827 -0.88671672 -0.95707571\n",
            " -1.07522051 -0.81771601 -0.97951723 -1.02273529 -0.73237324 -0.69722211\n",
            " -0.53671514 -0.41877436 -0.34409331 -0.41123094 -0.44411874 -0.15817577\n",
            " -0.22771179 -0.21445108 -0.17949441 -0.07123646]\n",
            "予測結果 T_hat: [ 0.02506723  0.01321023 -0.00231473 -0.02363887 -0.05496403 -0.07069095\n",
            " -0.02761379  0.00475358  0.0298658   0.04983238  0.06601788  0.07935064\n",
            "  0.09049593  0.09996503  0.10820054  0.11567847  0.12311922  0.13219369\n",
            "  0.14959185  0.1694331   0.1160967   0.09115156  0.10476251  0.11236487\n",
            "  0.11862855  0.12473829  0.13117513  0.1382072   0.14603255  0.15483496\n",
            "  0.1648128   0.17619991  0.18928614  0.25934337  0.27509879  0.29223756\n",
            "  0.3111831   0.332574    0.35742905  0.38748968  0.36874998  0.35122922\n",
            "  0.36529875  0.36446397  0.36598876  0.3692817   0.40066128  0.40651047\n",
            "  0.41281755  0.41951317  0.4265589   0.43394335  0.4416822   0.44982258\n",
            "  0.48955387  0.49490741  0.50093723  0.50808143  0.51717842  0.53016099\n",
            "  0.55306579  0.53344803  0.51576338  0.50754738  0.5093024   0.5004367\n",
            "  0.48967228  0.49039647  0.47870375  0.46365952  0.44313765  0.41498875\n",
            "  0.44144819  0.45617993  0.46564247  0.4722196   0.47698008  0.48045379\n",
            "  0.48290648  0.48121422  0.48268335  0.50785477  0.50714655  0.50420041\n",
            "  0.49801262  0.4864773   0.46453869  0.41720151  0.4809413   0.52515117\n",
            "  0.55574909  0.57902899  0.5990392   0.62136698  0.64924101  0.60310469\n",
            "  0.52799444  0.69427623  0.6296582   0.63714372  0.63445035  0.63005708\n",
            "  0.62003963  0.63265482  0.64121127  0.64936334  0.65836962  0.67477369\n",
            "  0.70936247  0.71856723  0.73189693  0.7258943   0.71885642  0.71591113\n",
            "  0.71499722  0.71527809  0.73239833  0.72912436  0.72017136  0.73132519\n",
            "  0.69259935  0.71975236  0.73446124  0.74684178  0.75949612  0.77356397\n",
            "  0.79031714  0.81224869  0.84654367  0.88379884  0.8227639   0.78892905\n",
            "  0.76895776  0.79651727  0.80901371  0.81621658  0.81980607  0.81836003\n",
            "  0.80461634  0.82647131  0.84925117  0.8740729   0.90705992  0.95755166\n",
            "  0.93027931  0.88902575  0.86600077  0.84863217  0.83435495  0.82190859\n",
            "  0.81059092  0.79997028  0.78975619  0.77973239  0.76971455  0.75951106\n",
            "  0.74886025  0.73726481  0.72945634  0.71308668  0.73136985  0.72487368\n",
            "  0.73735228  0.75062071  0.76174905  0.77172762  0.78100633  0.78985875\n",
            "  0.80058917  0.80929165  0.81791673  0.82656867  0.83535067  0.8443718\n",
            "  0.85375445  0.86364374  0.89089112  0.90242594  0.91466556  0.92795738\n",
            "  0.94283813  0.96018468  0.98153427  1.00984807  0.98261544  0.97499234\n",
            "  0.96339582  0.95391743  0.94572752  0.93820874  0.93083736  0.92309467\n",
            "  0.91437557  0.90385781  0.89026361  0.87134269  0.84255125  0.85149017\n",
            "  0.88198596  0.90558651  0.92526641  0.94264523  0.95872359  0.98314316\n",
            "  0.99776448  1.01290037  1.02990251  1.05193037  1.09069646  1.10179107\n",
            "  0.95330227  0.98201935  0.99569668  0.99884176  0.99889605  0.99780009\n",
            "  0.99623718  0.99448691  0.99267245  1.0074748   1.00738204  1.00732894\n",
            "  1.00731572  1.00733706  1.00738413  1.00744562  1.00750816  1.00755628\n",
            "  1.0075721   1.00753483  1.0074199   1.04536098  1.04412747  1.04256485\n",
            "  1.04060955  1.03817684  1.03515182  1.03387539  1.02999678  1.02466509\n",
            "  1.01733164  1.00709814  0.99238998  0.97017697  0.93379153  0.96361342\n",
            "  1.00148822  1.03839311  1.06545273  1.08931993  1.11157119  1.13386553\n",
            "  1.1585942   1.19058249  1.16486233  1.15024068  1.14258211  1.13887666\n",
            "  1.13765076  1.13810667  1.13977852  1.14236482  1.14559956  1.14895272\n",
            "  1.14902852  1.1746436   1.16103838  1.15056372  1.14268324  1.13538421\n",
            "  1.12831181  1.12133236  1.11438816  1.10745822  1.10054622  1.08961658\n",
            "  1.08376807  1.0782448   1.07313756  1.06862438  1.06506574  1.06325305\n",
            "  1.0651875   1.0637578   1.050704    1.03532662  1.0162574   0.99104935\n",
            "  0.95455403  0.89350533  0.93786578  0.97814771  1.00072504  1.03000656\n",
            "  1.06223954  1.1025048   1.13955123  1.09668161  1.07153776  1.05445435\n",
            "  1.04165192  1.02345869  1.01447223  1.00685386  1.00021305  0.99428146\n",
            "  0.98886132  0.98379366  0.97893501  0.97413467  0.9692034   0.96385472\n",
            "  0.95756666  0.94917477  0.93525366  0.89880385  0.9445113   0.97694048\n",
            "  0.99314507  0.9882009   0.98252991  0.97999795  0.97869575  0.97800298\n",
            "  0.97764623  0.96894992  0.96730185  0.96561725  0.96386385  0.96201914\n",
            "  0.92702621  0.92332386  0.91960632  0.91586317  0.91208574  0.90826656\n",
            "  0.90439896  0.90047682  0.89649436  0.89244593  0.88832586  0.8841283\n",
            "  0.86927864  0.86487492  0.86050091  0.85614776  0.8518049   0.84745941\n",
            "  0.84309506  0.83869102  0.83421974  0.80280379  0.80029416  0.79767179\n",
            "  0.79484214  0.79164873  0.78780915  0.78275102  0.77510149  0.76050189\n",
            "  0.77500754  0.78981498  0.80137235  0.81242135  0.81106264  0.80864046\n",
            "  0.80988065  0.80365865  0.81820311  0.81272554  0.79847695  0.7880161\n",
            "  0.7793066   0.77154219  0.76433491  0.75747318  0.75083146  0.74433102\n",
            "  0.73792124  0.73157025  0.72526051  0.71898778  0.71276327  0.7066208\n",
            "  0.71022122  0.71172755  0.71153417  0.69154238  0.68623678  0.68058845\n",
            "  0.67465319  0.6684675   0.66205572  0.65543412  0.62080421  0.61402107\n",
            "  0.60732667  0.60070806  0.59415184  0.5876437   0.58116784  0.5747064\n",
            "  0.56823859  0.51353764  0.50979638  0.50619049  0.50267449  0.49919239\n",
            "  0.49566944  0.49199631  0.48799426  0.46814096  0.46650562  0.46036814\n",
            "  0.45577877  0.48622266  0.48107045  0.48211074  0.48590608  0.49232284\n",
            "  0.50211923  0.51698511  0.54042837  0.58061881  0.55573496  0.52347114\n",
            "  0.50028847  0.47000866  0.4510546   0.434338    0.41926507  0.40544723\n",
            "  0.39260553  0.38050749  0.36889019  0.35461747  0.34182369  0.35390619\n",
            "  0.33929898  0.34843575  0.35611976  0.36212604  0.36744676  0.35014479\n",
            "  0.35264118  0.35534491  0.35830225  0.36157275  0.36523788  0.36941412\n",
            "  0.37427544  0.38009528  0.37852742  0.36444631  0.38284578  0.41499956\n",
            "  0.43389726  0.3802162   0.34605035  0.32320715  0.30912186  0.30675771\n",
            "  0.2946297   0.27881716  0.26275522  0.24966292  0.24719613  0.21022389\n",
            "  0.1385334   0.17387457  0.2015359   0.21684976  0.22701837  0.23443587\n",
            "  0.24016437  0.24476142  0.24855381  0.25174848  0.25448425  0.25685841\n",
            "  0.22221517  0.22129347  0.22010546  0.21867523  0.2170206   0.21515458\n",
            "  0.21308642  0.21082234  0.20836603  0.20571906  0.09369155  0.08798377\n",
            "  0.08217456  0.07626468  0.07025459 -0.01775335 -0.02339164 -0.02895098\n",
            " -0.03443196 -0.0398351  -0.04516081 -0.05040934 -0.05558077 -0.06067494\n",
            " -0.06569138 -0.07062922 -0.1433081  -0.14493397 -0.14640266 -0.18136875\n",
            " -0.18003877 -0.17856022 -0.17690201 -0.17502214 -0.17286174 -0.17033448\n",
            " -0.16730611 -0.16355074 -0.15864443 -0.15165233 -0.13988804 -0.1101052\n",
            " -0.15109705 -0.19578577 -0.17942517 -0.17818283 -0.17947569 -0.18045749\n",
            " -0.17909362 -0.18092387 -0.18606019 -0.19117442 -0.19646384 -0.2020083\n",
            " -0.20785908 -0.21406496 -0.22068424 -0.22779504 -0.2355094  -0.24399776\n",
            " -0.25353698 -0.26461511 -0.27819163 -0.2964716  -0.32947112 -0.3173505\n",
            " -0.29829529 -0.27453911 -0.2445298  -0.26200887 -0.28344869 -0.2975767\n",
            " -0.30830894 -0.31712968 -0.3247284  -0.33147037 -0.33756738 -0.37444105\n",
            " -0.38027951 -0.38519365 -0.38924428 -0.39242516 -0.42891521 -0.4239811\n",
            " -0.41660408 -0.40312423 -0.35377057 -0.41497643 -0.39854039 -0.46505414\n",
            " -0.49896955 -0.4791136  -0.48375905 -0.49931338 -0.52748175 -0.5784959\n",
            " -0.57310989 -0.54483036 -0.52920203 -0.51883764 -0.51107579 -0.50467976\n",
            " -0.4989463  -0.49338009 -0.48753129 -0.48721166 -0.474573   -0.49577322\n",
            " -0.50890551 -0.5182092  -0.52529138 -0.5179552  -0.52148657 -0.52458375\n",
            " -0.52745133 -0.5302575  -0.5300562  -0.53397715 -0.53828645 -0.54332875\n",
            " -0.54976912 -0.55928441 -0.58168091 -0.56829215 -0.55264618 -0.55451962\n",
            " -0.553924   -0.5495875  -0.54181237 -0.52892894 -0.50616417 -0.45802332\n",
            " -0.46514929 -0.52990213 -0.57173107 -0.60190631 -0.6085096  -0.75851521\n",
            " -0.66292714 -0.63910868 -0.62639148 -0.62391615 -0.61914368 -0.61592487\n",
            " -0.61379086 -0.65515561 -0.65850384 -0.66224906 -0.66628922 -0.67053416\n",
            " -0.67489428 -0.67926946 -0.74043237 -0.74089078 -0.74016322 -0.73775359\n",
            " -0.75592766 -0.7419659  -0.71934313 -0.67742689 -0.70576867 -0.75476125\n",
            " -0.79019886 -0.8245944  -0.86077733 -0.90876022 -0.88646168 -0.86112507\n",
            " -0.8488805  -0.84346381 -0.84266233 -0.84621469 -0.85658566 -0.85398699\n",
            " -0.85454891 -0.84589966 -0.8417205  -0.84520898 -0.84872354 -0.84920645\n",
            " -0.84874636 -0.84735812 -0.84478845 -0.84037953 -0.83244584 -0.81513246\n",
            " -0.73128383 -0.891876   -0.87666555 -0.90415372 -0.95812259 -0.91596415\n",
            " -0.90168068 -0.89516161 -0.90493725 -0.90532486 -0.90671505 -0.90876404\n",
            " -0.91125076 -0.9139923  -0.91677216 -0.91921142 -0.92464642 -0.92856703\n",
            " -0.93152172 -0.93415721 -0.9368958  -0.94013205 -0.94437355 -0.95044592\n",
            " -0.95996056 -0.98036814 -0.9936412  -0.96825451 -0.94421382 -0.91749956\n",
            " -0.88255169 -0.83795863 -0.88230658 -0.90818898 -0.92655702 -0.94119084\n",
            " -0.95374979 -0.96508138 -0.97566731 -0.98580471 -0.99568959 -1.00545906\n",
            " -1.01521452 -1.02503532 -1.04243337 -1.05127001 -1.06018566 -1.06931201\n",
            " -1.07895445 -1.08262683 -1.08501426 -1.07476366 -1.06785472 -1.06241931\n",
            " -1.05795484 -1.05421521 -1.05104844 -1.04835023 -1.04604511 -1.04407694\n",
            " -1.04240341 -1.04099267 -1.03982111 -1.03887198 -1.03813451 -1.03760353\n",
            " -1.03727936 -1.03973694 -1.03956899 -1.03958507 -1.0398038  -1.04025541\n",
            " -1.04035807 -1.04030554 -1.03778971 -1.03527691 -1.03275801 -1.03022741\n",
            " -1.02768162 -1.02511846 -1.02253666 -1.01993564 -0.99199591 -0.98829665\n",
            " -0.98475615 -0.98136255 -0.97810699 -0.97498318 -0.95622494 -0.95390006\n",
            " -0.95177099 -0.94982889 -0.94806842 -0.94648802 -0.94509048 -0.94388388\n",
            " -0.94288313 -0.94211235 -0.94160881 -0.94142929 -0.94166092 -0.94244055\n",
            " -0.94399128 -0.94915005 -0.95373247 -0.96140137 -0.97560541 -1.00731385\n",
            " -0.99580494 -0.93779694 -0.88916679 -0.82946987 -0.84507632 -0.87975909\n",
            " -0.88747274 -0.89529974 -0.90409598 -0.91240527 -0.92018591 -0.9275283\n",
            " -0.93449416 -0.94108076 -0.94718657 -0.95252923 -0.95641257 -0.95722339\n",
            " -0.96160638 -0.96901947 -0.97906362 -0.99206446 -1.00888145 -1.02203777\n",
            " -1.05815749 -1.04805488 -1.0200065  -1.00089497 -0.98653193 -0.99169178\n",
            " -0.98307665 -0.97540645 -0.98319906 -0.97699761 -0.97100067 -0.96508995\n",
            " -0.95915447 -0.95307877 -0.94673041 -0.93994392 -0.93249641 -0.90095396\n",
            " -0.8930752  -0.88365451 -0.87147756 -0.85401726 -0.82494818 -0.84862352\n",
            " -0.87487496 -0.89439055 -0.91022606 -0.9242833  -0.9381264  -0.95376109\n",
            " -0.97603948 -0.96229842 -0.96188531 -0.98078818 -1.00683589 -0.95458507\n",
            " -0.90315671 -0.85981382 -0.80922435 -0.7413515  -0.78365463 -0.81085672\n",
            " -0.82547804 -0.83405609 -0.83925782 -0.84236819 -0.84407808 -0.84478847\n",
            " -0.84474508 -0.84410414 -0.84296712 -0.84140017 -0.83944549 -0.83712826\n",
            " -0.83446081 -0.83144535 -0.82807545 -0.82433692 -0.78589705 -0.78059963\n",
            " -0.77510819 -0.76942203 -0.76353758 -0.7574481  -0.75114319 -0.74460793\n",
            " -0.73782144 -0.73075472 -0.72336702 -0.71559996 -0.70736737 -0.69853677\n",
            " -0.70389864 -0.70898901 -0.71189978 -0.71311315 -0.71294051 -0.71158571\n",
            " -0.70918102 -0.6623642  -0.65644128 -0.6502128  -0.64366469 -0.58120606\n",
            " -0.5752299  -0.56957541 -0.56422989 -0.55918831 -0.55445403 -0.55004034\n",
            " -0.54597331 -0.5422967  -0.53424544 -0.53627765 -0.53242651 -0.52835861\n",
            " -0.52415613 -0.51987215 -0.51554223 -0.51119085 -0.50683521 -0.50248757\n",
            " -0.49815675 -0.49384914 -0.48956931 -0.48532055 -0.48110513 -0.47692462\n",
            " -0.47277999 -0.43827319 -0.43534482 -0.43257205 -0.42993951 -0.42743377\n",
            " -0.42504328 -0.42275843 -0.42057172 -0.41847833 -0.41647706 -0.4145722\n",
            " -0.41277691 -0.41111989 -0.40965892 -0.40851075 -0.40792487 -0.4084959\n",
            " -0.41194505 -0.41365486 -0.39814863 -0.37236026 -0.35287328 -0.35590371\n",
            " -0.36534589 -0.37068683 -0.37444009 -0.37752229 -0.38036144 -0.38319805\n",
            " -0.38619146 -0.38946435 -0.39312334 -0.39726613 -0.40197069 -0.40722092\n",
            " -0.4124089  -0.41549003 -0.43321475 -0.41679366 -0.40669267 -0.39799052\n",
            " -0.38977434 -0.38166526 -0.37343181 -0.34710391 -0.33687334 -0.31221665\n",
            " -0.30092627 -0.28952388 -0.2778751  -0.2657951  -0.25301575 -0.23912544\n",
            " -0.22344966 -0.18953256 -0.17365473 -0.16546726 -0.18309562 -0.19420165\n",
            " -0.17504326 -0.17849997 -0.18168565 -0.18475762 -0.18785468 -0.19112363\n",
            " -0.19475475 -0.19905593 -0.20468151 -0.21395548 -0.21275186 -0.19463687\n",
            " -0.18529123 -0.18635222 -0.18235478 -0.17645904 -0.16901811 -0.15981049\n",
            " -0.14827411 -0.13342337 -0.11354446 -0.08545695 -0.09103362 -0.11061665\n",
            " -0.12254147 -0.13056085 -0.13631964 -0.14065276 -0.14402917 -0.14673257\n",
            " -0.1489447  -0.15078736 -0.15234522 -0.15367899]\n"
          ]
        },
        {
          "output_type": "display_data",
          "data": {
            "text/plain": [
              "<Figure size 1000x600 with 1 Axes>"
            ],
            "image/png": "[encoded data removed]"
          },
          "metadata": {}
        }
      ],
      "source": [
        "# 必要なライブラリのインポート\n",
        "import numpy as np\n",
        "import matplotlib.pyplot as plt\n",
        "from sklearn.neighbors import KNeighborsRegressor\n",
        "\n",
        "# データセットの作成\n",
        "def true_function(x):\n",
        "    \"\"\"真の関数を定義します。\"\"\"\n",
        "    return np.sin(2 * np.pi * x)\n",
        "\n",
        "# シードをセットして再現性を保証\n",
        "np.random.seed(0)\n",
        "\n",
        "# サンプルデータの生成\n",
        "n_samples = 100\n",
        "X = np.sort(np.random.rand(n_samples))  # 偶然の散布X\n",
        "T = true_function(X) + np.random.randn(n_samples) * 0.1  # 真の関数にノイズを加える\n",
        "\n",
        "print(\"サンプルデータ X:\", X)\n",
        "print(\"ターゲットデータ T:\", T)\n",
        "\n",
        "# 局所多項式回帰（ここでは単純にk-NN）\n",
        "knn = KNeighborsRegressor(n_neighbors=5, weights='distance')\n",
        "X_test = np.linspace(0, 1, 1000).reshape(-1, 1)  # テストデータ\n",
        "knn.fit(X.reshape(-1, 1), T)\n",
        "T_hat = knn.predict(X_test)\n",
        "\n",
        "print(\"予測結果 T_hat:\", T_hat)\n",
        "\n",
        "# 結果のプロット\n",
        "plt.figure(figsize=(10, 6))\n",
        "plt.scatter(X, T, color='red', s=20, label='Noisy data')\n",
        "plt.plot(X_test, true_function(X_test.flatten()), color='green', lw=2, label='True function')\n",
        "plt.plot(X_test, T_hat, color='blue', lw=2, label='Local Polynomial Regression')\n",
        "plt.xlabel('x')\n",
        "plt.ylabel('y')\n",
        "plt.title('Local Polynomial Regression')\n",
        "plt.legend()\n",
        "plt.show()\n"
      ]
    },
    {
      "cell_type": "markdown",
      "id": "e1f2ffbe",
      "metadata": {
        "id": "e1f2ffbe"
      },
      "source": [
        "# 局所線形回帰"
      ]
    },
    {
      "cell_type": "markdown",
      "id": "0001bb8a",
      "metadata": {
        "id": "0001bb8a"
      },
      "source": [
        "### 局所線形回帰 (Local Linear Regression)\n",
        "\n",
        "局所線形回帰は、非線形でノイズの多いデータに対して線形回帰を適用して、その局所的な関係性を捉えるための手法です。主に、滑らかな曲線の近似を目指すために使用されます。局所線形回帰では、データの各点周辺で線形回帰を行い、その結果を用いてスムーズな曲線を生成します。\n",
        "\n",
        "#### 理論\n",
        "局所線形回帰は、データの各点$x_i$の周りに重み付けされた線形回帰を適用します。重みはカーネル関数$K_h(x - x_i)$によって決定され、$h$はバンド幅と呼ばれるパラメータです。このバンド幅$h$が重要で、$h$が大きいほど滑らかな曲線が作られますが、詳細を捉える能力が減少します。\n",
        "\n",
        "線形回帰の目的は、あるデータ点$x_i$の周りで次のようなモデルをフィットすることです：\n",
        "\n",
        "- $y = \beta_0 + \beta_1(x - x_i)$\n",
        "\n",
        "この回帰における目的は、以下の重み付き二乗誤差を最小化することです：\n",
        "\n",
        "- $\\sum_{i=1}^{n} K_h(x - x_i)(y_i - \beta_0 - \beta_1(x - x_i))^2$\n",
        "\n",
        "式を最小化することにより、パラメータ$\\beta$が求められます。\n",
        "\n",
        "#### 使用用途\n",
        "局所線形回帰は、データの局所的な滑らかさを維持しながら、ノイズの多いデータの近似に利用されます。予測、平滑化、異常検知など様々な用途で使われます。"
      ]
    },
    {
      "cell_type": "code",
      "execution_count": 48,
      "id": "8960b88a",
      "metadata": {
        "id": "8960b88a",
        "colab": {
          "base_uri": "https://localhost:8080/",
          "height": 1000
        },
        "outputId": "32ba8f65-bfe0-4822-d761-08c1f873e549"
      },
      "outputs": [
        {
          "output_type": "display_data",
          "data": {
            "text/plain": [
              "<Figure size 640x480 with 1 Axes>"
            ],
            "image/png": "[encoded data removed]"
          },
          "metadata": {}
        },
        {
          "output_type": "stream",
          "name": "stdout",
          "text": [
            "Sample Data X: [[0.093949  ]\n",
            " [0.10109199]\n",
            " [0.19593896]\n",
            " [0.30112736]\n",
            " [0.35518029]\n",
            " [0.4356465 ]\n",
            " [0.48049204]\n",
            " [0.48550638]\n",
            " [0.51022405]\n",
            " [0.55187571]\n",
            " [0.59137213]\n",
            " [0.59363859]\n",
            " [0.60098281]\n",
            " [0.64463149]\n",
            " [0.69091476]\n",
            " [0.71676644]\n",
            " [0.79484792]\n",
            " [0.80654759]\n",
            " [0.98291181]\n",
            " [1.04438378]\n",
            " [1.05191281]\n",
            " [1.22212796]\n",
            " [1.26645801]\n",
            " [1.32277806]\n",
            " [1.41403481]\n",
            " [1.48070099]\n",
            " [1.57714175]\n",
            " [1.7975395 ]\n",
            " [1.81855385]\n",
            " [1.84362585]\n",
            " [1.91720759]\n",
            " [2.0733097 ]\n",
            " [2.118274  ]\n",
            " [2.18515977]\n",
            " [2.18793606]\n",
            " [2.19300757]\n",
            " [2.28075166]\n",
            " [2.30739681]\n",
            " [2.33155386]\n",
            " [2.34325601]\n",
            " [2.60924161]\n",
            " [2.6444746 ]\n",
            " [2.72441591]\n",
            " [2.74406752]\n",
            " [2.84022281]\n",
            " [2.84216974]\n",
            " [2.85098385]\n",
            " [3.01381688]\n",
            " [3.0242276 ]\n",
            " [3.06047861]\n",
            " [3.08466998]\n",
            " [3.08817749]\n",
            " [3.19960511]\n",
            " [3.22947057]\n",
            " [3.26554163]\n",
            " [3.28164795]\n",
            " [3.33383358]\n",
            " [3.35318935]\n",
            " [3.4091015 ]\n",
            " [3.48815598]\n",
            " [3.57594683]\n",
            " [3.6963179 ]\n",
            " [3.87116845]\n",
            " [3.89078375]\n",
            " [3.90264588]\n",
            " [3.95862519]\n",
            " [3.99579282]\n",
            " [4.10496615]\n",
            " [4.16309923]\n",
            " [4.18972454]\n",
            " [4.35006074]\n",
            " [4.458865  ]\n",
            " [4.62798319]\n",
            " [4.71874039]\n",
            " [4.72334459]\n",
            " [4.8183138 ]\n",
            " [4.88229733]\n",
            " [4.88380544]\n",
            " [4.89309171]\n",
            " [4.94186919]]\n",
            "Noisy Observations y: [-0.0688184  -0.24433663  0.23017284  0.21624084  0.02171974  0.51455305\n",
            "  0.28075588  0.47704536  0.63419089  0.55008198  0.78538079  0.31241563\n",
            "  0.64592167  0.4639419   0.46308299  0.54118028  0.65144659  0.7331355\n",
            "  0.59908582  1.04478039  0.96150588  0.63257976  1.25169588  1.34857864\n",
            "  1.22349397  0.95995919  0.78582934  1.18529406  0.88882939  1.20750133\n",
            "  0.98225223  1.07170262  0.92511348  0.95845518  0.81763705  1.16976576\n",
            "  0.78377341  0.82115441  1.10094406  0.44664442  0.25346344  0.67077375\n",
            "  0.17055626  0.77586189  0.2141048   0.14547788  0.67112396  0.42353132\n",
            "  0.49060759  0.26223405 -0.1153532   0.43540276 -0.11158059  0.07272643\n",
            "  0.06581855 -0.17059989 -0.06824314 -0.02557992 -0.1890446  -0.55954763\n",
            " -0.361177   -0.26143259 -0.80546704 -0.71097358 -0.77671519 -0.3592654\n",
            " -0.61958686 -0.7396293  -1.00687876 -0.75864235 -1.06994064 -0.96166845\n",
            " -1.12360916 -0.86469317 -0.88462182 -1.03605496 -0.90639893 -1.20395644\n",
            " -1.28196916 -0.88590642]\n",
            "KDE Samples: [[ 5.27317438]\n",
            " [ 3.38811048]\n",
            " [ 3.04448168]\n",
            " [ 2.20533886]\n",
            " [ 3.39693843]\n",
            " [ 1.04501936]\n",
            " [ 2.213272  ]\n",
            " [ 0.74577272]\n",
            " [ 1.14600421]\n",
            " [ 4.97692291]\n",
            " [ 3.88131996]\n",
            " [ 2.11004646]\n",
            " [ 0.51068868]\n",
            " [ 0.84688796]\n",
            " [ 0.34667008]\n",
            " [ 2.37751192]\n",
            " [ 2.54368929]\n",
            " [ 3.26051937]\n",
            " [ 1.43923509]\n",
            " [ 0.51792387]\n",
            " [-0.130706  ]\n",
            " [ 0.67638724]\n",
            " [ 2.49514312]\n",
            " [ 2.31238266]\n",
            " [ 2.80266918]\n",
            " [ 4.57495552]\n",
            " [ 4.64321116]\n",
            " [ 0.68758672]\n",
            " [ 2.51744011]\n",
            " [ 0.97546802]\n",
            " [-0.17033875]\n",
            " [ 3.78397185]\n",
            " [ 0.90260977]\n",
            " [ 2.30780664]\n",
            " [ 3.76105915]\n",
            " [ 2.96080031]\n",
            " [ 3.29779935]\n",
            " [ 4.52817856]\n",
            " [ 0.90340945]\n",
            " [ 3.69214785]\n",
            " [ 0.62447447]\n",
            " [ 4.73340189]\n",
            " [ 3.11103514]\n",
            " [-0.03145431]\n",
            " [ 5.39447958]\n",
            " [ 3.94891079]\n",
            " [ 0.64523068]\n",
            " [ 0.07333543]\n",
            " [ 2.90500704]\n",
            " [-0.09195502]\n",
            " [ 0.8658245 ]\n",
            " [ 2.02549556]\n",
            " [ 2.18939523]\n",
            " [ 2.65477138]\n",
            " [ 0.90365932]\n",
            " [ 2.15930187]\n",
            " [ 3.39825534]\n",
            " [ 0.8570654 ]\n",
            " [ 2.05004497]\n",
            " [ 0.33796395]\n",
            " [ 3.05503233]\n",
            " [ 2.04702605]\n",
            " [ 1.87402984]\n",
            " [ 0.78530406]\n",
            " [ 0.85558411]\n",
            " [ 2.38746705]\n",
            " [ 1.66311077]\n",
            " [ 4.86701389]\n",
            " [ 3.89584107]\n",
            " [ 2.1018596 ]\n",
            " [ 5.60593935]\n",
            " [ 0.6755387 ]\n",
            " [ 2.51401851]\n",
            " [ 2.65550716]\n",
            " [ 5.12916821]\n",
            " [ 1.26472609]\n",
            " [ 0.02904155]\n",
            " [ 1.54247048]\n",
            " [ 0.04582166]\n",
            " [ 5.23343094]]\n"
          ]
        }
      ],
      "source": [
        "# Pythonによる局所線形回帰の実装例\n",
        "import numpy as np\n",
        "from sklearn.neighbors import KernelDensity\n",
        "import matplotlib.pyplot as plt\n",
        "\n",
        "# サンプルデータ\n",
        "np.random.seed(0)\n",
        "X = np.sort(5 * np.random.rand(80, 1), axis=0)\n",
        "T = np.linspace(0, 5, 100)[:, np.newaxis]\n",
        "\n",
        "# サンプルデータにノイズを加える\n",
        "y = np.sin(X).ravel() + 0.2 * np.random.randn(80)\n",
        "\n",
        "# カーネル密度推定器を用意\n",
        "kde = KernelDensity(kernel='gaussian', bandwidth=0.5).fit(X)\n",
        "\n",
        "# 局所回帰を適用した予測用データの作成\n",
        "kde_samples = kde.sample(X.shape[0])\n",
        "\n",
        "# プロット\n",
        "plt.figure()\n",
        "plt.scatter(X, y, s=30, edgecolor='k', facecolor='none', label='input data')\n",
        "plt.plot(T, np.sin(T), 'r', lw=2, label='sin curve')\n",
        "plt.title('Local Linear Regression Example')\n",
        "plt.legend()\n",
        "plt.show()\n",
        "\n",
        "# データの確認\n",
        "print(\"Sample Data X:\", X)\n",
        "print(\"Noisy Observations y:\", y)\n",
        "print(\"KDE Samples:\", kde_samples)"
      ]
    },
    {
      "cell_type": "markdown",
      "id": "55fd22f3",
      "metadata": {
        "id": "55fd22f3"
      },
      "source": [
        "# 線形モデル"
      ]
    },
    {
      "cell_type": "markdown",
      "id": "29f3049b",
      "metadata": {
        "id": "29f3049b"
      },
      "source": [
        "### 線形モデルの説明\n",
        "\n",
        "線形モデルは、目的変数（出力変数）を複数の説明変数（入力変数）の線形結合で表現する統計モデルです。数学的には、次のように表されます。\n",
        "\n",
        "- **インライン数式**: $y = \\beta_0 + \\beta_1 x_1 + \\beta_2 x_2 + \\cdots + \\beta_n x_n + \\epsilon$\n",
        "- **ブロック数式**:\n",
        "$$\n",
        "y = \\beta_0 + \\beta_1 x_1 + \\beta_2 x_2 + \\cdots + \\beta_n x_n + \\epsilon\n",
        "$$\n",
        "\n",
        "ここで、$y$は目的変数、$x_1, x_2, \\ldots, x_n$は説明変数、$\\beta_0, \\beta_1, \\ldots, \\beta_n$はモデルの係数、$\\epsilon$は誤差項を表します。\n",
        "\n",
        "線形モデルはデータの傾向を捉えるのに優れ、**回帰分析**や**分散分析**のような手法で広く使われています。また、予測や因果関係の評価にも用いられます。\n",
        "\n",
        "『Pythonで学ぶ効果検証入門』では、効果検証における基礎的な統計方法として、このような線形モデルを理解し、データの中から因果関係を明らかにする手法を学びます。"
      ]
    },
    {
      "cell_type": "code",
      "execution_count": 49,
      "id": "1b6783b5",
      "metadata": {
        "id": "1b6783b5",
        "colab": {
          "base_uri": "https://localhost:8080/"
        },
        "outputId": "6e79b2fd-4704-4afa-df31-e29bcdae06e1"
      },
      "outputs": [
        {
          "output_type": "stream",
          "name": "stdout",
          "text": [
            "Xの形状: (100, 1)\n",
            "Yの形状: (100, 1)\n",
            "切片（\beta_0）: [0.02221511]\n",
            "係数（\beta_1）: [[2.4936935]]\n",
            "実際の値: [1.25551878 1.87805606 1.55347468 1.20858359 1.20796222]\n",
            "予測値: [1.39078778 1.80567818 1.52532222 1.38098676 1.07868033]\n"
          ]
        }
      ],
      "source": [
        "# 線形モデルの基本を理解するためのPythonコード\n",
        "import numpy as np\n",
        "import pandas as pd\n",
        "from sklearn.linear_model import LinearRegression\n",
        "\n",
        "# ダミーデータを生成\n",
        "np.random.seed(0)\n",
        "X = np.random.rand(100, 1)  # 説明変数\n",
        "Y = 2.5 * X + np.random.randn(100, 1) * 0.1  # 目的変数\n",
        "\n",
        "# 行列の形状を出力\n",
        "print('Xの形状:', X.shape)\n",
        "print('Yの形状:', Y.shape)\n",
        "\n",
        "# 線形回帰モデルの作成\n",
        "model = LinearRegression()\n",
        "\n",
        "# モデルの学習\n",
        "model.fit(X, Y)\n",
        "\n",
        "# 学習した係数を出力\n",
        "print('切片（\\beta_0）:', model.intercept_)\n",
        "print('係数（\\beta_1）:', model.coef_)\n",
        "\n",
        "# 予測を実行\n",
        "Y_pred = model.predict(X)\n",
        "\n",
        "# 最初の5つの実際の値と予測値を出力\n",
        "print('実際の値:', Y[:5].flatten())\n",
        "print('予測値:', Y_pred[:5].flatten())\n"
      ]
    },
    {
      "cell_type": "markdown",
      "id": "17f4d0b8",
      "metadata": {
        "id": "17f4d0b8"
      },
      "source": [
        "# バリアンス"
      ]
    },
    {
      "cell_type": "markdown",
      "id": "825c4b96",
      "metadata": {
        "id": "825c4b96"
      },
      "source": [
        "### バリアンス（分散）\n",
        "\n",
        "バリアンスはデータのばらつきを示す指標です。統計学における分散は、データセット内の各データポイントが平均からどれだけ離れているかを計測します。分散は次の数式で表されます。\n",
        "\n",
        "#### インライン数式\n",
        "\n",
        "分散 \\( \\sigma^2 \\) は \\( \\sigma^2 = \\frac{1}{N} \\sum_{i=1}^{N} (x_i - \\mu)^2 \\) で計算されます。\n",
        "\n",
        "#### ブロック数式\n",
        "\n",
        "$$\n",
        "\\sigma^2 = \\frac{1}{N} \\sum_{i=1}^{N} (x_i - \\mu)^2\n",
        "$$\n",
        "\n",
        "ここで、\\( N \\) はデータポイントの数、\\( x_i \\) は各データポイント、\\( \\mu \\) はデータの平均値です。\n",
        "\n",
        "分散の用途としては、データの散らばり具合を把握するために用いられます。特に、統計的仮説検定や回帰分析において重要な役割を果たします。\n",
        "\n",
        "**Pythonで学ぶ効果検証入門との関係性**\n",
        "\n",
        "本書では、効果検証においてデータのばらつきを評価する際に、分散がどのように活用されるか解説しています。分散は、介入の効果の有無を検証するための基礎的な統計量です。具体的な事例を通して、分散の計算とその解釈が示されています。"
      ]
    },
    {
      "cell_type": "code",
      "execution_count": 51,
      "id": "e563da7a",
      "metadata": {
        "id": "e563da7a",
        "colab": {
          "base_uri": "https://localhost:8080/"
        },
        "outputId": "517f6a11-e937-4fad-aee4-08676984cf5e"
      },
      "outputs": [
        {
          "output_type": "stream",
          "name": "stdout",
          "text": [
            "データ: [60, 65, 70, 75, 80]\n",
            "平均: 70.0\n",
            "分散: 50.0\n",
            "手動計算による分散: 50.0\n",
            "各データ点の平均からの偏差の二乗: [100.0, 25.0, 0.0, 25.0, 100.0]\n",
            "計算ステップを追った分散: 50.0\n"
          ]
        }
      ],
      "source": [
        "# Python で分散を計算するコード例\n",
        "import numpy as np\n",
        "\n",
        "# データセット\n",
        "データ = [60, 65, 70, 75, 80]\n",
        "# データセットを表示\n",
        "print('データ:', データ)\n",
        "\n",
        "# 平均を計算\n",
        "平均 = np.mean(データ)\n",
        "print('平均:', 平均)\n",
        "\n",
        "# 分散を計算\n",
        "# NumPy を使ってデータの分散を計算\n",
        "分散 = np.var(データ)\n",
        "print('分散:', 分散)\n",
        "\n",
        "# 分散の手動計算\n",
        "# すべてのデータ点について、平均からの差の二乗を計算し、その平均\n",
        "分散_手動計算 = sum((x - 平均) ** 2 for x in データ) / len(データ)\n",
        "print('手動計算による分散:', 分散_手動計算)\n",
        "\n",
        "# 分散がどのように計算されているかを確認\n",
        "# ここでは、個々のステップを手動で実行し、概念の理解を深めます\n",
        "データ偏差二乗 = [(x - 平均) ** 2 for x in データ]\n",
        "print('各データ点の平均からの偏差の二乗:', データ偏差二乗)\n",
        "\n",
        "# 偏差の二乗の平均を計算\n",
        "分散_手順検証 = sum(データ偏差二乗) / len(データ)\n",
        "print('計算ステップを追った分散:', 分散_手順検証)"
      ]
    },
    {
      "cell_type": "markdown",
      "id": "ebb7c808",
      "metadata": {
        "id": "ebb7c808"
      },
      "source": [
        "# 潜在スコア"
      ]
    },
    {
      "cell_type": "markdown",
      "id": "76e30e9e",
      "metadata": {
        "id": "76e30e9e"
      },
      "source": [
        "### 潜在スコアとは\n",
        "\n",
        "潜在スコア（Propensity Score）とは、統計学や因果推論の分野で使用される概念で、特に観察データを使用した因果推論において重要な役割を果たします。\n",
        "潜在スコアは、観察データにおける処置（または介入）を受ける確率を示すスコアのことです。特に、処置群と非処置群を比較する際、観測されない交絡因子を制御する目的で使われます。このスコアを用いることで、対象群の選択バイアスを減少させ、より信頼性の高い因果効果の推定を可能にします。\n",
        "\n",
        "インライン数式としては、潜在スコアは処置 $D$ がこの人に対して与えられる条件付き確率として定義されます： $e(x) = P(D=1 \\mid X=x)$。\n",
        "\n",
        "ブロック数式では、潜在スコアの定義は次のように示されます：\n",
        "$$\n",
        "e(x) = P(D=1 \\mid X=x)\n",
        "$$\n",
        "\n",
        "#### 使用用途\n",
        "- **マッチング**: 潜在スコアを使って、処置群と対照群をマッチングすることで、群間の比較が容易になります。\n",
        "- **重み付け**: 潜在スコアを用いて、サンプルに重みを付けて分析することで、サンプルのバイアスを調整します。\n",
        "- **調整**: 回帰分析等で共変量として利用し、交絡因子の影響を取り除くことができます。\n",
        "\n",
        "#### Pythonで学ぶ効果検証入門との関係性\n",
        "この書籍では、潜在スコアを使って因果推論を行う方法について、具体的なコード例を用いて解説しています。実際のデータに基づく分析を通じて理論と実践を学ぶことができます。"
      ]
    },
    {
      "cell_type": "code",
      "execution_count": 52,
      "id": "bc2b1d7d",
      "metadata": {
        "id": "bc2b1d7d",
        "colab": {
          "base_uri": "https://localhost:8080/"
        },
        "outputId": "adbd25e9-3201-4022-9658-2e6a5c076924"
      },
      "outputs": [
        {
          "output_type": "stream",
          "name": "stdout",
          "text": [
            "### ダミーデータによる潜在スコアの推定結果 ###\n",
            "         X1        X2        X3  treatment  propensity_score\n",
            "0  1.764052  0.400157  0.978738          1          0.729574\n",
            "1  2.240893  1.867558 -0.977278          1          0.848121\n",
            "2  0.950088 -0.151357 -0.103219          1          0.671615\n",
            "3  0.410599  0.144044  1.454274          1          0.465660\n",
            "4  0.761038  0.121675  0.443863          1          0.598352\n"
          ]
        }
      ],
      "source": [
        "# Pythonによる潜在スコアの推定\n",
        "\n",
        "import numpy as np\n",
        "import pandas as pd\n",
        "from sklearn.linear_model import LogisticRegression\n",
        "\n",
        "# ダミーデータの準備\n",
        "np.random.seed(0)\n",
        "N = 100  # サンプルサイズ\n",
        "X = np.random.normal(0, 1, (N, 3))  # 共変量\n",
        "# 潜在スコアの確率（ロジスティック関数を使用）\n",
        "true_coef = np.array([0.5, -0.2, 0.1])\n",
        "logit_p = X.dot(true_coef)\n",
        "true_p = 1 / (1 + np.exp(-logit_p))\n",
        "\n",
        "# 処置の割り当て（潜在スコアに基づく確率で決定）\n",
        "treatment = np.random.binomial(1, true_p)\n",
        "\n",
        "# データフレームとして整理\n",
        "data = pd.DataFrame(X, columns=[\"X1\", \"X2\", \"X3\"])\n",
        "data['treatment'] = treatment\n",
        "\n",
        "# 潜在スコアの推定\n",
        "logistic = LogisticRegression()\n",
        "logistic.fit(X, treatment)\n",
        "propensity_score = logistic.predict_proba(X)[:, 1]\n",
        "data['propensity_score'] = propensity_score\n",
        "\n",
        "# 結果の表示\n",
        "print(\"### ダミーデータによる潜在スコアの推定結果 ###\")\n",
        "print(data.head())\n",
        "\n",
        "# このコードは以下のことをしています：\n",
        "# - ダミーデータの作成：共変量 X とそれに基づく潜在承認スコアを利用して処置を仮定\n",
        "# - ロジスティック回帰モデルを用いて、潜在スコアを推定\n",
        "# - 推定された潜在スコアがデータフレームに追加され、結果が表示されるようにしています"
      ]
    },
    {
      "cell_type": "markdown",
      "id": "df8175a2",
      "metadata": {
        "id": "df8175a2"
      },
      "source": [
        "# 共変量のバランステスト"
      ]
    },
    {
      "cell_type": "markdown",
      "id": "e40013c1",
      "metadata": {
        "id": "e40013c1"
      },
      "source": [
        "### 共変量のバランステストについての解説\n",
        "\n",
        "共変量のバランステストは、介入群と対照群の間で共変量が適切にマッチングされているかを確認するための手法です。これは主に、効果検証におけるバイアスを減らすために使用されます。具体的には、介入が行われていない基準条件の下で、共変量が均質であることを確認することが目的です。\n",
        "\n",
        "#### 理論的背景\n",
        "\n",
        "共変量がバランスしている場合、介入群と対照群の間に共変量の分布の違いはありません。これにより、介入の効果を観察するための信頼性が高まります。共変量のバランステストは、特にランダム化実験ではない観察研究で、重要なステップとなります。\n",
        "\n",
        "バランステストは通常、統計的手法を使って行われます。例えば、**t検定**や**カイ二乗検定**がよく使用されます。\n",
        "\n",
        "#### 数式\n",
        "\n",
        "インライン数式としては、例えば共変量の平均が等しいことをテストする場合、次のようになります: $\\bar{X}_1 = \\bar{X}_2$。\n",
        "\n",
        "ブロック数式の場合、共変量の2群間の平均の差を検定するt値は以下になります:\n",
        "\n",
        "$$\n",
        "t = \\frac{\\bar{X}_1 - \\bar{X}_2}{\\sqrt{\\frac{s_1^2}{n_1} + \\frac{s_2^2}{n_2}}}\n",
        "$$\n",
        "\n",
        "ここで、$\\bar{X}_1$ と $\\bar{X}_2$ はそれぞれ群1と群2の共変量の平均値、$s_1^2$ と $s_2^2$ は共変量の分散、$n_1$ と $n_2$ はそれぞれの群のサンプルサイズです。\n",
        "\n",
        "#### 使用用途\n",
        "\n",
        "共変量のバランステストは、因果推論における前処理として使われます。特に、ランダム化が不可能な観察研究において、介入と結果の関係を正しく推定するために欠かせません。\n",
        "\n",
        "**Pythonで学ぶ効果検証入門**という書籍においても、このテストがいかに重要かが強調されています。適切なバランステストが行われていないと、誤った結論につながる可能性があります。"
      ]
    },
    {
      "cell_type": "code",
      "execution_count": 53,
      "id": "3c8543ac",
      "metadata": {
        "id": "3c8543ac",
        "colab": {
          "base_uri": "https://localhost:8080/"
        },
        "outputId": "2cf29d30-1a0e-47a1-91c3-87b514422634"
      },
      "outputs": [
        {
          "output_type": "stream",
          "name": "stdout",
          "text": [
            "Mean difference: -2.222049552133541\n",
            "t-statistic: -1.53065199419143, p-value: 0.1274515248798546\n",
            "Fail to reject the null hypothesis: no significant difference in means.\n"
          ]
        }
      ],
      "source": [
        "# Pythonで共変量のバランステストを行う例\n",
        "\n",
        "import numpy as np\n",
        "from scipy import stats\n",
        "\n",
        "# サンプルデータの生成: 介入群と対照群のデータ\n",
        "np.random.seed(0)  # 結果の再現性を保持するためのシード設定\n",
        "intervention_group = np.random.normal(loc=50, scale=10, size=100)\n",
        "control_group = np.random.normal(loc=52, scale=10, size=100)\n",
        "\n",
        "# 両群の平均の計算\n",
        "diff_mean = np.mean(intervention_group) - np.mean(control_group)\n",
        "print(f'Mean difference: {diff_mean}')  # 平均の差を出力\n",
        "\n",
        "# t検定を行う\n",
        "# 帰無仮説: 両群の平均は同じ\n",
        "# 対立仮説: 両群の平均は異なる\n",
        "t_stat, p_value = stats.ttest_ind(intervention_group, control_group)\n",
        "print(f't-statistic: {t_stat}, p-value: {p_value}')  # t値とp値を出力\n",
        "\n",
        "# p値の判定基準として0.05を使用\n",
        "def interpret_p_value(p_value):\n",
        "    if p_value < 0.05:\n",
        "        return 'Reject the null hypothesis: significant difference in means.'\n",
        "    else:\n",
        "        return 'Fail to reject the null hypothesis: no significant difference in means.'\n",
        "\n",
        "result = interpret_p_value(p_value)\n",
        "print(result)  # 判定結果の出力"
      ]
    }
  ],
  "metadata": {
    "colab": {
      "provenance": [],
      "include_colab_link": true
    },
    "kernelspec": {
      "display_name": "Python 3",
      "language": "python",
      "name": "python3"
    }
  },
  "nbformat": 4,
  "nbformat_minor": 5
}